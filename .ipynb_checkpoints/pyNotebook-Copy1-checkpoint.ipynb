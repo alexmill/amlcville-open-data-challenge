{
 "cells": [
  {
   "cell_type": "code",
   "execution_count": 1,
   "metadata": {},
   "outputs": [],
   "source": [
    "%load_ext rpy2.ipython\n",
    "%matplotlib inline\n",
    "import os\n",
    "import numpy as np\n",
    "import pandas as pd\n",
    "from pandas.tseries.holiday import USFederalHolidayCalendar\n",
    "import datetime\n",
    "from copy import deepcopy\n",
    "from sklearn import linear_model\n",
    "from sklearn.metrics import make_scorer\n",
    "from sklearn.utils import check_array\n",
    "from matplotlib import pyplot as plt\n",
    "from scipy.optimize import minimize\n",
    "from sklearn.model_selection import KFold"
   ]
  },
  {
   "cell_type": "code",
   "execution_count": null,
   "metadata": {},
   "outputs": [],
   "source": []
  },
  {
   "cell_type": "code",
   "execution_count": null,
   "metadata": {},
   "outputs": [],
   "source": []
  },
  {
   "cell_type": "code",
   "execution_count": 2,
   "metadata": {},
   "outputs": [
    {
     "data": {
      "text/html": [
       "<div>\n",
       "<style>\n",
       "    .dataframe thead tr:only-child th {\n",
       "        text-align: right;\n",
       "    }\n",
       "\n",
       "    .dataframe thead th {\n",
       "        text-align: left;\n",
       "    }\n",
       "\n",
       "    .dataframe tbody tr th {\n",
       "        vertical-align: top;\n",
       "    }\n",
       "</style>\n",
       "<table border=\"1\" class=\"dataframe\">\n",
       "  <thead>\n",
       "    <tr style=\"text-align: right;\">\n",
       "      <th></th>\n",
       "      <th>date</th>\n",
       "      <th>num_clients</th>\n",
       "      <th>num_clients_lag_7</th>\n",
       "      <th>federal_holiday</th>\n",
       "      <th>big_holiday_before</th>\n",
       "      <th>big_holiday</th>\n",
       "      <th>big_holiday_after</th>\n",
       "      <th>day_of_week</th>\n",
       "      <th>quarter</th>\n",
       "    </tr>\n",
       "  </thead>\n",
       "  <tbody>\n",
       "    <tr>\n",
       "      <th>0</th>\n",
       "      <td>2017-01-01</td>\n",
       "      <td>93</td>\n",
       "      <td>NaN</td>\n",
       "      <td>False</td>\n",
       "      <td>False</td>\n",
       "      <td>False</td>\n",
       "      <td>False</td>\n",
       "      <td>sat</td>\n",
       "      <td>q1</td>\n",
       "    </tr>\n",
       "    <tr>\n",
       "      <th>1</th>\n",
       "      <td>2017-01-02</td>\n",
       "      <td>73</td>\n",
       "      <td>NaN</td>\n",
       "      <td>True</td>\n",
       "      <td>False</td>\n",
       "      <td>False</td>\n",
       "      <td>False</td>\n",
       "      <td>sun</td>\n",
       "      <td>q1</td>\n",
       "    </tr>\n",
       "    <tr>\n",
       "      <th>2</th>\n",
       "      <td>2017-01-03</td>\n",
       "      <td>87</td>\n",
       "      <td>NaN</td>\n",
       "      <td>False</td>\n",
       "      <td>False</td>\n",
       "      <td>False</td>\n",
       "      <td>False</td>\n",
       "      <td>mon</td>\n",
       "      <td>q1</td>\n",
       "    </tr>\n",
       "    <tr>\n",
       "      <th>3</th>\n",
       "      <td>2017-01-04</td>\n",
       "      <td>97</td>\n",
       "      <td>NaN</td>\n",
       "      <td>False</td>\n",
       "      <td>False</td>\n",
       "      <td>False</td>\n",
       "      <td>False</td>\n",
       "      <td>tue</td>\n",
       "      <td>q1</td>\n",
       "    </tr>\n",
       "    <tr>\n",
       "      <th>4</th>\n",
       "      <td>2017-01-05</td>\n",
       "      <td>92</td>\n",
       "      <td>NaN</td>\n",
       "      <td>False</td>\n",
       "      <td>False</td>\n",
       "      <td>False</td>\n",
       "      <td>False</td>\n",
       "      <td>wed</td>\n",
       "      <td>q1</td>\n",
       "    </tr>\n",
       "  </tbody>\n",
       "</table>\n",
       "</div>"
      ],
      "text/plain": [
       "        date  num_clients  num_clients_lag_7  federal_holiday  \\\n",
       "0 2017-01-01           93                NaN            False   \n",
       "1 2017-01-02           73                NaN             True   \n",
       "2 2017-01-03           87                NaN            False   \n",
       "3 2017-01-04           97                NaN            False   \n",
       "4 2017-01-05           92                NaN            False   \n",
       "\n",
       "   big_holiday_before  big_holiday  big_holiday_after day_of_week quarter  \n",
       "0               False        False              False         sat      q1  \n",
       "1               False        False              False         sun      q1  \n",
       "2               False        False              False         mon      q1  \n",
       "3               False        False              False         tue      q1  \n",
       "4               False        False              False         wed      q1  "
      ]
     },
     "execution_count": 2,
     "metadata": {},
     "output_type": "execute_result"
    }
   ],
   "source": [
    "# NUM CLIENTS DATA\n",
    "x1 = pd.read_csv(\"data1/Clients per day.csv\", parse_dates=[\"Time\"])\n",
    "x2 = pd.read_csv(\"data2/Clients per day.csv\", parse_dates=[\"Time\"])\n",
    "Y1 = x1.append(x2).sort_values(\"Time\")\n",
    "Y1 = Y1.rename(columns={\"Time\": \"date\", \"# Clients\": \"num_clients\"})\n",
    "Y1[\"date\"] = pd.to_datetime(Y1.date.apply(lambda x: datetime.date(x.year, x.month, x.day)))\n",
    "\n",
    "# Add lagged values\n",
    "Y1[\"num_clients_lag_7\"] = Y1.num_clients.shift(7)\n",
    "\n",
    "# Get list of federal holidays\n",
    "cal = USFederalHolidayCalendar()\n",
    "holidays = [(h.month, h.day) for h in cal.holidays(start='2017-01-01', end='2017-12-31').to_pydatetime()]\n",
    "Y1[\"federal_holiday\"] = Y1.date.apply(lambda x: (x.month, x.day) in holidays)\n",
    "\n",
    "# Add dummies for days around New Years Thanksgiving, and Christmas\n",
    "Y1[\"big_holiday_before\"] = Y1.date.apply(lambda x: (x.month, x.day) in [(11,22), (12,24)])\n",
    "Y1[\"big_holiday\"] = Y1.date.apply(lambda x: (x.month, x.day) in [(7,4), (11,23), (12,25)])\n",
    "Y1[\"big_holiday_after\"] = Y1.date.apply(lambda x: (x.month, x.day) in [(11,24), (12,26)])\n",
    "\n",
    "# Get day of week\n",
    "Y1[\"day_of_week\"] = Y1.date.apply(lambda x : ['sun', 'mon', 'tue', 'wed', 'thu', 'fri', 'sat'][x.weekday()])\n",
    "\n",
    "# Quarters\n",
    "Y1[\"quarter\"] = Y1.date.apply(lambda x: [\"q{}\".format(q) for q in [1,1,1,2,2,2,3,3,3,4,4,4]][x.month-1])\n",
    "Y1 = Y1.reset_index(drop=True)\n",
    "\n",
    "Y1.head()"
   ]
  },
  {
   "cell_type": "code",
   "execution_count": null,
   "metadata": {},
   "outputs": [],
   "source": []
  },
  {
   "cell_type": "code",
   "execution_count": 3,
   "metadata": {},
   "outputs": [
    {
     "data": {
      "text/html": [
       "<div>\n",
       "<style>\n",
       "    .dataframe thead tr:only-child th {\n",
       "        text-align: right;\n",
       "    }\n",
       "\n",
       "    .dataframe thead th {\n",
       "        text-align: left;\n",
       "    }\n",
       "\n",
       "    .dataframe tbody tr th {\n",
       "        vertical-align: top;\n",
       "    }\n",
       "</style>\n",
       "<table border=\"1\" class=\"dataframe\">\n",
       "  <thead>\n",
       "    <tr style=\"text-align: right;\">\n",
       "      <th></th>\n",
       "      <th>date</th>\n",
       "      <th>num_sessions</th>\n",
       "      <th>num_sessions_lag_7</th>\n",
       "    </tr>\n",
       "  </thead>\n",
       "  <tbody>\n",
       "    <tr>\n",
       "      <th>0</th>\n",
       "      <td>2017-01-01</td>\n",
       "      <td>NaN</td>\n",
       "      <td>NaN</td>\n",
       "    </tr>\n",
       "    <tr>\n",
       "      <th>1</th>\n",
       "      <td>2017-01-02</td>\n",
       "      <td>NaN</td>\n",
       "      <td>NaN</td>\n",
       "    </tr>\n",
       "    <tr>\n",
       "      <th>2</th>\n",
       "      <td>2017-01-03</td>\n",
       "      <td>NaN</td>\n",
       "      <td>NaN</td>\n",
       "    </tr>\n",
       "    <tr>\n",
       "      <th>3</th>\n",
       "      <td>2017-01-04</td>\n",
       "      <td>NaN</td>\n",
       "      <td>NaN</td>\n",
       "    </tr>\n",
       "    <tr>\n",
       "      <th>4</th>\n",
       "      <td>2017-01-05</td>\n",
       "      <td>NaN</td>\n",
       "      <td>NaN</td>\n",
       "    </tr>\n",
       "  </tbody>\n",
       "</table>\n",
       "</div>"
      ],
      "text/plain": [
       "        date  num_sessions  num_sessions_lag_7\n",
       "0 2017-01-01           NaN                 NaN\n",
       "1 2017-01-02           NaN                 NaN\n",
       "2 2017-01-03           NaN                 NaN\n",
       "3 2017-01-04           NaN                 NaN\n",
       "4 2017-01-05           NaN                 NaN"
      ]
     },
     "execution_count": 3,
     "metadata": {},
     "output_type": "execute_result"
    }
   ],
   "source": [
    "x1 = pd.read_csv(\"data1/Number of sessions over time.csv\", parse_dates=[\"Time\"])\n",
    "x2 = pd.read_csv(\"data2/Number of sessions over time.csv\", parse_dates=[\"Time\"])\n",
    "Y2 = x1.append(x2).sort_values(\"Time\")\n",
    "Y2 = Y2.rename(columns={\"Time\": \"date\", \"# Sessions\": \"num_sessions\"})\n",
    "Y2[\"date\"] = pd.to_datetime(Y2.date.apply(lambda x: datetime.date(x.year, x.month, x.day)))\n",
    "\n",
    "Y2.loc[Y2[\"num_sessions\"]==0, \"num_sessions\"] = np.nan\n",
    "\n",
    "# Add lagged values\n",
    "Y2[\"num_sessions_lag_7\"] = Y2.num_sessions.shift(7)\n",
    "\n",
    "Y2 = Y2.reset_index(drop=True)\n",
    "Y2.head()"
   ]
  },
  {
   "cell_type": "code",
   "execution_count": null,
   "metadata": {},
   "outputs": [],
   "source": []
  },
  {
   "cell_type": "code",
   "execution_count": 14,
   "metadata": {},
   "outputs": [
    {
     "data": {
      "text/plain": [
       "(2118, 4)"
      ]
     },
     "execution_count": 14,
     "metadata": {},
     "output_type": "execute_result"
    }
   ],
   "source": [
    "x1 = pd.read_csv(\"data1/Usage over time.csv\", parse_dates=[\"Time\"]).drop([0,1081], axis=0)\n",
    "x2 = pd.read_csv(\"data2/Usage over time.csv\", parse_dates=[\"Time\"]).drop([0], axis=0)\n",
    "Y3 = x1.append(x2).sort_values(\"Time\")\n",
    "Y3 = Y3.rename(columns={\"Time\": \"datetime\", \"Download (B)\": \"download_traffic\", \"Total (B)\": \"total_traffic\"})\n",
    "Y3.datetime = pd.to_datetime(Y3.datetime)\n",
    "Y3[\"date\"] = pd.to_datetime(Y3.datetime.apply(lambda x: datetime.date(x.year, x.month, x.day)))\n",
    "\n",
    "traffic_hourly = deepcopy(Y3)\n",
    "traffic_hourly[\"hour\"] = traffic_hourly.datetime.apply(lambda x: x.hour)\n",
    "traffic_hourly[\"total_traffic_lag_week\"] = traffic_hourly.total_traffic.shift(42)\n",
    "traffic_hourly = traffic_hourly.reset_index(drop=True)\n",
    "\n",
    "# Group by day\n",
    "#Y3 = Y3.drop([\"datetime\"], axis=1).groupby(by=\"date\").sum().reset_index()\n",
    "#Y3[\"total_traffic_lag_7\"] = Y3.total_traffic.shift(7)\n",
    "\n",
    "#Y3 = Y3.drop(\"download_traffic\", axis=1).reset_index(drop=True)\n",
    "Y3.shape"
   ]
  },
  {
   "cell_type": "code",
   "execution_count": 5,
   "metadata": {},
   "outputs": [
    {
     "data": {
      "text/html": [
       "<div>\n",
       "<style>\n",
       "    .dataframe thead tr:only-child th {\n",
       "        text-align: right;\n",
       "    }\n",
       "\n",
       "    .dataframe thead th {\n",
       "        text-align: left;\n",
       "    }\n",
       "\n",
       "    .dataframe tbody tr th {\n",
       "        vertical-align: top;\n",
       "    }\n",
       "</style>\n",
       "<table border=\"1\" class=\"dataframe\">\n",
       "  <thead>\n",
       "    <tr style=\"text-align: right;\">\n",
       "      <th></th>\n",
       "      <th>date</th>\n",
       "      <th>total_traffic</th>\n",
       "      <th>total_traffic_lag_7</th>\n",
       "    </tr>\n",
       "  </thead>\n",
       "  <tbody>\n",
       "    <tr>\n",
       "      <th>0</th>\n",
       "      <td>2017-01-01</td>\n",
       "      <td>9.955664e+05</td>\n",
       "      <td>NaN</td>\n",
       "    </tr>\n",
       "    <tr>\n",
       "      <th>1</th>\n",
       "      <td>2017-01-02</td>\n",
       "      <td>6.708537e+05</td>\n",
       "      <td>NaN</td>\n",
       "    </tr>\n",
       "    <tr>\n",
       "      <th>2</th>\n",
       "      <td>2017-01-03</td>\n",
       "      <td>8.742861e+05</td>\n",
       "      <td>NaN</td>\n",
       "    </tr>\n",
       "    <tr>\n",
       "      <th>3</th>\n",
       "      <td>2017-01-04</td>\n",
       "      <td>1.616876e+06</td>\n",
       "      <td>NaN</td>\n",
       "    </tr>\n",
       "    <tr>\n",
       "      <th>4</th>\n",
       "      <td>2017-01-05</td>\n",
       "      <td>5.860238e+05</td>\n",
       "      <td>NaN</td>\n",
       "    </tr>\n",
       "  </tbody>\n",
       "</table>\n",
       "</div>"
      ],
      "text/plain": [
       "        date  total_traffic  total_traffic_lag_7\n",
       "0 2017-01-01   9.955664e+05                  NaN\n",
       "1 2017-01-02   6.708537e+05                  NaN\n",
       "2 2017-01-03   8.742861e+05                  NaN\n",
       "3 2017-01-04   1.616876e+06                  NaN\n",
       "4 2017-01-05   5.860238e+05                  NaN"
      ]
     },
     "execution_count": 5,
     "metadata": {},
     "output_type": "execute_result"
    }
   ],
   "source": [
    "Y3.head()"
   ]
  },
  {
   "cell_type": "code",
   "execution_count": null,
   "metadata": {},
   "outputs": [],
   "source": []
  },
  {
   "cell_type": "code",
   "execution_count": null,
   "metadata": {},
   "outputs": [],
   "source": []
  },
  {
   "cell_type": "code",
   "execution_count": null,
   "metadata": {},
   "outputs": [],
   "source": []
  },
  {
   "cell_type": "code",
   "execution_count": null,
   "metadata": {},
   "outputs": [],
   "source": []
  },
  {
   "cell_type": "code",
   "execution_count": null,
   "metadata": {},
   "outputs": [],
   "source": []
  },
  {
   "cell_type": "code",
   "execution_count": null,
   "metadata": {},
   "outputs": [],
   "source": []
  },
  {
   "cell_type": "code",
   "execution_count": 6,
   "metadata": {},
   "outputs": [
    {
     "data": {
      "text/html": [
       "<div>\n",
       "<style>\n",
       "    .dataframe thead tr:only-child th {\n",
       "        text-align: right;\n",
       "    }\n",
       "\n",
       "    .dataframe thead th {\n",
       "        text-align: left;\n",
       "    }\n",
       "\n",
       "    .dataframe tbody tr th {\n",
       "        vertical-align: top;\n",
       "    }\n",
       "</style>\n",
       "<table border=\"1\" class=\"dataframe\">\n",
       "  <thead>\n",
       "    <tr style=\"text-align: right;\">\n",
       "      <th></th>\n",
       "      <th>date</th>\n",
       "      <th>bb_game_type</th>\n",
       "      <th>bb_location</th>\n",
       "      <th>bb_ranked_opponent</th>\n",
       "      <th>bb_game_result</th>\n",
       "      <th>bb_close_game</th>\n",
       "      <th>bb_cumulative_wins</th>\n",
       "      <th>bb_game</th>\n",
       "    </tr>\n",
       "  </thead>\n",
       "  <tbody>\n",
       "    <tr>\n",
       "      <th>0</th>\n",
       "      <td>2017-01-04</td>\n",
       "      <td>regular_season</td>\n",
       "      <td>away</td>\n",
       "      <td>False</td>\n",
       "      <td>loss</td>\n",
       "      <td>True</td>\n",
       "      <td>11</td>\n",
       "      <td>True</td>\n",
       "    </tr>\n",
       "    <tr>\n",
       "      <th>1</th>\n",
       "      <td>2017-01-08</td>\n",
       "      <td>regular_season</td>\n",
       "      <td>home</td>\n",
       "      <td>False</td>\n",
       "      <td>win</td>\n",
       "      <td>False</td>\n",
       "      <td>12</td>\n",
       "      <td>True</td>\n",
       "    </tr>\n",
       "    <tr>\n",
       "      <th>2</th>\n",
       "      <td>2017-01-14</td>\n",
       "      <td>regular_season</td>\n",
       "      <td>away</td>\n",
       "      <td>False</td>\n",
       "      <td>win</td>\n",
       "      <td>True</td>\n",
       "      <td>13</td>\n",
       "      <td>True</td>\n",
       "    </tr>\n",
       "    <tr>\n",
       "      <th>3</th>\n",
       "      <td>2017-01-18</td>\n",
       "      <td>regular_season</td>\n",
       "      <td>away</td>\n",
       "      <td>False</td>\n",
       "      <td>win</td>\n",
       "      <td>False</td>\n",
       "      <td>14</td>\n",
       "      <td>True</td>\n",
       "    </tr>\n",
       "    <tr>\n",
       "      <th>4</th>\n",
       "      <td>2017-01-21</td>\n",
       "      <td>regular_season</td>\n",
       "      <td>home</td>\n",
       "      <td>False</td>\n",
       "      <td>win</td>\n",
       "      <td>False</td>\n",
       "      <td>15</td>\n",
       "      <td>True</td>\n",
       "    </tr>\n",
       "  </tbody>\n",
       "</table>\n",
       "</div>"
      ],
      "text/plain": [
       "        date    bb_game_type bb_location  bb_ranked_opponent bb_game_result  \\\n",
       "0 2017-01-04  regular_season        away               False           loss   \n",
       "1 2017-01-08  regular_season        home               False            win   \n",
       "2 2017-01-14  regular_season        away               False            win   \n",
       "3 2017-01-18  regular_season        away               False            win   \n",
       "4 2017-01-21  regular_season        home               False            win   \n",
       "\n",
       "   bb_close_game  bb_cumulative_wins  bb_game  \n",
       "0           True                  11     True  \n",
       "1          False                  12     True  \n",
       "2           True                  13     True  \n",
       "3          False                  14     True  \n",
       "4          False                  15     True  "
      ]
     },
     "execution_count": 6,
     "metadata": {},
     "output_type": "execute_result"
    }
   ],
   "source": [
    "basketball_df = pd.read_csv(\"./my_data/basketball_data.csv\", index_col=0, parse_dates=[\"date\"])\n",
    "basketball_df[\"game\"] = True\n",
    "basketball_df = basketball_df.rename(columns=dict(zip(basketball_df.columns[1:], [\"bb_{}\".format(c) for c in basketball_df.columns[1:]])))\n",
    "basketball_df.head()"
   ]
  },
  {
   "cell_type": "code",
   "execution_count": null,
   "metadata": {},
   "outputs": [],
   "source": []
  },
  {
   "cell_type": "code",
   "execution_count": 7,
   "metadata": {},
   "outputs": [
    {
     "data": {
      "text/html": [
       "<div>\n",
       "<style>\n",
       "    .dataframe thead tr:only-child th {\n",
       "        text-align: right;\n",
       "    }\n",
       "\n",
       "    .dataframe thead th {\n",
       "        text-align: left;\n",
       "    }\n",
       "\n",
       "    .dataframe tbody tr th {\n",
       "        vertical-align: top;\n",
       "    }\n",
       "</style>\n",
       "<table border=\"1\" class=\"dataframe\">\n",
       "  <thead>\n",
       "    <tr style=\"text-align: right;\">\n",
       "      <th></th>\n",
       "      <th>date</th>\n",
       "      <th>wu_temp_high</th>\n",
       "      <th>wu_temp_avg</th>\n",
       "      <th>wu_temp_low</th>\n",
       "      <th>wu_humid_high</th>\n",
       "      <th>wu_humid_avg</th>\n",
       "      <th>wu_humid_low</th>\n",
       "      <th>wu_wind_high</th>\n",
       "      <th>wu_wind_avg</th>\n",
       "      <th>wu_precip</th>\n",
       "      <th>wu_event_fog</th>\n",
       "      <th>wu_event_rain</th>\n",
       "      <th>wu_event_snow</th>\n",
       "      <th>wu_event_hail</th>\n",
       "      <th>wu_event_thunderstorm</th>\n",
       "      <th>wu_event_sum</th>\n",
       "    </tr>\n",
       "  </thead>\n",
       "  <tbody>\n",
       "    <tr>\n",
       "      <th>0</th>\n",
       "      <td>2017-01-01</td>\n",
       "      <td>57</td>\n",
       "      <td>47</td>\n",
       "      <td>37</td>\n",
       "      <td>73</td>\n",
       "      <td>52</td>\n",
       "      <td>42</td>\n",
       "      <td>13</td>\n",
       "      <td>7</td>\n",
       "      <td>0.01</td>\n",
       "      <td>0</td>\n",
       "      <td>1</td>\n",
       "      <td>0</td>\n",
       "      <td>0</td>\n",
       "      <td>0</td>\n",
       "      <td>1</td>\n",
       "    </tr>\n",
       "    <tr>\n",
       "      <th>1</th>\n",
       "      <td>2017-01-02</td>\n",
       "      <td>46</td>\n",
       "      <td>44</td>\n",
       "      <td>42</td>\n",
       "      <td>93</td>\n",
       "      <td>89</td>\n",
       "      <td>80</td>\n",
       "      <td>10</td>\n",
       "      <td>6</td>\n",
       "      <td>0.09</td>\n",
       "      <td>0</td>\n",
       "      <td>1</td>\n",
       "      <td>0</td>\n",
       "      <td>0</td>\n",
       "      <td>0</td>\n",
       "      <td>1</td>\n",
       "    </tr>\n",
       "    <tr>\n",
       "      <th>2</th>\n",
       "      <td>2017-01-03</td>\n",
       "      <td>48</td>\n",
       "      <td>46</td>\n",
       "      <td>43</td>\n",
       "      <td>93</td>\n",
       "      <td>89</td>\n",
       "      <td>83</td>\n",
       "      <td>14</td>\n",
       "      <td>5</td>\n",
       "      <td>0.59</td>\n",
       "      <td>0</td>\n",
       "      <td>1</td>\n",
       "      <td>0</td>\n",
       "      <td>0</td>\n",
       "      <td>0</td>\n",
       "      <td>1</td>\n",
       "    </tr>\n",
       "    <tr>\n",
       "      <th>3</th>\n",
       "      <td>2017-01-04</td>\n",
       "      <td>57</td>\n",
       "      <td>46</td>\n",
       "      <td>36</td>\n",
       "      <td>96</td>\n",
       "      <td>56</td>\n",
       "      <td>23</td>\n",
       "      <td>15</td>\n",
       "      <td>6</td>\n",
       "      <td>0.01</td>\n",
       "      <td>0</td>\n",
       "      <td>0</td>\n",
       "      <td>0</td>\n",
       "      <td>0</td>\n",
       "      <td>0</td>\n",
       "      <td>0</td>\n",
       "    </tr>\n",
       "    <tr>\n",
       "      <th>4</th>\n",
       "      <td>2017-01-05</td>\n",
       "      <td>37</td>\n",
       "      <td>34</td>\n",
       "      <td>32</td>\n",
       "      <td>50</td>\n",
       "      <td>41</td>\n",
       "      <td>32</td>\n",
       "      <td>13</td>\n",
       "      <td>4</td>\n",
       "      <td>0.00</td>\n",
       "      <td>0</td>\n",
       "      <td>0</td>\n",
       "      <td>0</td>\n",
       "      <td>0</td>\n",
       "      <td>0</td>\n",
       "      <td>0</td>\n",
       "    </tr>\n",
       "  </tbody>\n",
       "</table>\n",
       "</div>"
      ],
      "text/plain": [
       "        date  wu_temp_high  wu_temp_avg  wu_temp_low  wu_humid_high  \\\n",
       "0 2017-01-01            57           47           37             73   \n",
       "1 2017-01-02            46           44           42             93   \n",
       "2 2017-01-03            48           46           43             93   \n",
       "3 2017-01-04            57           46           36             96   \n",
       "4 2017-01-05            37           34           32             50   \n",
       "\n",
       "   wu_humid_avg  wu_humid_low  wu_wind_high  wu_wind_avg  wu_precip  \\\n",
       "0            52            42            13            7       0.01   \n",
       "1            89            80            10            6       0.09   \n",
       "2            89            83            14            5       0.59   \n",
       "3            56            23            15            6       0.01   \n",
       "4            41            32            13            4       0.00   \n",
       "\n",
       "   wu_event_fog  wu_event_rain  wu_event_snow  wu_event_hail  \\\n",
       "0             0              1              0              0   \n",
       "1             0              1              0              0   \n",
       "2             0              1              0              0   \n",
       "3             0              0              0              0   \n",
       "4             0              0              0              0   \n",
       "\n",
       "   wu_event_thunderstorm  wu_event_sum  \n",
       "0                      0             1  \n",
       "1                      0             1  \n",
       "2                      0             1  \n",
       "3                      0             0  \n",
       "4                      0             0  "
      ]
     },
     "execution_count": 7,
     "metadata": {},
     "output_type": "execute_result"
    }
   ],
   "source": [
    "weather = pd.read_csv(\"./my_data/weather_data.csv\", parse_dates=[\"date\"])\n",
    "\n",
    "# Breaks out \"wu_events\" column for snow, rain, etc. into separate dummy variables\n",
    "weather_events = [\"Fog\", \"Rain\", \"Snow\", \"Hail\", \"Thunderstorm\"]\n",
    "events_cols = weather.wu_events.apply(lambda x: [1 if e in str(x).split(\",\") else 0 for e in weather_events])\n",
    "weather_cols = pd.DataFrame.from_records(list(events_cols), columns=[\"wu_event_\"+c.lower() for c in weather_events])\n",
    "weather_cols[\"wu_event_sum\"] = weather_cols.sum(1)\n",
    "weather_df = pd.concat([weather, weather_cols], axis=1).drop([\"month\", \"day\",\"wu_events\"], axis=1)\n",
    "\n",
    "# Deal with oddities in data\n",
    "\n",
    "# \"T\" means trace amount of precipitation\n",
    "weather_df.loc[weather_df.wu_precip==\"T\", \"wu_precip\"] = 0\n",
    "weather_df.wu_precip = weather_df.wu_precip.astype(float)\n",
    "\n",
    "# wind data has odd column\n",
    "weather_df = weather_df.drop(\"wu_wind\", axis=1)\n",
    "\n",
    "# Omit some obviously noise variables:\n",
    "weather_df = weather_df.drop([c for c in weather_df if any([\"dew\" in c, \"visibi\" in c, \"pressure\" in c])], axis=1)\n",
    "\n",
    "weather_df.head()"
   ]
  },
  {
   "cell_type": "code",
   "execution_count": null,
   "metadata": {},
   "outputs": [],
   "source": []
  },
  {
   "cell_type": "code",
   "execution_count": 8,
   "metadata": {},
   "outputs": [
    {
     "data": {
      "text/html": [
       "<div>\n",
       "<style>\n",
       "    .dataframe thead tr:only-child th {\n",
       "        text-align: right;\n",
       "    }\n",
       "\n",
       "    .dataframe thead th {\n",
       "        text-align: left;\n",
       "    }\n",
       "\n",
       "    .dataframe tbody tr th {\n",
       "        vertical-align: top;\n",
       "    }\n",
       "</style>\n",
       "<table border=\"1\" class=\"dataframe\">\n",
       "  <thead>\n",
       "    <tr style=\"text-align: right;\">\n",
       "      <th></th>\n",
       "      <th>date</th>\n",
       "      <th>community_event_count</th>\n",
       "      <th>community_event</th>\n",
       "      <th>community_gingerbread_express</th>\n",
       "      <th>community_holiday_market</th>\n",
       "    </tr>\n",
       "  </thead>\n",
       "  <tbody>\n",
       "    <tr>\n",
       "      <th>58</th>\n",
       "      <td>2017-12-01</td>\n",
       "      <td>1</td>\n",
       "      <td>True</td>\n",
       "      <td>False</td>\n",
       "      <td>False</td>\n",
       "    </tr>\n",
       "    <tr>\n",
       "      <th>59</th>\n",
       "      <td>2017-12-02</td>\n",
       "      <td>1</td>\n",
       "      <td>True</td>\n",
       "      <td>False</td>\n",
       "      <td>True</td>\n",
       "    </tr>\n",
       "    <tr>\n",
       "      <th>60</th>\n",
       "      <td>2017-12-03</td>\n",
       "      <td>1</td>\n",
       "      <td>True</td>\n",
       "      <td>False</td>\n",
       "      <td>False</td>\n",
       "    </tr>\n",
       "    <tr>\n",
       "      <th>61</th>\n",
       "      <td>2017-12-09</td>\n",
       "      <td>3</td>\n",
       "      <td>True</td>\n",
       "      <td>False</td>\n",
       "      <td>True</td>\n",
       "    </tr>\n",
       "    <tr>\n",
       "      <th>62</th>\n",
       "      <td>2017-12-14</td>\n",
       "      <td>1</td>\n",
       "      <td>True</td>\n",
       "      <td>True</td>\n",
       "      <td>False</td>\n",
       "    </tr>\n",
       "    <tr>\n",
       "      <th>63</th>\n",
       "      <td>2017-12-15</td>\n",
       "      <td>1</td>\n",
       "      <td>True</td>\n",
       "      <td>True</td>\n",
       "      <td>False</td>\n",
       "    </tr>\n",
       "    <tr>\n",
       "      <th>64</th>\n",
       "      <td>2017-12-16</td>\n",
       "      <td>2</td>\n",
       "      <td>True</td>\n",
       "      <td>True</td>\n",
       "      <td>True</td>\n",
       "    </tr>\n",
       "    <tr>\n",
       "      <th>65</th>\n",
       "      <td>2017-12-21</td>\n",
       "      <td>1</td>\n",
       "      <td>True</td>\n",
       "      <td>True</td>\n",
       "      <td>False</td>\n",
       "    </tr>\n",
       "    <tr>\n",
       "      <th>66</th>\n",
       "      <td>2017-12-22</td>\n",
       "      <td>1</td>\n",
       "      <td>True</td>\n",
       "      <td>True</td>\n",
       "      <td>False</td>\n",
       "    </tr>\n",
       "    <tr>\n",
       "      <th>67</th>\n",
       "      <td>2017-12-23</td>\n",
       "      <td>2</td>\n",
       "      <td>True</td>\n",
       "      <td>True</td>\n",
       "      <td>True</td>\n",
       "    </tr>\n",
       "  </tbody>\n",
       "</table>\n",
       "</div>"
      ],
      "text/plain": [
       "         date  community_event_count  community_event  \\\n",
       "58 2017-12-01                      1             True   \n",
       "59 2017-12-02                      1             True   \n",
       "60 2017-12-03                      1             True   \n",
       "61 2017-12-09                      3             True   \n",
       "62 2017-12-14                      1             True   \n",
       "63 2017-12-15                      1             True   \n",
       "64 2017-12-16                      2             True   \n",
       "65 2017-12-21                      1             True   \n",
       "66 2017-12-22                      1             True   \n",
       "67 2017-12-23                      2             True   \n",
       "\n",
       "    community_gingerbread_express  community_holiday_market  \n",
       "58                          False                     False  \n",
       "59                          False                      True  \n",
       "60                          False                     False  \n",
       "61                          False                      True  \n",
       "62                           True                     False  \n",
       "63                           True                     False  \n",
       "64                           True                      True  \n",
       "65                           True                     False  \n",
       "66                           True                     False  \n",
       "67                           True                      True  "
      ]
     },
     "execution_count": 8,
     "metadata": {},
     "output_type": "execute_result"
    }
   ],
   "source": [
    "events_df = pd.read_csv(\"./my_data/events.csv\", index_col=0, parse_dates=[\"date\"])\n",
    "events_df[\"event\"] = events_df.event_count > 0\n",
    "events_df = events_df.drop(\"event_text\", axis=1)\n",
    "events_df.columns = [\"date\", \"community_event_count\", \"community_event\"]\n",
    "\n",
    "\n",
    "# Some specific events are recurring between training period\n",
    "# and test period; adding dummies to place extra weight on these\n",
    "events_df[\"community_gingerbread_express\"] = False\n",
    "gingerbread_dates = [(2017,12,14), (2017,12,15), \n",
    "                     (2017,12,16), (2017,12,21), \n",
    "                     (2017,12,22), (2017,12,23)]\n",
    "events_df.loc[[(d.year,d.month,d.day) in gingerbread_dates for d in events_df.date], \"community_gingerbread_express\"] = True\n",
    "\n",
    "events_df[\"community_holiday_market\"] = False\n",
    "holiday_market_dates = [(2017,12,2), (2017,12,9), \n",
    "                        (2017,12,16), (2017,12,23)]\n",
    "events_df.loc[[(d.year,d.month,d.day) in holiday_market_dates for d in events_df.date], \"community_holiday_market\"] = True\n",
    "\n",
    "events_df = events_df.reset_index(drop=True)\n",
    "events_df.tail(n=10)"
   ]
  },
  {
   "cell_type": "code",
   "execution_count": null,
   "metadata": {},
   "outputs": [],
   "source": []
  },
  {
   "cell_type": "code",
   "execution_count": null,
   "metadata": {},
   "outputs": [],
   "source": []
  },
  {
   "cell_type": "code",
   "execution_count": 9,
   "metadata": {},
   "outputs": [
    {
     "data": {
      "text/html": [
       "<div>\n",
       "<style>\n",
       "    .dataframe thead tr:only-child th {\n",
       "        text-align: right;\n",
       "    }\n",
       "\n",
       "    .dataframe thead th {\n",
       "        text-align: left;\n",
       "    }\n",
       "\n",
       "    .dataframe tbody tr th {\n",
       "        vertical-align: top;\n",
       "    }\n",
       "</style>\n",
       "<table border=\"1\" class=\"dataframe\">\n",
       "  <thead>\n",
       "    <tr style=\"text-align: right;\">\n",
       "      <th></th>\n",
       "      <th>num_clients</th>\n",
       "      <th>num_clients_lag_7</th>\n",
       "      <th>federal_holiday</th>\n",
       "      <th>big_holiday_before</th>\n",
       "      <th>big_holiday</th>\n",
       "      <th>big_holiday_after</th>\n",
       "      <th>num_sessions</th>\n",
       "      <th>num_sessions_lag_7</th>\n",
       "      <th>total_traffic</th>\n",
       "      <th>total_traffic_lag_7</th>\n",
       "      <th>...</th>\n",
       "      <th>bb_close_game_True</th>\n",
       "      <th>wu_temp_high_sq</th>\n",
       "      <th>wu_temp_avg_sq</th>\n",
       "      <th>wu_temp_low_sq</th>\n",
       "      <th>wu_humid_high_sq</th>\n",
       "      <th>wu_humid_avg_sq</th>\n",
       "      <th>wu_humid_low_sq</th>\n",
       "      <th>wu_wind_high_sq</th>\n",
       "      <th>wu_wind_avg_sq</th>\n",
       "      <th>wu_precip_sq</th>\n",
       "    </tr>\n",
       "    <tr>\n",
       "      <th>date</th>\n",
       "      <th></th>\n",
       "      <th></th>\n",
       "      <th></th>\n",
       "      <th></th>\n",
       "      <th></th>\n",
       "      <th></th>\n",
       "      <th></th>\n",
       "      <th></th>\n",
       "      <th></th>\n",
       "      <th></th>\n",
       "      <th></th>\n",
       "      <th></th>\n",
       "      <th></th>\n",
       "      <th></th>\n",
       "      <th></th>\n",
       "      <th></th>\n",
       "      <th></th>\n",
       "      <th></th>\n",
       "      <th></th>\n",
       "      <th></th>\n",
       "      <th></th>\n",
       "    </tr>\n",
       "  </thead>\n",
       "  <tbody>\n",
       "    <tr>\n",
       "      <th>2017-01-01</th>\n",
       "      <td>93</td>\n",
       "      <td>NaN</td>\n",
       "      <td>False</td>\n",
       "      <td>False</td>\n",
       "      <td>False</td>\n",
       "      <td>False</td>\n",
       "      <td>NaN</td>\n",
       "      <td>NaN</td>\n",
       "      <td>9.955664e+05</td>\n",
       "      <td>NaN</td>\n",
       "      <td>...</td>\n",
       "      <td>0</td>\n",
       "      <td>3249</td>\n",
       "      <td>2209</td>\n",
       "      <td>1369</td>\n",
       "      <td>5329</td>\n",
       "      <td>2704</td>\n",
       "      <td>1764</td>\n",
       "      <td>169</td>\n",
       "      <td>49</td>\n",
       "      <td>0.0001</td>\n",
       "    </tr>\n",
       "    <tr>\n",
       "      <th>2017-01-02</th>\n",
       "      <td>73</td>\n",
       "      <td>NaN</td>\n",
       "      <td>True</td>\n",
       "      <td>False</td>\n",
       "      <td>False</td>\n",
       "      <td>False</td>\n",
       "      <td>NaN</td>\n",
       "      <td>NaN</td>\n",
       "      <td>6.708537e+05</td>\n",
       "      <td>NaN</td>\n",
       "      <td>...</td>\n",
       "      <td>0</td>\n",
       "      <td>2116</td>\n",
       "      <td>1936</td>\n",
       "      <td>1764</td>\n",
       "      <td>8649</td>\n",
       "      <td>7921</td>\n",
       "      <td>6400</td>\n",
       "      <td>100</td>\n",
       "      <td>36</td>\n",
       "      <td>0.0081</td>\n",
       "    </tr>\n",
       "    <tr>\n",
       "      <th>2017-01-03</th>\n",
       "      <td>87</td>\n",
       "      <td>NaN</td>\n",
       "      <td>False</td>\n",
       "      <td>False</td>\n",
       "      <td>False</td>\n",
       "      <td>False</td>\n",
       "      <td>NaN</td>\n",
       "      <td>NaN</td>\n",
       "      <td>8.742861e+05</td>\n",
       "      <td>NaN</td>\n",
       "      <td>...</td>\n",
       "      <td>0</td>\n",
       "      <td>2304</td>\n",
       "      <td>2116</td>\n",
       "      <td>1849</td>\n",
       "      <td>8649</td>\n",
       "      <td>7921</td>\n",
       "      <td>6889</td>\n",
       "      <td>196</td>\n",
       "      <td>25</td>\n",
       "      <td>0.3481</td>\n",
       "    </tr>\n",
       "    <tr>\n",
       "      <th>2017-01-04</th>\n",
       "      <td>97</td>\n",
       "      <td>NaN</td>\n",
       "      <td>False</td>\n",
       "      <td>False</td>\n",
       "      <td>False</td>\n",
       "      <td>False</td>\n",
       "      <td>NaN</td>\n",
       "      <td>NaN</td>\n",
       "      <td>1.616876e+06</td>\n",
       "      <td>NaN</td>\n",
       "      <td>...</td>\n",
       "      <td>1</td>\n",
       "      <td>3249</td>\n",
       "      <td>2116</td>\n",
       "      <td>1296</td>\n",
       "      <td>9216</td>\n",
       "      <td>3136</td>\n",
       "      <td>529</td>\n",
       "      <td>225</td>\n",
       "      <td>36</td>\n",
       "      <td>0.0001</td>\n",
       "    </tr>\n",
       "    <tr>\n",
       "      <th>2017-01-05</th>\n",
       "      <td>92</td>\n",
       "      <td>NaN</td>\n",
       "      <td>False</td>\n",
       "      <td>False</td>\n",
       "      <td>False</td>\n",
       "      <td>False</td>\n",
       "      <td>NaN</td>\n",
       "      <td>NaN</td>\n",
       "      <td>5.860238e+05</td>\n",
       "      <td>NaN</td>\n",
       "      <td>...</td>\n",
       "      <td>0</td>\n",
       "      <td>1369</td>\n",
       "      <td>1156</td>\n",
       "      <td>1024</td>\n",
       "      <td>2500</td>\n",
       "      <td>1681</td>\n",
       "      <td>1024</td>\n",
       "      <td>169</td>\n",
       "      <td>16</td>\n",
       "      <td>0.0000</td>\n",
       "    </tr>\n",
       "    <tr>\n",
       "      <th>2017-01-06</th>\n",
       "      <td>88</td>\n",
       "      <td>NaN</td>\n",
       "      <td>False</td>\n",
       "      <td>False</td>\n",
       "      <td>False</td>\n",
       "      <td>False</td>\n",
       "      <td>NaN</td>\n",
       "      <td>NaN</td>\n",
       "      <td>5.208201e+05</td>\n",
       "      <td>NaN</td>\n",
       "      <td>...</td>\n",
       "      <td>0</td>\n",
       "      <td>1296</td>\n",
       "      <td>1024</td>\n",
       "      <td>784</td>\n",
       "      <td>6241</td>\n",
       "      <td>4489</td>\n",
       "      <td>2601</td>\n",
       "      <td>144</td>\n",
       "      <td>16</td>\n",
       "      <td>0.0000</td>\n",
       "    </tr>\n",
       "    <tr>\n",
       "      <th>2017-01-07</th>\n",
       "      <td>39</td>\n",
       "      <td>NaN</td>\n",
       "      <td>False</td>\n",
       "      <td>False</td>\n",
       "      <td>False</td>\n",
       "      <td>False</td>\n",
       "      <td>NaN</td>\n",
       "      <td>NaN</td>\n",
       "      <td>2.776383e+05</td>\n",
       "      <td>NaN</td>\n",
       "      <td>...</td>\n",
       "      <td>0</td>\n",
       "      <td>676</td>\n",
       "      <td>484</td>\n",
       "      <td>289</td>\n",
       "      <td>7396</td>\n",
       "      <td>4761</td>\n",
       "      <td>1444</td>\n",
       "      <td>196</td>\n",
       "      <td>81</td>\n",
       "      <td>0.0025</td>\n",
       "    </tr>\n",
       "    <tr>\n",
       "      <th>2017-01-08</th>\n",
       "      <td>40</td>\n",
       "      <td>93.0</td>\n",
       "      <td>False</td>\n",
       "      <td>False</td>\n",
       "      <td>False</td>\n",
       "      <td>False</td>\n",
       "      <td>NaN</td>\n",
       "      <td>NaN</td>\n",
       "      <td>1.392043e+05</td>\n",
       "      <td>995566.364424</td>\n",
       "      <td>...</td>\n",
       "      <td>0</td>\n",
       "      <td>625</td>\n",
       "      <td>289</td>\n",
       "      <td>81</td>\n",
       "      <td>2809</td>\n",
       "      <td>1521</td>\n",
       "      <td>784</td>\n",
       "      <td>64</td>\n",
       "      <td>16</td>\n",
       "      <td>0.0000</td>\n",
       "    </tr>\n",
       "    <tr>\n",
       "      <th>2017-01-09</th>\n",
       "      <td>74</td>\n",
       "      <td>73.0</td>\n",
       "      <td>False</td>\n",
       "      <td>False</td>\n",
       "      <td>False</td>\n",
       "      <td>False</td>\n",
       "      <td>NaN</td>\n",
       "      <td>NaN</td>\n",
       "      <td>8.758215e+05</td>\n",
       "      <td>670853.688889</td>\n",
       "      <td>...</td>\n",
       "      <td>0</td>\n",
       "      <td>625</td>\n",
       "      <td>256</td>\n",
       "      <td>64</td>\n",
       "      <td>4489</td>\n",
       "      <td>2916</td>\n",
       "      <td>1936</td>\n",
       "      <td>169</td>\n",
       "      <td>25</td>\n",
       "      <td>0.0000</td>\n",
       "    </tr>\n",
       "    <tr>\n",
       "      <th>2017-01-10</th>\n",
       "      <td>67</td>\n",
       "      <td>87.0</td>\n",
       "      <td>False</td>\n",
       "      <td>False</td>\n",
       "      <td>False</td>\n",
       "      <td>False</td>\n",
       "      <td>NaN</td>\n",
       "      <td>NaN</td>\n",
       "      <td>2.355954e+06</td>\n",
       "      <td>874286.079968</td>\n",
       "      <td>...</td>\n",
       "      <td>0</td>\n",
       "      <td>1521</td>\n",
       "      <td>841</td>\n",
       "      <td>324</td>\n",
       "      <td>3844</td>\n",
       "      <td>2601</td>\n",
       "      <td>1600</td>\n",
       "      <td>484</td>\n",
       "      <td>64</td>\n",
       "      <td>0.0000</td>\n",
       "    </tr>\n",
       "  </tbody>\n",
       "</table>\n",
       "<p>10 rows × 64 columns</p>\n",
       "</div>"
      ],
      "text/plain": [
       "            num_clients  num_clients_lag_7  federal_holiday  \\\n",
       "date                                                          \n",
       "2017-01-01           93                NaN            False   \n",
       "2017-01-02           73                NaN             True   \n",
       "2017-01-03           87                NaN            False   \n",
       "2017-01-04           97                NaN            False   \n",
       "2017-01-05           92                NaN            False   \n",
       "2017-01-06           88                NaN            False   \n",
       "2017-01-07           39                NaN            False   \n",
       "2017-01-08           40               93.0            False   \n",
       "2017-01-09           74               73.0            False   \n",
       "2017-01-10           67               87.0            False   \n",
       "\n",
       "            big_holiday_before  big_holiday  big_holiday_after  num_sessions  \\\n",
       "date                                                                           \n",
       "2017-01-01               False        False              False           NaN   \n",
       "2017-01-02               False        False              False           NaN   \n",
       "2017-01-03               False        False              False           NaN   \n",
       "2017-01-04               False        False              False           NaN   \n",
       "2017-01-05               False        False              False           NaN   \n",
       "2017-01-06               False        False              False           NaN   \n",
       "2017-01-07               False        False              False           NaN   \n",
       "2017-01-08               False        False              False           NaN   \n",
       "2017-01-09               False        False              False           NaN   \n",
       "2017-01-10               False        False              False           NaN   \n",
       "\n",
       "            num_sessions_lag_7  total_traffic  total_traffic_lag_7  \\\n",
       "date                                                                 \n",
       "2017-01-01                 NaN   9.955664e+05                  NaN   \n",
       "2017-01-02                 NaN   6.708537e+05                  NaN   \n",
       "2017-01-03                 NaN   8.742861e+05                  NaN   \n",
       "2017-01-04                 NaN   1.616876e+06                  NaN   \n",
       "2017-01-05                 NaN   5.860238e+05                  NaN   \n",
       "2017-01-06                 NaN   5.208201e+05                  NaN   \n",
       "2017-01-07                 NaN   2.776383e+05                  NaN   \n",
       "2017-01-08                 NaN   1.392043e+05        995566.364424   \n",
       "2017-01-09                 NaN   8.758215e+05        670853.688889   \n",
       "2017-01-10                 NaN   2.355954e+06        874286.079968   \n",
       "\n",
       "                ...       bb_close_game_True  wu_temp_high_sq  wu_temp_avg_sq  \\\n",
       "date            ...                                                             \n",
       "2017-01-01      ...                        0             3249            2209   \n",
       "2017-01-02      ...                        0             2116            1936   \n",
       "2017-01-03      ...                        0             2304            2116   \n",
       "2017-01-04      ...                        1             3249            2116   \n",
       "2017-01-05      ...                        0             1369            1156   \n",
       "2017-01-06      ...                        0             1296            1024   \n",
       "2017-01-07      ...                        0              676             484   \n",
       "2017-01-08      ...                        0              625             289   \n",
       "2017-01-09      ...                        0              625             256   \n",
       "2017-01-10      ...                        0             1521             841   \n",
       "\n",
       "            wu_temp_low_sq  wu_humid_high_sq  wu_humid_avg_sq  \\\n",
       "date                                                            \n",
       "2017-01-01            1369              5329             2704   \n",
       "2017-01-02            1764              8649             7921   \n",
       "2017-01-03            1849              8649             7921   \n",
       "2017-01-04            1296              9216             3136   \n",
       "2017-01-05            1024              2500             1681   \n",
       "2017-01-06             784              6241             4489   \n",
       "2017-01-07             289              7396             4761   \n",
       "2017-01-08              81              2809             1521   \n",
       "2017-01-09              64              4489             2916   \n",
       "2017-01-10             324              3844             2601   \n",
       "\n",
       "            wu_humid_low_sq  wu_wind_high_sq  wu_wind_avg_sq  wu_precip_sq  \n",
       "date                                                                        \n",
       "2017-01-01             1764              169              49        0.0001  \n",
       "2017-01-02             6400              100              36        0.0081  \n",
       "2017-01-03             6889              196              25        0.3481  \n",
       "2017-01-04              529              225              36        0.0001  \n",
       "2017-01-05             1024              169              16        0.0000  \n",
       "2017-01-06             2601              144              16        0.0000  \n",
       "2017-01-07             1444              196              81        0.0025  \n",
       "2017-01-08              784               64              16        0.0000  \n",
       "2017-01-09             1936              169              25        0.0000  \n",
       "2017-01-10             1600              484              64        0.0000  \n",
       "\n",
       "[10 rows x 64 columns]"
      ]
     },
     "execution_count": 9,
     "metadata": {},
     "output_type": "execute_result"
    }
   ],
   "source": [
    "full_df = Y1.set_index('date')\\\n",
    "    .join(Y2.set_index('date'))\\\n",
    "    .join(Y3.set_index('date'))\\\n",
    "    .join(events_df.set_index('date'))\\\n",
    "    .join(weather_df.set_index('date'))\\\n",
    "    .join(basketball_df.set_index('date'))\n",
    "\n",
    "\n",
    "nan_as_bool = [\"community_event\",\"bb_game\"]\n",
    "for col in nan_as_bool:\n",
    "    full_df[col] = full_df[col].fillna(value=False).astype(bool)\n",
    "\n",
    "nan_as_zero = [\"bb_cumulative_wins\", \"community_event_count\", \"community_gingerbread_express\", \"community_holiday_market\"]\n",
    "for col in nan_as_zero:\n",
    "    full_df[col] = full_df[col].fillna(value=0).astype(int)\n",
    "\n",
    "to_dummies = [\"day_of_week\", \"quarter\", \"bb_game_type\", \"bb_location\", \"bb_ranked_opponent\", \"bb_game_result\", \"bb_close_game\"]\n",
    "for col in to_dummies:\n",
    "    dummy_cols = pd.get_dummies(full_df[col], prefix=col)\n",
    "    full_df = full_df.drop(col, axis=1).join(dummy_cols)\n",
    "\n",
    "add_square_terms = [\"wu_temp_high\", \"wu_temp_avg\", \"wu_temp_low\", \n",
    "                    \"wu_humid_high\", \"wu_humid_avg\", \"wu_humid_low\",\n",
    "                    \"wu_wind_high\", \"wu_wind_avg\", \"wu_precip\"]\n",
    "for col in add_square_terms:\n",
    "    full_df[\"{}_sq\".format(col)] = full_df[col]**2\n",
    "    \n",
    "#full_df.reset_index(level=0, inplace=True)\n",
    "FULL_DATA = full_df\n",
    "full_df.head(n=10)"
   ]
  },
  {
   "cell_type": "code",
   "execution_count": 15,
   "metadata": {},
   "outputs": [
    {
     "ename": "KeyError",
     "evalue": "'hour'",
     "output_type": "error",
     "traceback": [
      "\u001b[0;31m---------------------------------------------------------------------------\u001b[0m",
      "\u001b[0;31mKeyError\u001b[0m                                  Traceback (most recent call last)",
      "\u001b[0;32m~/MatlabRecSys/Python/lib/python3.4/site-packages/pandas/core/indexes/base.py\u001b[0m in \u001b[0;36mget_loc\u001b[0;34m(self, key, method, tolerance)\u001b[0m\n\u001b[1;32m   2441\u001b[0m             \u001b[0;32mtry\u001b[0m\u001b[0;34m:\u001b[0m\u001b[0;34m\u001b[0m\u001b[0m\n\u001b[0;32m-> 2442\u001b[0;31m                 \u001b[0;32mreturn\u001b[0m \u001b[0mself\u001b[0m\u001b[0;34m.\u001b[0m\u001b[0m_engine\u001b[0m\u001b[0;34m.\u001b[0m\u001b[0mget_loc\u001b[0m\u001b[0;34m(\u001b[0m\u001b[0mkey\u001b[0m\u001b[0;34m)\u001b[0m\u001b[0;34m\u001b[0m\u001b[0m\n\u001b[0m\u001b[1;32m   2443\u001b[0m             \u001b[0;32mexcept\u001b[0m \u001b[0mKeyError\u001b[0m\u001b[0;34m:\u001b[0m\u001b[0;34m\u001b[0m\u001b[0m\n",
      "\u001b[0;32mpandas/_libs/index.pyx\u001b[0m in \u001b[0;36mpandas._libs.index.IndexEngine.get_loc (pandas/_libs/index.c:5280)\u001b[0;34m()\u001b[0m\n",
      "\u001b[0;32mpandas/_libs/index.pyx\u001b[0m in \u001b[0;36mpandas._libs.index.IndexEngine.get_loc (pandas/_libs/index.c:5126)\u001b[0;34m()\u001b[0m\n",
      "\u001b[0;32mpandas/_libs/hashtable_class_helper.pxi\u001b[0m in \u001b[0;36mpandas._libs.hashtable.PyObjectHashTable.get_item (pandas/_libs/hashtable.c:20523)\u001b[0;34m()\u001b[0m\n",
      "\u001b[0;32mpandas/_libs/hashtable_class_helper.pxi\u001b[0m in \u001b[0;36mpandas._libs.hashtable.PyObjectHashTable.get_item (pandas/_libs/hashtable.c:20477)\u001b[0;34m()\u001b[0m\n",
      "\u001b[0;31mKeyError\u001b[0m: 'hour'",
      "\nDuring handling of the above exception, another exception occurred:\n",
      "\u001b[0;31mKeyError\u001b[0m                                  Traceback (most recent call last)",
      "\u001b[0;32m<ipython-input-15-578d2c761b02>\u001b[0m in \u001b[0;36m<module>\u001b[0;34m()\u001b[0m\n\u001b[1;32m     19\u001b[0m \u001b[0mto_dummies\u001b[0m \u001b[0;34m=\u001b[0m \u001b[0;34m[\u001b[0m\u001b[0;34m\"hour\"\u001b[0m\u001b[0;34m,\u001b[0m \u001b[0;34m\"day_of_week\"\u001b[0m\u001b[0;34m,\u001b[0m \u001b[0;34m\"quarter\"\u001b[0m\u001b[0;34m,\u001b[0m \u001b[0;34m\"bb_game_type\"\u001b[0m\u001b[0;34m,\u001b[0m \u001b[0;34m\"bb_location\"\u001b[0m\u001b[0;34m,\u001b[0m \u001b[0;34m\"bb_ranked_opponent\"\u001b[0m\u001b[0;34m,\u001b[0m \u001b[0;34m\"bb_game_result\"\u001b[0m\u001b[0;34m,\u001b[0m \u001b[0;34m\"bb_close_game\"\u001b[0m\u001b[0;34m]\u001b[0m\u001b[0;34m\u001b[0m\u001b[0m\n\u001b[1;32m     20\u001b[0m \u001b[0;32mfor\u001b[0m \u001b[0mcol\u001b[0m \u001b[0;32min\u001b[0m \u001b[0mto_dummies\u001b[0m\u001b[0;34m:\u001b[0m\u001b[0;34m\u001b[0m\u001b[0m\n\u001b[0;32m---> 21\u001b[0;31m     \u001b[0mdummy_cols\u001b[0m \u001b[0;34m=\u001b[0m \u001b[0mpd\u001b[0m\u001b[0;34m.\u001b[0m\u001b[0mget_dummies\u001b[0m\u001b[0;34m(\u001b[0m\u001b[0mtraffic_df\u001b[0m\u001b[0;34m[\u001b[0m\u001b[0mcol\u001b[0m\u001b[0;34m]\u001b[0m\u001b[0;34m,\u001b[0m \u001b[0mprefix\u001b[0m\u001b[0;34m=\u001b[0m\u001b[0mcol\u001b[0m\u001b[0;34m)\u001b[0m\u001b[0;34m\u001b[0m\u001b[0m\n\u001b[0m\u001b[1;32m     22\u001b[0m     \u001b[0mtraffic_df\u001b[0m \u001b[0;34m=\u001b[0m \u001b[0mtraffic_df\u001b[0m\u001b[0;34m.\u001b[0m\u001b[0mdrop\u001b[0m\u001b[0;34m(\u001b[0m\u001b[0mcol\u001b[0m\u001b[0;34m,\u001b[0m \u001b[0maxis\u001b[0m\u001b[0;34m=\u001b[0m\u001b[0;36m1\u001b[0m\u001b[0;34m)\u001b[0m\u001b[0;34m.\u001b[0m\u001b[0mjoin\u001b[0m\u001b[0;34m(\u001b[0m\u001b[0mdummy_cols\u001b[0m\u001b[0;34m)\u001b[0m\u001b[0;34m\u001b[0m\u001b[0m\n\u001b[1;32m     23\u001b[0m \u001b[0;34m\u001b[0m\u001b[0m\n",
      "\u001b[0;32m~/MatlabRecSys/Python/lib/python3.4/site-packages/pandas/core/frame.py\u001b[0m in \u001b[0;36m__getitem__\u001b[0;34m(self, key)\u001b[0m\n\u001b[1;32m   1962\u001b[0m             \u001b[0;32mreturn\u001b[0m \u001b[0mself\u001b[0m\u001b[0;34m.\u001b[0m\u001b[0m_getitem_multilevel\u001b[0m\u001b[0;34m(\u001b[0m\u001b[0mkey\u001b[0m\u001b[0;34m)\u001b[0m\u001b[0;34m\u001b[0m\u001b[0m\n\u001b[1;32m   1963\u001b[0m         \u001b[0;32melse\u001b[0m\u001b[0;34m:\u001b[0m\u001b[0;34m\u001b[0m\u001b[0m\n\u001b[0;32m-> 1964\u001b[0;31m             \u001b[0;32mreturn\u001b[0m \u001b[0mself\u001b[0m\u001b[0;34m.\u001b[0m\u001b[0m_getitem_column\u001b[0m\u001b[0;34m(\u001b[0m\u001b[0mkey\u001b[0m\u001b[0;34m)\u001b[0m\u001b[0;34m\u001b[0m\u001b[0m\n\u001b[0m\u001b[1;32m   1965\u001b[0m \u001b[0;34m\u001b[0m\u001b[0m\n\u001b[1;32m   1966\u001b[0m     \u001b[0;32mdef\u001b[0m \u001b[0m_getitem_column\u001b[0m\u001b[0;34m(\u001b[0m\u001b[0mself\u001b[0m\u001b[0;34m,\u001b[0m \u001b[0mkey\u001b[0m\u001b[0;34m)\u001b[0m\u001b[0;34m:\u001b[0m\u001b[0;34m\u001b[0m\u001b[0m\n",
      "\u001b[0;32m~/MatlabRecSys/Python/lib/python3.4/site-packages/pandas/core/frame.py\u001b[0m in \u001b[0;36m_getitem_column\u001b[0;34m(self, key)\u001b[0m\n\u001b[1;32m   1969\u001b[0m         \u001b[0;31m# get column\u001b[0m\u001b[0;34m\u001b[0m\u001b[0;34m\u001b[0m\u001b[0m\n\u001b[1;32m   1970\u001b[0m         \u001b[0;32mif\u001b[0m \u001b[0mself\u001b[0m\u001b[0;34m.\u001b[0m\u001b[0mcolumns\u001b[0m\u001b[0;34m.\u001b[0m\u001b[0mis_unique\u001b[0m\u001b[0;34m:\u001b[0m\u001b[0;34m\u001b[0m\u001b[0m\n\u001b[0;32m-> 1971\u001b[0;31m             \u001b[0;32mreturn\u001b[0m \u001b[0mself\u001b[0m\u001b[0;34m.\u001b[0m\u001b[0m_get_item_cache\u001b[0m\u001b[0;34m(\u001b[0m\u001b[0mkey\u001b[0m\u001b[0;34m)\u001b[0m\u001b[0;34m\u001b[0m\u001b[0m\n\u001b[0m\u001b[1;32m   1972\u001b[0m \u001b[0;34m\u001b[0m\u001b[0m\n\u001b[1;32m   1973\u001b[0m         \u001b[0;31m# duplicate columns & possible reduce dimensionality\u001b[0m\u001b[0;34m\u001b[0m\u001b[0;34m\u001b[0m\u001b[0m\n",
      "\u001b[0;32m~/MatlabRecSys/Python/lib/python3.4/site-packages/pandas/core/generic.py\u001b[0m in \u001b[0;36m_get_item_cache\u001b[0;34m(self, item)\u001b[0m\n\u001b[1;32m   1643\u001b[0m         \u001b[0mres\u001b[0m \u001b[0;34m=\u001b[0m \u001b[0mcache\u001b[0m\u001b[0;34m.\u001b[0m\u001b[0mget\u001b[0m\u001b[0;34m(\u001b[0m\u001b[0mitem\u001b[0m\u001b[0;34m)\u001b[0m\u001b[0;34m\u001b[0m\u001b[0m\n\u001b[1;32m   1644\u001b[0m         \u001b[0;32mif\u001b[0m \u001b[0mres\u001b[0m \u001b[0;32mis\u001b[0m \u001b[0;32mNone\u001b[0m\u001b[0;34m:\u001b[0m\u001b[0;34m\u001b[0m\u001b[0m\n\u001b[0;32m-> 1645\u001b[0;31m             \u001b[0mvalues\u001b[0m \u001b[0;34m=\u001b[0m \u001b[0mself\u001b[0m\u001b[0;34m.\u001b[0m\u001b[0m_data\u001b[0m\u001b[0;34m.\u001b[0m\u001b[0mget\u001b[0m\u001b[0;34m(\u001b[0m\u001b[0mitem\u001b[0m\u001b[0;34m)\u001b[0m\u001b[0;34m\u001b[0m\u001b[0m\n\u001b[0m\u001b[1;32m   1646\u001b[0m             \u001b[0mres\u001b[0m \u001b[0;34m=\u001b[0m \u001b[0mself\u001b[0m\u001b[0;34m.\u001b[0m\u001b[0m_box_item_values\u001b[0m\u001b[0;34m(\u001b[0m\u001b[0mitem\u001b[0m\u001b[0;34m,\u001b[0m \u001b[0mvalues\u001b[0m\u001b[0;34m)\u001b[0m\u001b[0;34m\u001b[0m\u001b[0m\n\u001b[1;32m   1647\u001b[0m             \u001b[0mcache\u001b[0m\u001b[0;34m[\u001b[0m\u001b[0mitem\u001b[0m\u001b[0;34m]\u001b[0m \u001b[0;34m=\u001b[0m \u001b[0mres\u001b[0m\u001b[0;34m\u001b[0m\u001b[0m\n",
      "\u001b[0;32m~/MatlabRecSys/Python/lib/python3.4/site-packages/pandas/core/internals.py\u001b[0m in \u001b[0;36mget\u001b[0;34m(self, item, fastpath)\u001b[0m\n\u001b[1;32m   3588\u001b[0m \u001b[0;34m\u001b[0m\u001b[0m\n\u001b[1;32m   3589\u001b[0m             \u001b[0;32mif\u001b[0m \u001b[0;32mnot\u001b[0m \u001b[0misnull\u001b[0m\u001b[0;34m(\u001b[0m\u001b[0mitem\u001b[0m\u001b[0;34m)\u001b[0m\u001b[0;34m:\u001b[0m\u001b[0;34m\u001b[0m\u001b[0m\n\u001b[0;32m-> 3590\u001b[0;31m                 \u001b[0mloc\u001b[0m \u001b[0;34m=\u001b[0m \u001b[0mself\u001b[0m\u001b[0;34m.\u001b[0m\u001b[0mitems\u001b[0m\u001b[0;34m.\u001b[0m\u001b[0mget_loc\u001b[0m\u001b[0;34m(\u001b[0m\u001b[0mitem\u001b[0m\u001b[0;34m)\u001b[0m\u001b[0;34m\u001b[0m\u001b[0m\n\u001b[0m\u001b[1;32m   3591\u001b[0m             \u001b[0;32melse\u001b[0m\u001b[0;34m:\u001b[0m\u001b[0;34m\u001b[0m\u001b[0m\n\u001b[1;32m   3592\u001b[0m                 \u001b[0mindexer\u001b[0m \u001b[0;34m=\u001b[0m \u001b[0mnp\u001b[0m\u001b[0;34m.\u001b[0m\u001b[0marange\u001b[0m\u001b[0;34m(\u001b[0m\u001b[0mlen\u001b[0m\u001b[0;34m(\u001b[0m\u001b[0mself\u001b[0m\u001b[0;34m.\u001b[0m\u001b[0mitems\u001b[0m\u001b[0;34m)\u001b[0m\u001b[0;34m)\u001b[0m\u001b[0;34m[\u001b[0m\u001b[0misnull\u001b[0m\u001b[0;34m(\u001b[0m\u001b[0mself\u001b[0m\u001b[0;34m.\u001b[0m\u001b[0mitems\u001b[0m\u001b[0;34m)\u001b[0m\u001b[0;34m]\u001b[0m\u001b[0;34m\u001b[0m\u001b[0m\n",
      "\u001b[0;32m~/MatlabRecSys/Python/lib/python3.4/site-packages/pandas/core/indexes/base.py\u001b[0m in \u001b[0;36mget_loc\u001b[0;34m(self, key, method, tolerance)\u001b[0m\n\u001b[1;32m   2442\u001b[0m                 \u001b[0;32mreturn\u001b[0m \u001b[0mself\u001b[0m\u001b[0;34m.\u001b[0m\u001b[0m_engine\u001b[0m\u001b[0;34m.\u001b[0m\u001b[0mget_loc\u001b[0m\u001b[0;34m(\u001b[0m\u001b[0mkey\u001b[0m\u001b[0;34m)\u001b[0m\u001b[0;34m\u001b[0m\u001b[0m\n\u001b[1;32m   2443\u001b[0m             \u001b[0;32mexcept\u001b[0m \u001b[0mKeyError\u001b[0m\u001b[0;34m:\u001b[0m\u001b[0;34m\u001b[0m\u001b[0m\n\u001b[0;32m-> 2444\u001b[0;31m                 \u001b[0;32mreturn\u001b[0m \u001b[0mself\u001b[0m\u001b[0;34m.\u001b[0m\u001b[0m_engine\u001b[0m\u001b[0;34m.\u001b[0m\u001b[0mget_loc\u001b[0m\u001b[0;34m(\u001b[0m\u001b[0mself\u001b[0m\u001b[0;34m.\u001b[0m\u001b[0m_maybe_cast_indexer\u001b[0m\u001b[0;34m(\u001b[0m\u001b[0mkey\u001b[0m\u001b[0;34m)\u001b[0m\u001b[0;34m)\u001b[0m\u001b[0;34m\u001b[0m\u001b[0m\n\u001b[0m\u001b[1;32m   2445\u001b[0m \u001b[0;34m\u001b[0m\u001b[0m\n\u001b[1;32m   2446\u001b[0m         \u001b[0mindexer\u001b[0m \u001b[0;34m=\u001b[0m \u001b[0mself\u001b[0m\u001b[0;34m.\u001b[0m\u001b[0mget_indexer\u001b[0m\u001b[0;34m(\u001b[0m\u001b[0;34m[\u001b[0m\u001b[0mkey\u001b[0m\u001b[0;34m]\u001b[0m\u001b[0;34m,\u001b[0m \u001b[0mmethod\u001b[0m\u001b[0;34m=\u001b[0m\u001b[0mmethod\u001b[0m\u001b[0;34m,\u001b[0m \u001b[0mtolerance\u001b[0m\u001b[0;34m=\u001b[0m\u001b[0mtolerance\u001b[0m\u001b[0;34m)\u001b[0m\u001b[0;34m\u001b[0m\u001b[0m\n",
      "\u001b[0;32mpandas/_libs/index.pyx\u001b[0m in \u001b[0;36mpandas._libs.index.IndexEngine.get_loc (pandas/_libs/index.c:5280)\u001b[0;34m()\u001b[0m\n",
      "\u001b[0;32mpandas/_libs/index.pyx\u001b[0m in \u001b[0;36mpandas._libs.index.IndexEngine.get_loc (pandas/_libs/index.c:5126)\u001b[0;34m()\u001b[0m\n",
      "\u001b[0;32mpandas/_libs/hashtable_class_helper.pxi\u001b[0m in \u001b[0;36mpandas._libs.hashtable.PyObjectHashTable.get_item (pandas/_libs/hashtable.c:20523)\u001b[0;34m()\u001b[0m\n",
      "\u001b[0;32mpandas/_libs/hashtable_class_helper.pxi\u001b[0m in \u001b[0;36mpandas._libs.hashtable.PyObjectHashTable.get_item (pandas/_libs/hashtable.c:20477)\u001b[0;34m()\u001b[0m\n",
      "\u001b[0;31mKeyError\u001b[0m: 'hour'"
     ]
    }
   ],
   "source": [
    "traffic_df = pd.merge(\n",
    "    Y3.drop(['download_traffic'], axis=1),\n",
    "    Y1.drop(['num_clients', 'num_clients_lag_7'], axis=1),\n",
    "    how='left', on='date', sort=False)\n",
    "\n",
    "traffic_df = traffic_df.merge(events_df, how='left', on='date', sort=False)\n",
    "traffic_df = pd.merge(traffic_df, basketball_df, how='left', on='date', sort=False)\n",
    "traffic_df = pd.merge(traffic_df, weather_df, how='left', on='date', sort=False)\n",
    "\n",
    "\n",
    "nan_as_bool = [\"community_event\",\"bb_game\"]\n",
    "for col in nan_as_bool:\n",
    "    traffic_df[col] = traffic_df[col].fillna(value=False).astype(bool)\n",
    "\n",
    "nan_as_zero = [\"bb_cumulative_wins\", \"community_event_count\", \"community_gingerbread_express\", \"community_holiday_market\"]\n",
    "for col in nan_as_zero:\n",
    "    traffic_df[col] = traffic_df[col].fillna(value=0).astype(int)\n",
    "\n",
    "to_dummies = [\"hour\", \"day_of_week\", \"quarter\", \"bb_game_type\", \"bb_location\", \"bb_ranked_opponent\", \"bb_game_result\", \"bb_close_game\"]\n",
    "for col in to_dummies:\n",
    "    dummy_cols = pd.get_dummies(traffic_df[col], prefix=col)\n",
    "    traffic_df = traffic_df.drop(col, axis=1).join(dummy_cols)\n",
    "\n",
    "add_square_terms = [\"wu_temp_high\", \"wu_temp_avg\", \"wu_temp_low\", \n",
    "                    \"wu_humid_high\", \"wu_humid_avg\", \"wu_humid_low\",\n",
    "                    \"wu_wind_high\", \"wu_wind_avg\", \"wu_precip\"]\n",
    "for col in add_square_terms:\n",
    "    traffic_df[\"{}_sq\".format(col)] = traffic_df[col]**2\n",
    "\n",
    "traffic_df.head()"
   ]
  },
  {
   "cell_type": "code",
   "execution_count": 11,
   "metadata": {},
   "outputs": [
    {
     "name": "stdout",
     "output_type": "stream",
     "text": [
      "(2118, 76)\n",
      "Index(['datetime', 'total_traffic', 'date', 'total_traffic_lag_1',\n",
      "       'total_traffic_lag_2', 'total_traffic_lag_3', 'total_traffic_lag_4',\n",
      "       'total_traffic_lag_5', 'total_traffic_lag_6', 'total_traffic_lag_12',\n",
      "       'total_traffic_lag_18', 'total_traffic_lag_42', 'federal_holiday',\n",
      "       'big_holiday_before', 'big_holiday', 'big_holiday_after',\n",
      "       'community_event_count', 'community_event',\n",
      "       'community_gingerbread_express', 'community_holiday_market',\n",
      "       'bb_cumulative_wins', 'bb_game', 'wu_temp_high', 'wu_temp_avg',\n",
      "       'wu_temp_low', 'wu_humid_high', 'wu_humid_avg', 'wu_humid_low',\n",
      "       'wu_wind_high', 'wu_wind_avg', 'wu_precip', 'wu_event_fog',\n",
      "       'wu_event_rain', 'wu_event_snow', 'wu_event_hail',\n",
      "       'wu_event_thunderstorm', 'wu_event_sum', 'hour_2', 'hour_6', 'hour_10',\n",
      "       'hour_14', 'hour_18', 'hour_22', 'day_of_week_fri', 'day_of_week_mon',\n",
      "       'day_of_week_sat', 'day_of_week_sun', 'day_of_week_thu',\n",
      "       'day_of_week_tue', 'day_of_week_wed', 'quarter_q1', 'quarter_q2',\n",
      "       'quarter_q3', 'quarter_q4', 'bb_game_type_conference_tourney',\n",
      "       'bb_game_type_ncaa_tourney', 'bb_game_type_pre_season',\n",
      "       'bb_game_type_regular_season', 'bb_location_away', 'bb_location_home',\n",
      "       'bb_location_neutral', 'bb_ranked_opponent_False',\n",
      "       'bb_ranked_opponent_True', 'bb_game_result_loss', 'bb_game_result_win',\n",
      "       'bb_close_game_False', 'bb_close_game_True', 'wu_temp_high_sq',\n",
      "       'wu_temp_avg_sq', 'wu_temp_low_sq', 'wu_humid_high_sq',\n",
      "       'wu_humid_avg_sq', 'wu_humid_low_sq', 'wu_wind_high_sq',\n",
      "       'wu_wind_avg_sq', 'wu_precip_sq'],\n",
      "      dtype='object')\n"
     ]
    }
   ],
   "source": [
    "print(traffic_df.shape)\n",
    "print(traffic_df.columns)"
   ]
  },
  {
   "cell_type": "code",
   "execution_count": null,
   "metadata": {},
   "outputs": [],
   "source": []
  },
  {
   "cell_type": "code",
   "execution_count": 12,
   "metadata": {},
   "outputs": [],
   "source": [
    "rf_features = ['total_traffic_lag_1', 'total_traffic_lag_2', 'total_traffic_lag_3',\n",
    "       'total_traffic_lag_4', 'total_traffic_lag_5', 'total_traffic_lag_6',\n",
    "       'total_traffic_lag_12', 'total_traffic_lag_18', 'total_traffic_lag_42',\n",
    "       'federal_holiday', 'big_holiday_before', 'big_holiday',\n",
    "       'big_holiday_after', 'community_event_count', 'community_event',\n",
    "       'community_gingerbread_express', 'community_holiday_market',\n",
    "       'bb_cumulative_wins', 'bb_game', 'wu_temp_high', 'wu_temp_avg',\n",
    "       'wu_temp_low', 'wu_humid_high', 'wu_humid_avg', 'wu_humid_low',\n",
    "       'wu_wind_high', 'wu_wind_avg', 'wu_precip', 'wu_event_fog',\n",
    "       'wu_event_rain', 'wu_event_snow', 'wu_event_hail',\n",
    "       'wu_event_thunderstorm', 'wu_event_sum', 'hour_2', 'hour_6', 'hour_10',\n",
    "       'hour_14', 'hour_18', 'hour_22', 'day_of_week_fri', 'day_of_week_mon',\n",
    "       'day_of_week_sat', 'day_of_week_sun', 'day_of_week_thu',\n",
    "       'day_of_week_tue', 'day_of_week_wed', 'quarter_q1', 'quarter_q2',\n",
    "       'quarter_q3', 'quarter_q4', 'bb_game_type_conference_tourney',\n",
    "       'bb_game_type_ncaa_tourney', 'bb_game_type_pre_season',\n",
    "       'bb_game_type_regular_season', 'bb_location_away', 'bb_location_home',\n",
    "       'bb_location_neutral', 'bb_ranked_opponent_False',\n",
    "       'bb_ranked_opponent_True', 'bb_game_result_loss', 'bb_game_result_win',\n",
    "       'bb_close_game_False', 'bb_close_game_True', 'wu_temp_high_sq',\n",
    "       'wu_temp_avg_sq', 'wu_temp_low_sq', 'wu_humid_high_sq',\n",
    "       'wu_humid_avg_sq', 'wu_humid_low_sq', 'wu_wind_high_sq',\n",
    "       'wu_wind_avg_sq', 'wu_precip_sq']\n",
    "\n",
    "\n",
    "drop_rows = np.where(traffic_df.total_traffic_lag_42.isnull())[0]\n",
    "traffic_x = traffic_df.drop(drop_rows, axis=0).set_index(\"datetime\")[rf_features].astype(float)\n",
    "traffic_x[\"intercept\"] = 1.0\n",
    "traffic_y = traffic_df.loc[:,[\"datetime\", \"total_traffic\"]].drop(drop_rows, axis=0).set_index(\"datetime\")"
   ]
  },
  {
   "cell_type": "code",
   "execution_count": 203,
   "metadata": {},
   "outputs": [
    {
     "data": {
      "text/plain": [
       "(2077, 73)"
      ]
     },
     "execution_count": 203,
     "metadata": {},
     "output_type": "execute_result"
    }
   ],
   "source": []
  },
  {
   "cell_type": "code",
   "execution_count": null,
   "metadata": {},
   "outputs": [],
   "source": []
  },
  {
   "cell_type": "code",
   "execution_count": null,
   "metadata": {},
   "outputs": [],
   "source": []
  },
  {
   "cell_type": "code",
   "execution_count": null,
   "metadata": {},
   "outputs": [],
   "source": []
  },
  {
   "cell_type": "code",
   "execution_count": 16,
   "metadata": {},
   "outputs": [
    {
     "data": {
      "text/plain": [
       "RandomForestRegressor(bootstrap=True, criterion='mae', max_depth=None,\n",
       "           max_features='auto', max_leaf_nodes=None,\n",
       "           min_impurity_split=1e-07, min_samples_leaf=1,\n",
       "           min_samples_split=2, min_weight_fraction_leaf=0.0,\n",
       "           n_estimators=500, n_jobs=8, oob_score=False, random_state=None,\n",
       "           verbose=0, warm_start=False)"
      ]
     },
     "execution_count": 16,
     "metadata": {},
     "output_type": "execute_result"
    }
   ],
   "source": [
    "from sklearn.ensemble import RandomForestRegressor\n",
    "\n",
    "rf_model = RandomForestRegressor(n_estimators=500, criterion=\"mae\", n_jobs=8, max_features=\"auto\")\n",
    "rf_model.fit(traffic_x, np.log1p(traffic_y).values.ravel())"
   ]
  },
  {
   "cell_type": "code",
   "execution_count": 19,
   "metadata": {},
   "outputs": [
    {
     "data": {
      "text/plain": [
       "(array([  1.31700000e+03,   3.60000000e+02,   1.81000000e+02,\n",
       "          1.29000000e+02,   5.50000000e+01,   1.10000000e+01,\n",
       "          9.00000000e+00,   1.10000000e+01,   2.00000000e+00,\n",
       "          1.00000000e+00]),\n",
       " array([  2.21009383e+00,   4.69415068e+05,   9.38827926e+05,\n",
       "          1.40824078e+06,   1.87765364e+06,   2.34706650e+06,\n",
       "          2.81647936e+06,   3.28589222e+06,   3.75530507e+06,\n",
       "          4.22471793e+06,   4.69413079e+06]),\n",
       " <a list of 10 Patch objects>)"
      ]
     },
     "execution_count": 19,
     "metadata": {},
     "output_type": "execute_result"
    },
    {
     "data": {
      "image/png": "[encoded data removed]",
      "text/plain": [
       "<matplotlib.figure.Figure at 0x2b92dbf81f60>"
      ]
     },
     "metadata": {},
     "output_type": "display_data"
    }
   ],
   "source": [
    "plt.hist(np.exp(rf_model.predict(traffic_x))-1)"
   ]
  },
  {
   "cell_type": "code",
   "execution_count": null,
   "metadata": {},
   "outputs": [],
   "source": []
  },
  {
   "cell_type": "code",
   "execution_count": null,
   "metadata": {
    "collapsed": true
   },
   "outputs": [],
   "source": []
  },
  {
   "cell_type": "code",
   "execution_count": 61,
   "metadata": {
    "collapsed": true
   },
   "outputs": [],
   "source": [
    "def get_cv_scores(model, full_X, full_Y, cv=10, expon_preds=False, sample_weights=True):\n",
    "    kf = KFold(n_splits=cv, shuffle=True, random_state=339)\n",
    "    kf.get_n_splits(full_X)\n",
    "    k_fold_scores = []\n",
    "\n",
    "    scores = []\n",
    "    for train_index, test_index in kf.split(full_X):\n",
    "        CV_X = full_X.iloc[train_index,:]\n",
    "        CV_Y = full_Y.iloc[train_index]\n",
    "        #if sample_weights:\n",
    "        #    CV_weights = get_sample_weights(CV_X.index)\n",
    "        \n",
    "        holdout_X = full_X.iloc[test_index,:]\n",
    "        holdout_Y = full_Y.iloc[test_index]\n",
    "        if sample_weights:\n",
    "            holdout_weights = get_sample_weights(holdout_X.index)\n",
    "        \n",
    "        \n",
    "        fold_preds = model.predict(holdout_X)\n",
    "        if expon_preds==True:\n",
    "            fold_preds = np.exp(fold_preds)-1\n",
    "        fold_mape = mean_absolute_percentage_error(holdout_Y, fold_preds, sample_weights=holdout_weights)\n",
    "        scores.append(fold_mape)\n",
    "    return(np.array(scores))"
   ]
  },
  {
   "cell_type": "code",
   "execution_count": 64,
   "metadata": {},
   "outputs": [
    {
     "name": "stdout",
     "output_type": "stream",
     "text": [
      "Found zeroes in y_true. MAPE undefined. Removing from set...\n",
      "Found zeroes in y_true. MAPE undefined. Removing from set...\n",
      "Found zeroes in y_true. MAPE undefined. Removing from set...\n",
      "Found zeroes in y_true. MAPE undefined. Removing from set...\n",
      "Found zeroes in y_true. MAPE undefined. Removing from set...\n",
      "Found zeroes in y_true. MAPE undefined. Removing from set...\n",
      "Found zeroes in y_true. MAPE undefined. Removing from set...\n",
      "Found zeroes in y_true. MAPE undefined. Removing from set...\n",
      "Found zeroes in y_true. MAPE undefined. Removing from set...\n",
      "Found zeroes in y_true. MAPE undefined. Removing from set...\n"
     ]
    },
    {
     "data": {
      "text/plain": [
       "array([ 45.04728161,  95.23213489,  44.67765311,  85.15390582,\n",
       "        53.12347156,  38.1467932 ,  50.5714807 ,  53.84969996,\n",
       "        52.38771805,  86.77757558])"
      ]
     },
     "execution_count": 64,
     "metadata": {},
     "output_type": "execute_result"
    }
   ],
   "source": [
    "rf_cv_scores = get_cv_scores(rf_model, traffic_x, traffic_y, cv=10, expon_preds=True, sample_weights=True)\n",
    "rf_cv_scores"
   ]
  },
  {
   "cell_type": "code",
   "execution_count": 57,
   "metadata": {},
   "outputs": [
    {
     "name": "stdout",
     "output_type": "stream",
     "text": [
      "Found zeroes in y_true. MAPE undefined. Removing from set...\n",
      "Found zeroes in y_true. MAPE undefined. Removing from set...\n",
      "Found zeroes in y_true. MAPE undefined. Removing from set...\n",
      "Found zeroes in y_true. MAPE undefined. Removing from set...\n",
      "Found zeroes in y_true. MAPE undefined. Removing from set...\n"
     ]
    }
   ],
   "source": [
    "model = rf_model\n",
    "full_X = traffic_x\n",
    "full_Y = traffic_y\n",
    "kf = KFold(n_splits=5, shuffle=True, random_state=482)\n",
    "kf.get_n_splits(full_X)\n",
    "\n",
    "scores = []\n",
    "for train_index, test_index in kf.split(full_X):\n",
    "    CV_X = full_X.iloc[train_index,:]\n",
    "    CV_Y = full_Y.iloc[train_index]\n",
    "\n",
    "    holdout_X = full_X.iloc[test_index,:]\n",
    "    holdout_Y = full_Y.iloc[test_index]\n",
    "    holdout_weights = get_sample_weights(holdout_X.index)\n",
    "\n",
    "    fold_preds = model.predict(holdout_X)\n",
    "    if True:\n",
    "        fold_preds = np.exp(fold_preds)-1\n",
    "    fold_mape = mean_absolute_percentage_error(holdout_Y, fold_preds, sample_weights=holdout_weights)\n",
    "    scores.append(fold_mape)"
   ]
  },
  {
   "cell_type": "code",
   "execution_count": 65,
   "metadata": {},
   "outputs": [
    {
     "data": {
      "text/plain": [
       "60.496771448308934"
      ]
     },
     "execution_count": 65,
     "metadata": {},
     "output_type": "execute_result"
    }
   ],
   "source": [
    "rf_cv_scores.mean()"
   ]
  },
  {
   "cell_type": "code",
   "execution_count": 52,
   "metadata": {},
   "outputs": [
    {
     "data": {
      "text/plain": [
       "(array([ 37,  55, 360, 378, 381, 398]),)"
      ]
     },
     "execution_count": 52,
     "metadata": {},
     "output_type": "execute_result"
    }
   ],
   "source": []
  },
  {
   "cell_type": "code",
   "execution_count": 56,
   "metadata": {},
   "outputs": [
    {
     "name": "stdout",
     "output_type": "stream",
     "text": [
      "Found zeroes in y_true. MAPE undefined. Removing from set...\n"
     ]
    },
    {
     "data": {
      "text/plain": [
       "76.262087920607271"
      ]
     },
     "execution_count": 56,
     "metadata": {},
     "output_type": "execute_result"
    }
   ],
   "source": [
    "mean_absolute_percentage_error(holdout_Y.total_traffic, holdout_Y.preds, sample_weights=holdout_weights)"
   ]
  },
  {
   "cell_type": "code",
   "execution_count": 47,
   "metadata": {
    "collapsed": true
   },
   "outputs": [],
   "source": [
    "sample_weights = holdout_weights\n",
    "y_true = holdout_Y.total_traffic\n",
    "y_pred = holdout_Y.preds"
   ]
  },
  {
   "cell_type": "code",
   "execution_count": 49,
   "metadata": {},
   "outputs": [
    {
     "data": {
      "text/plain": [
       "inf"
      ]
     },
     "execution_count": 49,
     "metadata": {},
     "output_type": "execute_result"
    }
   ],
   "source": [
    "(100/sum(sample_weights)*np.dot(sample_weights, (np.abs((y_true - y_pred) / y_true))))"
   ]
  },
  {
   "cell_type": "code",
   "execution_count": 55,
   "metadata": {
    "collapsed": true
   },
   "outputs": [],
   "source": [
    "def mean_absolute_percentage_error(y_true, y_pred, sample_weights=None):\n",
    "    y_true = np.array(y_true)\n",
    "    y_pred = np.array(y_pred)\n",
    "    \n",
    "    assert len(y_true) == len(y_pred)\n",
    "    \n",
    "    if np.any(y_true==0):\n",
    "        print(\"Found zeroes in y_true. MAPE undefined. Removing from set...\")\n",
    "        idx = np.where(y_true==0)\n",
    "        y_true = np.delete(y_true, idx)\n",
    "        y_pred = np.delete(y_pred, idx)\n",
    "        if type(sample_weights) != type(None):\n",
    "            sample_weights = np.array(sample_weights)\n",
    "            sample_weights = np.delete(sample_weights, idx)\n",
    "    \n",
    "    if type(sample_weights) == type(None):\n",
    "        return(np.mean(np.abs((y_true - y_pred) / y_true)) * 100)\n",
    "    else:\n",
    "        sample_weights = np.array(sample_weights)\n",
    "        return( (100/sum(sample_weights)*np.dot(sample_weights, (np.abs((y_true - y_pred) / y_true)))) )"
   ]
  },
  {
   "cell_type": "code",
   "execution_count": null,
   "metadata": {},
   "outputs": [],
   "source": [
    "class RFCrossValidator:\n",
    "    \"\"\"\n",
    "    Cross validates arbitrary model using MAPE criterion\n",
    "    \"\"\"\n",
    "    def __init__(self, model_data, ModelClass):\n",
    "        self.model_data = model_data\n",
    "        self.ModelClass = ModelClass\n",
    "    \n",
    "    def cross_validate(self, lambdas, num_folds=10):\n",
    "        \"\"\"\n",
    "        lambdas: set of regularization parameters to try\n",
    "        num_folds: number of folds to cross-validate against\n",
    "        \"\"\"\n",
    "        \n",
    "        self.lambdas = lambdas\n",
    "        self.cv_scores = []\n",
    "        X = self.model_data.X\n",
    "        Y = self.model_data.Y        \n",
    "        \n",
    "        for lam in self.lambdas:\n",
    "            \n",
    "            kf = KFold(n_splits=num_folds, shuffle=True, random_state=3939)\n",
    "            kf.get_n_splits(X)\n",
    "            \n",
    "            k_fold_scores = []\n",
    "            \n",
    "            f = 1\n",
    "            for train_index, test_index in kf.split(X):\n",
    "                print(\"Lambda: {}. Fold: {}\".format(lam, f))\n",
    "                f += 1\n",
    "                CV_X = X.iloc[train_index,:]\n",
    "                CV_Y = Y.iloc[train_index]\n",
    "                \n",
    "                # This weights more recent weeks higher in loss function\n",
    "                CV_weights = get_sample_weights(CV_X.index)\n",
    "                \n",
    "                holdout_X = X.iloc[test_index,:]\n",
    "                holdout_Y = Y.iloc[test_index]\n",
    "                \n",
    "                lambda_fold_model = LinearModel_MAPE(regularization=lam, X=CV_X, Y=CV_Y, sample_weights=CV_weights)\n",
    "                lambda_fold_model.fit()\n",
    "                \n",
    "                fold_preds = lambda_fold_model.predict(holdout_X)\n",
    "                fold_mape = mean_absolute_percentage_error(holdout_Y, fold_preds)\n",
    "                k_fold_scores.append(fold_mape)\n",
    "                \n",
    "            lambda_scores = np.mean(k_fold_scores)\n",
    "            self.cv_scores.append(lambda_scores)\n",
    "        \n",
    "        self.lambda_star_index = np.argmin(self.cv_scores)\n",
    "        self.lambda_star = self.lambdas[self.lambda_star_index]"
   ]
  },
  {
   "cell_type": "code",
   "execution_count": null,
   "metadata": {},
   "outputs": [],
   "source": []
  },
  {
   "cell_type": "code",
   "execution_count": null,
   "metadata": {},
   "outputs": [],
   "source": []
  },
  {
   "cell_type": "code",
   "execution_count": 70,
   "metadata": {},
   "outputs": [
    {
     "data": {
      "text/plain": [
       "[<matplotlib.lines.Line2D at 0x2b92feae0860>]"
      ]
     },
     "execution_count": 70,
     "metadata": {},
     "output_type": "execute_result"
    },
    {
     "data": {
      "image/png": "[encoded data removed]",
      "text/plain": [
       "<matplotlib.figure.Figure at 0x2b92feac8240>"
      ]
     },
     "metadata": {},
     "output_type": "display_data"
    }
   ],
   "source": [
    "M = 2000\n",
    "N = 50\n",
    "plt.plot(traffic_df.index[M:(M+N)], traffic_df.total_traffic[M:(M+N)])"
   ]
  },
  {
   "cell_type": "code",
   "execution_count": null,
   "metadata": {
    "collapsed": true
   },
   "outputs": [],
   "source": []
  },
  {
   "cell_type": "code",
   "execution_count": null,
   "metadata": {},
   "outputs": [],
   "source": []
  },
  {
   "cell_type": "code",
   "execution_count": null,
   "metadata": {},
   "outputs": [],
   "source": []
  },
  {
   "cell_type": "code",
   "execution_count": 205,
   "metadata": {},
   "outputs": [
    {
     "data": {
      "text/plain": [
       "[<matplotlib.lines.Line2D at 0x2b16bc374cf8>]"
      ]
     },
     "execution_count": 205,
     "metadata": {},
     "output_type": "execute_result"
    },
    {
     "data": {
      "image/png": "[encoded data removed]",
      "text/plain": [
       "<matplotlib.figure.Figure at 0x2b16b044a438>"
      ]
     },
     "metadata": {},
     "output_type": "display_data"
    }
   ],
   "source": [
    "plt.plot(full_df.index, full_df.total_traffic)"
   ]
  },
  {
   "cell_type": "code",
   "execution_count": 225,
   "metadata": {},
   "outputs": [
    {
     "data": {
      "text/plain": [
       "52"
      ]
     },
     "execution_count": 225,
     "metadata": {},
     "output_type": "execute_result"
    }
   ],
   "source": [
    "datetime.date(2017, 1, 1).isocalendar()[1]"
   ]
  },
  {
   "cell_type": "code",
   "execution_count": null,
   "metadata": {
    "collapsed": true
   },
   "outputs": [],
   "source": []
  },
  {
   "cell_type": "code",
   "execution_count": 193,
   "metadata": {
    "collapsed": true
   },
   "outputs": [],
   "source": [
    "def get_model_df(df=full_df, metric='num_clients', include_lags=True, col_type=\"X\"):\n",
    "    assert col_type in [\"X\", \"Y\"]\n",
    "    #assert model_type in [\"train\", \"test\"]\n",
    "    output_cols = ['num_clients', 'num_sessions', 'total_traffic']\n",
    "    assert metric in output_cols\n",
    "    lag_column = \"{}_lag_7\".format(metric)\n",
    "    \n",
    "    # Get right columns\n",
    "    if col_type==\"X\":\n",
    "        lag_cols = [c for c in df.columns if \"lag\" in c]\n",
    "        omit_cols = ['date'] + output_cols + lag_cols\n",
    "        columns = [c for c in df.columns if c not in omit_cols]\n",
    "        if include_lags:\n",
    "            columns.append(lag_column)\n",
    "            \n",
    "    elif col_type==\"Y\":\n",
    "        columns = [metric]\n",
    "    \n",
    "    \n",
    "    # Get right rows\n",
    "    # not null output & date before test period\n",
    "    rows = ~(df.reset_index()[metric].isnull()) & (df.reset_index().date < datetime.date(2017,12,21))\n",
    "    \n",
    "    if include_lags:\n",
    "        rows = (rows) & ~(df.reset_index()[lag_column].isnull())\n",
    "    \n",
    "    return(df.reset_index().loc[rows, ['date'] + columns].set_index('date'))\n",
    "        \n",
    "    "
   ]
  },
  {
   "cell_type": "code",
   "execution_count": null,
   "metadata": {
    "collapsed": true
   },
   "outputs": [],
   "source": []
  },
  {
   "cell_type": "code",
   "execution_count": null,
   "metadata": {
    "collapsed": true
   },
   "outputs": [],
   "source": []
  },
  {
   "cell_type": "code",
   "execution_count": 12,
   "metadata": {
    "collapsed": true
   },
   "outputs": [],
   "source": [
    "num_clients_x = get_model_df(df=full_df, metric='num_clients', col_type=\"X\", include_lags=True)\n",
    "num_clients_y = get_model_df(df=full_df, metric='num_clients', col_type=\"Y\", include_lags=True)"
   ]
  },
  {
   "cell_type": "code",
   "execution_count": 13,
   "metadata": {
    "collapsed": true
   },
   "outputs": [],
   "source": [
    "full_index = deepcopy(list(num_clients_x.index))\n",
    "np.random.shuffle(full_index)\n",
    "n_train = int(num_clients_x.shape[0]/2)\n",
    "train_index = full_index[0:n_train]\n",
    "test_index = full_index[n_train:]"
   ]
  },
  {
   "cell_type": "code",
   "execution_count": 14,
   "metadata": {
    "collapsed": true
   },
   "outputs": [],
   "source": [
    "train_x = num_clients_x.loc[train_index, :]\n",
    "train_y = num_clients_y.loc[train_index, :]\n",
    "\n",
    "test_x = num_clients_x.loc[test_index, :]\n",
    "test_y = num_clients_y.loc[test_index, :]"
   ]
  },
  {
   "cell_type": "code",
   "execution_count": null,
   "metadata": {
    "collapsed": true
   },
   "outputs": [],
   "source": []
  },
  {
   "cell_type": "code",
   "execution_count": 24,
   "metadata": {
    "collapsed": true
   },
   "outputs": [],
   "source": [
    "def mean_absolute_percentage_error(y_true, y_pred, sample_weights=None):\n",
    "    y_true = np.array(y_true)\n",
    "    y_pred = np.array(y_pred)\n",
    "    assert len(y_true) == len(y_pred)\n",
    "    \n",
    "    if type(sample_weights) == type(None):\n",
    "        return(np.mean(np.abs((y_true - y_pred) / y_true)) * 100)\n",
    "    else:\n",
    "        sample_weights = np.array(sample_weights)\n",
    "        return( (100/sum(sample_weights)*np.dot(sample_weights, (np.abs((y_true - y_pred) / y_true)))) )"
   ]
  },
  {
   "cell_type": "code",
   "execution_count": 15,
   "metadata": {
    "collapsed": true
   },
   "outputs": [],
   "source": [
    "\n",
    "MAPE = make_scorer(mean_absolute_percentage_error, greater_is_better=False)\n",
    "alphas = sorted([10**(-n) for n in range(1,12)] + list(np.array([10**(-n) for n in range(1,12)])*5))\n",
    "\n",
    "ridge_model = linear_model.RidgeCV(alphas=alphas, normalize=True, scoring=MAPE, cv=None)"
   ]
  },
  {
   "cell_type": "code",
   "execution_count": 204,
   "metadata": {},
   "outputs": [
    {
     "data": {
      "text/plain": [
       "RidgeCV(alphas=[1e-11, 4.9999999999999995e-11, 1e-10, 5.0000000000000003e-10, 1e-09, 5.0000000000000001e-09, 1e-08, 4.9999999999999998e-08, 1e-07, 4.9999999999999998e-07, 1e-06, 4.9999999999999996e-06, 1e-05, 5.0000000000000002e-05, 0.0001, 0.00050000000000000001, 0.001, 0.0050000000000000001, 0.01, 0.050000000000000003, 0.1, 0.5],\n",
       "    cv=None, fit_intercept=True, gcv_mode=None, normalize=True,\n",
       "    scoring=make_scorer(mean_absolute_percentage_error, greater_is_better=False),\n",
       "    store_cv_values=False)"
      ]
     },
     "execution_count": 204,
     "metadata": {},
     "output_type": "execute_result"
    }
   ],
   "source": [
    "ridge_model.fit(train_x, train_y)"
   ]
  },
  {
   "cell_type": "code",
   "execution_count": 236,
   "metadata": {},
   "outputs": [
    {
     "data": {
      "text/plain": [
       "num_clients    23.038196\n",
       "dtype: float64"
      ]
     },
     "execution_count": 236,
     "metadata": {},
     "output_type": "execute_result"
    }
   ],
   "source": [
    "pred_y = ridge_model.predict(train_x)\n",
    "mean_absolute_percentage_error(pred_y, train_y)"
   ]
  },
  {
   "cell_type": "code",
   "execution_count": 237,
   "metadata": {},
   "outputs": [
    {
     "data": {
      "text/plain": [
       "0.68268050994169727"
      ]
     },
     "execution_count": 237,
     "metadata": {},
     "output_type": "execute_result"
    }
   ],
   "source": [
    "ridge_model.score(train_x, train_y)"
   ]
  },
  {
   "cell_type": "code",
   "execution_count": null,
   "metadata": {
    "collapsed": true
   },
   "outputs": [],
   "source": []
  },
  {
   "cell_type": "code",
   "execution_count": null,
   "metadata": {
    "collapsed": true
   },
   "outputs": [],
   "source": []
  },
  {
   "cell_type": "code",
   "execution_count": null,
   "metadata": {
    "collapsed": true
   },
   "outputs": [],
   "source": []
  },
  {
   "cell_type": "code",
   "execution_count": 279,
   "metadata": {},
   "outputs": [
    {
     "data": {
      "text/plain": [
       "Index(['date', 'num_clients', 'num_clients_lag_7', 'federal_holiday',\n",
       "       'big_holiday_before', 'big_holiday_after', 'num_sessions',\n",
       "       'num_sessions_lag_7', 'download_traffic', 'total_traffic',\n",
       "       'total_traffic_lag_7', 'community_event', 'community_event_count',\n",
       "       'community_gingerbread_express', 'community_holiday_market',\n",
       "       'wu_temp_high', 'wu_temp_avg', 'wu_temp_low', 'wu_humid_high',\n",
       "       'wu_humid_avg', 'wu_humid_low', 'wu_wind_high', 'wu_wind_avg',\n",
       "       'wu_precip', 'wu_event_fog', 'wu_event_rain', 'wu_event_snow',\n",
       "       'wu_event_hail', 'wu_event_thunderstorm', 'wu_event_sum',\n",
       "       'bb_cumulative_wins', 'bb_game', 'day_of_week_fri', 'day_of_week_mon',\n",
       "       'day_of_week_sat', 'day_of_week_sun', 'day_of_week_thu',\n",
       "       'day_of_week_tue', 'day_of_week_wed', 'quarter_q1', 'quarter_q2',\n",
       "       'quarter_q3', 'quarter_q4', 'bb_game_type_conference_tourney',\n",
       "       'bb_game_type_ncaa_tourney', 'bb_game_type_pre_season',\n",
       "       'bb_game_type_regular_season', 'bb_location_away', 'bb_location_home',\n",
       "       'bb_location_neutral', 'bb_ranked_opponent_False',\n",
       "       'bb_ranked_opponent_True', 'bb_game_result_loss', 'bb_game_result_win',\n",
       "       'bb_close_game_False', 'bb_close_game_True', 'wu_temp_high_sq',\n",
       "       'wu_temp_avg_sq', 'wu_temp_low_sq', 'wu_humid_high_sq',\n",
       "       'wu_humid_avg_sq', 'wu_humid_low_sq', 'wu_wind_high_sq',\n",
       "       'wu_wind_avg_sq', 'wu_precip_sq'],\n",
       "      dtype='object')"
      ]
     },
     "execution_count": 279,
     "metadata": {},
     "output_type": "execute_result"
    }
   ],
   "source": [
    "full_df.columns"
   ]
  },
  {
   "cell_type": "code",
   "execution_count": null,
   "metadata": {
    "collapsed": true
   },
   "outputs": [],
   "source": []
  },
  {
   "cell_type": "code",
   "execution_count": 109,
   "metadata": {
    "collapsed": true
   },
   "outputs": [],
   "source": [
    "# custom model\n",
    "features = [\n",
    "    \"num_clients_lag_7\", \n",
    "    'day_of_week_fri', 'day_of_week_mon', 'day_of_week_sat', 'day_of_week_sun', 'day_of_week_thu', 'day_of_week_tue', 'day_of_week_wed',\n",
    "    'quarter_q1', 'quarter_q2', 'quarter_q3', 'quarter_q4',\n",
    "    \"federal_holiday\", \"big_holiday_before\", \"big_holiday_after\",\n",
    "    'community_event', 'community_event_count', 'community_gingerbread_express', 'community_holiday_market',\n",
    "    \"wu_temp_high\", \"wu_temp_high_sq\", \"wu_precip\", \"wu_precip_sq\", \"wu_humid_low\", \"wu_humid_low_sq\", 'wu_wind_avg', 'wu_event_sum', \"wu_event_thunderstorm\",  \n",
    "    \"bb_game\", 'bb_location_away', 'bb_location_home', \"bb_ranked_opponent_True\", \"bb_cumulative_wins\"\n",
    "]\n",
    "\n",
    "interactions = [\n",
    "    ('quarter_q4', \"num_clients_lag_7\"),\n",
    "    ('quarter_q4', \"wu_temp_high\"),\n",
    "    ('quarter_q4', \"wu_precip\")\n",
    "]\n",
    "\n",
    "\n",
    "\n",
    "class ModelData:\n",
    "    def __init__(self, train_x, train_y, features=features, interactions=interactions):\n",
    "        assert all(train_x.index == train_y.index)\n",
    "        self.train_x = train_x\n",
    "        if type(train_y) == pd.core.frame.DataFrame:\n",
    "            self.train_y = train_y.iloc[:,0]\n",
    "        elif type(train_y) == pd.core.series.Series:\n",
    "            self.train_y = train_y\n",
    "        else:\n",
    "            raise Exception(\"WRONG TYPE: train_y\")\n",
    "        \n",
    "        self.num_coefs = len(features) + len(interactions) + 1\n",
    "        \n",
    "        X = deepcopy(self.train_x[features])\n",
    "        X[\"intercept\"] = 1\n",
    "        for interaction in interactions:\n",
    "            X[\"{}_X_{}\".format(*interaction)] = deepcopy(self.train_x[interaction[0]].multiply(self.train_x[interaction[1]]))\n",
    "        for col in X.columns:\n",
    "            X[col] = X[col].astype(float)\n",
    "        self.X = X\n",
    "    \n",
    "    def predict(self, beta):\n",
    "        beta_series = pd.Series(beta, index=self.X.columns).astype(float)\n",
    "        prediction = X.dot(beta_series)\n",
    "        return(prediction)\n",
    "\n",
    "class ModelObject:\n",
    "    def __init__(self, linear_model, regularization=0.01):\n",
    "        self.linear_model = linear_model\n",
    "        self.X = linear_model.X\n",
    "        self.train_x = linear_model.train_x\n",
    "        self.train_y = linear_model.train_y\n",
    "        self.regularization = regularization\n",
    "        self.beta_init = [1]*linear_model.num_coefs\n",
    "        self.beta = None\n",
    "\n",
    "    def predict(self, X):\n",
    "        beta_series = pd.Series(self.beta, index=X.columns).astype(float)\n",
    "        prediction = X.dot(beta_series)\n",
    "        return(prediction)\n",
    "    \n",
    "    def error(self):\n",
    "        predictions = self.predict(self.X)\n",
    "        assert all(self.predict(self.X).index == self.train_y.index)\n",
    "        return(mean_absolute_percentage_error(self.train_y, predictions))\n",
    "    \n",
    "    def l2_regularization_loss(self, beta):\n",
    "        self.beta = beta\n",
    "        return(self.error() + sum(self.regularization*np.array(self.beta)**2))\n",
    "    \n",
    "    def fit(self):\n",
    "        if self.beta_init == self.beta:\n",
    "            print(\"Model already fit once; continuing fit with more itrations.\")\n",
    "        res = minimize(self.l2_regularization_loss, self.beta_init, method='BFGS', options={'maxiter': 250})\n",
    "        self.beta = res.x\n",
    "        self.beta_init = self.beta\n",
    "\n",
    "my_model = LinearModel(train_x, train_y)\n",
    "model = ModelObject(my_model)"
   ]
  },
  {
   "cell_type": "code",
   "execution_count": 110,
   "metadata": {
    "collapsed": true
   },
   "outputs": [],
   "source": [
    "model.fit()"
   ]
  },
  {
   "cell_type": "code",
   "execution_count": null,
   "metadata": {
    "collapsed": true
   },
   "outputs": [],
   "source": []
  },
  {
   "cell_type": "code",
   "execution_count": 119,
   "metadata": {
    "collapsed": true
   },
   "outputs": [],
   "source": [
    "from sklearn.model_selection import cross_val_score\n",
    "from sklearn.model_selection import KFold\n",
    "\n",
    "lambdas = sorted([10**(-n) for n in range(1,12)] + list(np.array([10**(-n) for n in range(1,12)])*5))\n",
    "\n",
    "class myLinearModelCV:\n",
    "    def __init__(self, linear_model):\n",
    "        self.linear_model = linear_model\n",
    "    \n",
    "    def cross_validate(self, lambdas, num_folds=10):\n",
    "        self.lambdas = lambdas\n",
    "        self.cv_scores = []\n",
    "        X = self.linear_model.train_x\n",
    "        Y = self.linear_model.train_y\n",
    "        for lam in self.lambdas:\n",
    "            \n",
    "            kf = KFold(n_splits=num_folds, shuffle=True, random_state=3939)\n",
    "            kf.get_n_splits(X)\n",
    "            \n",
    "            k_fold_scores = []\n",
    "            \n",
    "            f = 1\n",
    "            for train_index, test_index in kf.split(X):\n",
    "                print(\"Lambda: {}. Fold: {}\".format(lam, f))\n",
    "                f += 1\n",
    "                CV_X = X.iloc[train_index,:]\n",
    "                CV_Y = Y.iloc[train_index]\n",
    "                holdout_X = X.iloc[test_index,:]\n",
    "                holdout_Y = Y.iloc[test_index]\n",
    "                holdout_X_formatted = LinearModel(holdout_X, holdout_Y).X\n",
    "                \n",
    "                lambda_fold_model = ModelObject(LinearModel(CV_X, CV_Y), regularization=lam)\n",
    "                lambda_fold_model.fit()\n",
    "                \n",
    "                fold_preds = lambda_fold_model.predict(holdout_X_formatted)\n",
    "                fold_mape = mean_absolute_percentage_error(holdout_Y, fold_preds)\n",
    "                k_fold_scores.append(fold_mape)\n",
    "                \n",
    "            lambda_scores = np.mean(k_fold_scores)\n",
    "            self.cv_scores.append(lambda_scores)\n",
    "            \n",
    "        self.lambda_star_index = np.argmin(self.cv_scores)\n",
    "        self.lambda_star = self.lambdas[self.lambda_star_index]\n",
    "        "
   ]
  },
  {
   "cell_type": "code",
   "execution_count": 120,
   "metadata": {
    "collapsed": true
   },
   "outputs": [],
   "source": [
    "mlcv = myLinearModelCV(my_model)"
   ]
  },
  {
   "cell_type": "code",
   "execution_count": 121,
   "metadata": {},
   "outputs": [
    {
     "name": "stderr",
     "output_type": "stream",
     "text": [
      "\n",
      "  0%|          | 0/22 [00:00<?, ?it/s]\u001b[A"
     ]
    },
    {
     "name": "stdout",
     "output_type": "stream",
     "text": [
      "Lambda: 1e-11. Fold: 1\n",
      "Lambda: 1e-11. Fold: 2\n"
     ]
    },
    {
     "name": "stderr",
     "output_type": "stream",
     "text": [
      "\n"
     ]
    },
    {
     "name": "stdout",
     "output_type": "stream",
     "text": [
      "Lambda: 1e-11. Fold: 3\n",
      "Lambda: 1e-11. Fold: 4\n",
      "Lambda: 1e-11. Fold: 5\n",
      "Lambda: 1e-11. Fold: 6\n",
      "Lambda: 1e-11. Fold: 7\n",
      "Lambda: 1e-11. Fold: 8\n",
      "Lambda: 1e-11. Fold: 9\n",
      "Lambda: 1e-11. Fold: 10\n"
     ]
    },
    {
     "name": "stderr",
     "output_type": "stream",
     "text": [
      "\r",
      "  5%|▍         | 1/22 [01:46<37:13, 106.36s/it]"
     ]
    },
    {
     "name": "stdout",
     "output_type": "stream",
     "text": [
      "Lambda: 4.9999999999999995e-11. Fold: 1\n",
      "Lambda: 4.9999999999999995e-11. Fold: 2\n",
      "Lambda: 4.9999999999999995e-11. Fold: 3\n",
      "Lambda: 4.9999999999999995e-11. Fold: 4\n",
      "Lambda: 4.9999999999999995e-11. Fold: 5\n",
      "Lambda: 4.9999999999999995e-11. Fold: 6\n",
      "Lambda: 4.9999999999999995e-11. Fold: 7\n",
      "Lambda: 4.9999999999999995e-11. Fold: 8\n",
      "Lambda: 4.9999999999999995e-11. Fold: 9\n",
      "Lambda: 4.9999999999999995e-11. Fold: 10\n"
     ]
    },
    {
     "name": "stderr",
     "output_type": "stream",
     "text": [
      "\r",
      "  9%|▉         | 2/22 [03:45<36:44, 110.24s/it]"
     ]
    },
    {
     "name": "stdout",
     "output_type": "stream",
     "text": [
      "Lambda: 1e-10. Fold: 1\n",
      "Lambda: 1e-10. Fold: 2\n",
      "Lambda: 1e-10. Fold: 3\n",
      "Lambda: 1e-10. Fold: 4\n",
      "Lambda: 1e-10. Fold: 5\n",
      "Lambda: 1e-10. Fold: 6\n",
      "Lambda: 1e-10. Fold: 7\n",
      "Lambda: 1e-10. Fold: 8\n",
      "Lambda: 1e-10. Fold: 9\n",
      "Lambda: 1e-10. Fold: 10\n"
     ]
    },
    {
     "name": "stderr",
     "output_type": "stream",
     "text": [
      "\r",
      " 14%|█▎        | 3/22 [05:44<35:43, 112.83s/it]"
     ]
    },
    {
     "name": "stdout",
     "output_type": "stream",
     "text": [
      "Lambda: 5e-10. Fold: 1\n",
      "Lambda: 5e-10. Fold: 2\n",
      "Lambda: 5e-10. Fold: 3\n",
      "Lambda: 5e-10. Fold: 4\n",
      "Lambda: 5e-10. Fold: 5\n",
      "Lambda: 5e-10. Fold: 6\n",
      "Lambda: 5e-10. Fold: 7\n",
      "Lambda: 5e-10. Fold: 8\n",
      "Lambda: 5e-10. Fold: 9\n",
      "Lambda: 5e-10. Fold: 10\n"
     ]
    },
    {
     "name": "stderr",
     "output_type": "stream",
     "text": [
      "\r",
      " 18%|█▊        | 4/22 [07:37<33:50, 112.83s/it]"
     ]
    },
    {
     "name": "stdout",
     "output_type": "stream",
     "text": [
      "Lambda: 1e-09. Fold: 1\n",
      "Lambda: 1e-09. Fold: 2\n",
      "Lambda: 1e-09. Fold: 3\n",
      "Lambda: 1e-09. Fold: 4\n",
      "Lambda: 1e-09. Fold: 5\n",
      "Lambda: 1e-09. Fold: 6\n",
      "Lambda: 1e-09. Fold: 7\n",
      "Lambda: 1e-09. Fold: 8\n",
      "Lambda: 1e-09. Fold: 9\n",
      "Lambda: 1e-09. Fold: 10\n"
     ]
    },
    {
     "name": "stderr",
     "output_type": "stream",
     "text": [
      "\r",
      " 23%|██▎       | 5/22 [09:39<32:44, 115.58s/it]"
     ]
    },
    {
     "name": "stdout",
     "output_type": "stream",
     "text": [
      "Lambda: 5e-09. Fold: 1\n",
      "Lambda: 5e-09. Fold: 2\n",
      "Lambda: 5e-09. Fold: 3\n",
      "Lambda: 5e-09. Fold: 4\n",
      "Lambda: 5e-09. Fold: 5\n",
      "Lambda: 5e-09. Fold: 6\n",
      "Lambda: 5e-09. Fold: 7\n",
      "Lambda: 5e-09. Fold: 8\n",
      "Lambda: 5e-09. Fold: 9\n"
     ]
    },
    {
     "name": "stderr",
     "output_type": "stream",
     "text": [
      "\r",
      " 27%|██▋       | 6/22 [11:38<31:04, 116.50s/it]"
     ]
    },
    {
     "name": "stdout",
     "output_type": "stream",
     "text": [
      "Lambda: 5e-09. Fold: 10\n",
      "Lambda: 1e-08. Fold: 1\n",
      "Lambda: 1e-08. Fold: 2\n",
      "Lambda: 1e-08. Fold: 3\n",
      "Lambda: 1e-08. Fold: 4\n",
      "Lambda: 1e-08. Fold: 5\n",
      "Lambda: 1e-08. Fold: 6\n",
      "Lambda: 1e-08. Fold: 7\n",
      "Lambda: 1e-08. Fold: 8\n",
      "Lambda: 1e-08. Fold: 9\n",
      "Lambda: 1e-08. Fold: 10\n"
     ]
    },
    {
     "name": "stderr",
     "output_type": "stream",
     "text": [
      "\r",
      " 32%|███▏      | 7/22 [13:38<29:26, 117.77s/it]"
     ]
    },
    {
     "name": "stdout",
     "output_type": "stream",
     "text": [
      "Lambda: 5e-08. Fold: 1\n",
      "Lambda: 5e-08. Fold: 2\n",
      "Lambda: 5e-08. Fold: 3\n",
      "Lambda: 5e-08. Fold: 4\n",
      "Lambda: 5e-08. Fold: 5\n",
      "Lambda: 5e-08. Fold: 6\n",
      "Lambda: 5e-08. Fold: 7\n",
      "Lambda: 5e-08. Fold: 8\n",
      "Lambda: 5e-08. Fold: 9\n",
      "Lambda: 5e-08. Fold: 10\n"
     ]
    },
    {
     "name": "stderr",
     "output_type": "stream",
     "text": [
      "\r",
      " 36%|███▋      | 8/22 [15:35<27:24, 117.48s/it]"
     ]
    },
    {
     "name": "stdout",
     "output_type": "stream",
     "text": [
      "Lambda: 1e-07. Fold: 1\n",
      "Lambda: 1e-07. Fold: 2\n",
      "Lambda: 1e-07. Fold: 3\n",
      "Lambda: 1e-07. Fold: 4\n",
      "Lambda: 1e-07. Fold: 5\n",
      "Lambda: 1e-07. Fold: 6\n",
      "Lambda: 1e-07. Fold: 7\n",
      "Lambda: 1e-07. Fold: 8\n",
      "Lambda: 1e-07. Fold: 9\n",
      "Lambda: 1e-07. Fold: 10\n"
     ]
    },
    {
     "name": "stderr",
     "output_type": "stream",
     "text": [
      "\r",
      " 41%|████      | 9/22 [17:37<25:44, 118.77s/it]"
     ]
    },
    {
     "name": "stdout",
     "output_type": "stream",
     "text": [
      "Lambda: 5e-07. Fold: 1\n",
      "Lambda: 5e-07. Fold: 2\n",
      "Lambda: 5e-07. Fold: 3\n",
      "Lambda: 5e-07. Fold: 4\n",
      "Lambda: 5e-07. Fold: 5\n",
      "Lambda: 5e-07. Fold: 6\n",
      "Lambda: 5e-07. Fold: 7\n",
      "Lambda: 5e-07. Fold: 8\n",
      "Lambda: 5e-07. Fold: 9\n",
      "Lambda: 5e-07. Fold: 10\n"
     ]
    },
    {
     "name": "stderr",
     "output_type": "stream",
     "text": [
      "\r",
      " 45%|████▌     | 10/22 [19:29<23:21, 116.77s/it]"
     ]
    },
    {
     "name": "stdout",
     "output_type": "stream",
     "text": [
      "Lambda: 1e-06. Fold: 1\n",
      "Lambda: 1e-06. Fold: 2\n",
      "Lambda: 1e-06. Fold: 3\n",
      "Lambda: 1e-06. Fold: 4\n",
      "Lambda: 1e-06. Fold: 5\n",
      "Lambda: 1e-06. Fold: 6\n",
      "Lambda: 1e-06. Fold: 7\n",
      "Lambda: 1e-06. Fold: 8\n",
      "Lambda: 1e-06. Fold: 9\n",
      "Lambda: 1e-06. Fold: 10\n"
     ]
    },
    {
     "name": "stderr",
     "output_type": "stream",
     "text": [
      "\r",
      " 50%|█████     | 11/22 [21:30<21:37, 117.98s/it]"
     ]
    },
    {
     "name": "stdout",
     "output_type": "stream",
     "text": [
      "Lambda: 4.9999999999999996e-06. Fold: 1\n",
      "Lambda: 4.9999999999999996e-06. Fold: 2\n",
      "Lambda: 4.9999999999999996e-06. Fold: 3\n",
      "Lambda: 4.9999999999999996e-06. Fold: 4\n",
      "Lambda: 4.9999999999999996e-06. Fold: 5\n",
      "Lambda: 4.9999999999999996e-06. Fold: 6\n",
      "Lambda: 4.9999999999999996e-06. Fold: 7\n",
      "Lambda: 4.9999999999999996e-06. Fold: 8\n",
      "Lambda: 4.9999999999999996e-06. Fold: 9\n",
      "Lambda: 4.9999999999999996e-06. Fold: 10\n"
     ]
    },
    {
     "name": "stderr",
     "output_type": "stream",
     "text": [
      "\r",
      " 55%|█████▍    | 12/22 [23:31<19:50, 119.02s/it]"
     ]
    },
    {
     "name": "stdout",
     "output_type": "stream",
     "text": [
      "Lambda: 1e-05. Fold: 1\n",
      "Lambda: 1e-05. Fold: 2\n",
      "Lambda: 1e-05. Fold: 3\n",
      "Lambda: 1e-05. Fold: 4\n",
      "Lambda: 1e-05. Fold: 5\n",
      "Lambda: 1e-05. Fold: 6\n",
      "Lambda: 1e-05. Fold: 7\n",
      "Lambda: 1e-05. Fold: 8\n",
      "Lambda: 1e-05. Fold: 9\n",
      "Lambda: 1e-05. Fold: 10\n"
     ]
    },
    {
     "name": "stderr",
     "output_type": "stream",
     "text": [
      "\r",
      " 59%|█████▉    | 13/22 [25:34<18:02, 120.28s/it]"
     ]
    },
    {
     "name": "stdout",
     "output_type": "stream",
     "text": [
      "Lambda: 5e-05. Fold: 1\n",
      "Lambda: 5e-05. Fold: 2\n",
      "Lambda: 5e-05. Fold: 3\n",
      "Lambda: 5e-05. Fold: 4\n",
      "Lambda: 5e-05. Fold: 5\n",
      "Lambda: 5e-05. Fold: 6\n",
      "Lambda: 5e-05. Fold: 7\n",
      "Lambda: 5e-05. Fold: 8\n",
      "Lambda: 5e-05. Fold: 9\n",
      "Lambda: 5e-05. Fold: 10\n"
     ]
    },
    {
     "name": "stderr",
     "output_type": "stream",
     "text": [
      "\r",
      " 64%|██████▎   | 14/22 [27:39<16:11, 121.44s/it]"
     ]
    },
    {
     "name": "stdout",
     "output_type": "stream",
     "text": [
      "Lambda: 0.0001. Fold: 1\n",
      "Lambda: 0.0001. Fold: 2\n",
      "Lambda: 0.0001. Fold: 3\n",
      "Lambda: 0.0001. Fold: 4\n",
      "Lambda: 0.0001. Fold: 5\n",
      "Lambda: 0.0001. Fold: 6\n",
      "Lambda: 0.0001. Fold: 7\n",
      "Lambda: 0.0001. Fold: 8\n",
      "Lambda: 0.0001. Fold: 9\n",
      "Lambda: 0.0001. Fold: 10\n"
     ]
    },
    {
     "name": "stderr",
     "output_type": "stream",
     "text": [
      "\r",
      " 68%|██████▊   | 15/22 [29:37<14:04, 120.60s/it]"
     ]
    },
    {
     "name": "stdout",
     "output_type": "stream",
     "text": [
      "Lambda: 0.0005. Fold: 1\n",
      "Lambda: 0.0005. Fold: 2\n",
      "Lambda: 0.0005. Fold: 3\n",
      "Lambda: 0.0005. Fold: 4\n",
      "Lambda: 0.0005. Fold: 5\n",
      "Lambda: 0.0005. Fold: 6\n",
      "Lambda: 0.0005. Fold: 7\n",
      "Lambda: 0.0005. Fold: 8\n",
      "Lambda: 0.0005. Fold: 9\n",
      "Lambda: 0.0005. Fold: 10\n"
     ]
    },
    {
     "name": "stderr",
     "output_type": "stream",
     "text": [
      "\r",
      " 73%|███████▎  | 16/22 [31:37<12:02, 120.42s/it]"
     ]
    },
    {
     "name": "stdout",
     "output_type": "stream",
     "text": [
      "Lambda: 0.001. Fold: 1\n",
      "Lambda: 0.001. Fold: 2\n",
      "Lambda: 0.001. Fold: 3\n",
      "Lambda: 0.001. Fold: 4\n",
      "Lambda: 0.001. Fold: 5\n",
      "Lambda: 0.001. Fold: 6\n",
      "Lambda: 0.001. Fold: 7\n",
      "Lambda: 0.001. Fold: 8\n",
      "Lambda: 0.001. Fold: 9\n",
      "Lambda: 0.001. Fold: 10\n"
     ]
    },
    {
     "name": "stderr",
     "output_type": "stream",
     "text": [
      "\r",
      " 77%|███████▋  | 17/22 [33:27<09:46, 117.24s/it]"
     ]
    },
    {
     "name": "stdout",
     "output_type": "stream",
     "text": [
      "Lambda: 0.005. Fold: 1\n",
      "Lambda: 0.005. Fold: 2\n",
      "Lambda: 0.005. Fold: 3\n",
      "Lambda: 0.005. Fold: 4\n",
      "Lambda: 0.005. Fold: 5\n",
      "Lambda: 0.005. Fold: 6\n",
      "Lambda: 0.005. Fold: 7\n",
      "Lambda: 0.005. Fold: 8\n",
      "Lambda: 0.005. Fold: 9\n",
      "Lambda: 0.005. Fold: 10\n"
     ]
    },
    {
     "name": "stderr",
     "output_type": "stream",
     "text": [
      "\r",
      " 82%|████████▏ | 18/22 [34:42<06:58, 104.54s/it]"
     ]
    },
    {
     "name": "stdout",
     "output_type": "stream",
     "text": [
      "Lambda: 0.01. Fold: 1\n",
      "Lambda: 0.01. Fold: 2\n",
      "Lambda: 0.01. Fold: 3\n",
      "Lambda: 0.01. Fold: 4\n",
      "Lambda: 0.01. Fold: 5\n",
      "Lambda: 0.01. Fold: 6\n",
      "Lambda: 0.01. Fold: 7\n",
      "Lambda: 0.01. Fold: 8\n",
      "Lambda: 0.01. Fold: 9\n",
      "Lambda: 0.01. Fold: 10\n"
     ]
    },
    {
     "name": "stderr",
     "output_type": "stream",
     "text": [
      "\r",
      " 86%|████████▋ | 19/22 [35:51<04:41, 93.91s/it] "
     ]
    },
    {
     "name": "stdout",
     "output_type": "stream",
     "text": [
      "Lambda: 0.05. Fold: 1\n",
      "Lambda: 0.05. Fold: 2\n",
      "Lambda: 0.05. Fold: 3\n",
      "Lambda: 0.05. Fold: 4\n",
      "Lambda: 0.05. Fold: 5\n",
      "Lambda: 0.05. Fold: 6\n",
      "Lambda: 0.05. Fold: 7\n",
      "Lambda: 0.05. Fold: 8\n",
      "Lambda: 0.05. Fold: 9\n",
      "Lambda: 0.05. Fold: 10\n"
     ]
    },
    {
     "name": "stderr",
     "output_type": "stream",
     "text": [
      "\r",
      " 91%|█████████ | 20/22 [36:52<02:48, 84.02s/it]"
     ]
    },
    {
     "name": "stdout",
     "output_type": "stream",
     "text": [
      "Lambda: 0.1. Fold: 1\n",
      "Lambda: 0.1. Fold: 2\n",
      "Lambda: 0.1. Fold: 3\n",
      "Lambda: 0.1. Fold: 4\n",
      "Lambda: 0.1. Fold: 5\n",
      "Lambda: 0.1. Fold: 6\n",
      "Lambda: 0.1. Fold: 7\n",
      "Lambda: 0.1. Fold: 8\n",
      "Lambda: 0.1. Fold: 9\n",
      "Lambda: 0.1. Fold: 10\n"
     ]
    },
    {
     "name": "stderr",
     "output_type": "stream",
     "text": [
      "\r",
      " 95%|█████████▌| 21/22 [37:44<01:14, 74.54s/it]"
     ]
    },
    {
     "name": "stdout",
     "output_type": "stream",
     "text": [
      "Lambda: 0.5. Fold: 1\n",
      "Lambda: 0.5. Fold: 2\n",
      "Lambda: 0.5. Fold: 3\n",
      "Lambda: 0.5. Fold: 4\n",
      "Lambda: 0.5. Fold: 5\n",
      "Lambda: 0.5. Fold: 6\n",
      "Lambda: 0.5. Fold: 7\n",
      "Lambda: 0.5. Fold: 8\n",
      "Lambda: 0.5. Fold: 9\n",
      "Lambda: 0.5. Fold: 10\n"
     ]
    },
    {
     "name": "stderr",
     "output_type": "stream",
     "text": [
      "100%|██████████| 22/22 [38:37<00:00, 67.83s/it]\n"
     ]
    }
   ],
   "source": [
    "mlcv.cross_validate(lambdas)"
   ]
  },
  {
   "cell_type": "code",
   "execution_count": 123,
   "metadata": {},
   "outputs": [
    {
     "data": {
      "text/plain": [
       "0.00050000000000000001"
      ]
     },
     "execution_count": 123,
     "metadata": {},
     "output_type": "execute_result"
    }
   ],
   "source": [
    "mlcv.lambda_star"
   ]
  },
  {
   "cell_type": "code",
   "execution_count": null,
   "metadata": {
    "collapsed": true
   },
   "outputs": [],
   "source": []
  },
  {
   "cell_type": "code",
   "execution_count": 183,
   "metadata": {
    "collapsed": true
   },
   "outputs": [],
   "source": []
  },
  {
   "cell_type": "code",
   "execution_count": 124,
   "metadata": {},
   "outputs": [
    {
     "data": {
      "text/plain": [
       "-6.0423650729089431"
      ]
     },
     "execution_count": 124,
     "metadata": {},
     "output_type": "execute_result"
    }
   ],
   "source": [
    "regression_model = linear_model.LinearRegression()\n",
    "regression_model.fit(my_model.X, np.log(my_model.train_y))"
   ]
  },
  {
   "cell_type": "code",
   "execution_count": 138,
   "metadata": {},
   "outputs": [
    {
     "data": {
      "text/plain": [
       "16.138840365545928"
      ]
     },
     "execution_count": 138,
     "metadata": {},
     "output_type": "execute_result"
    }
   ],
   "source": [
    "regression_cv_scores = get_cv_scores(regression_model, my_model.X, my_model.train_y, cv=10, expon_preds=True)\n",
    "regression_cv_scores.mean()"
   ]
  },
  {
   "cell_type": "code",
   "execution_count": null,
   "metadata": {
    "collapsed": true
   },
   "outputs": [],
   "source": []
  },
  {
   "cell_type": "code",
   "execution_count": 125,
   "metadata": {
    "collapsed": true
   },
   "outputs": [],
   "source": [
    "from sklearn.ensemble import RandomForestRegressor\n",
    "\n",
    "rf_model = RandomForestRegressor(n_estimators=1000, criterion=\"mae\")\n",
    "rf_model.fit(my_model.X, np.log(my_model.train_y))"
   ]
  },
  {
   "cell_type": "code",
   "execution_count": 141,
   "metadata": {},
   "outputs": [
    {
     "data": {
      "text/plain": [
       "8.0854887011081225"
      ]
     },
     "execution_count": 141,
     "metadata": {},
     "output_type": "execute_result"
    }
   ],
   "source": []
  },
  {
   "cell_type": "code",
   "execution_count": 151,
   "metadata": {},
   "outputs": [
    {
     "data": {
      "text/plain": [
       "RandomForestRegressor(bootstrap=True, criterion='mae', max_depth=None,\n",
       "           max_features='auto', max_leaf_nodes=None,\n",
       "           min_impurity_split=1e-07, min_samples_leaf=1,\n",
       "           min_samples_split=2, min_weight_fraction_leaf=0.0,\n",
       "           n_estimators=1000, n_jobs=1, oob_score=False, random_state=None,\n",
       "           verbose=0, warm_start=False)"
      ]
     },
     "execution_count": 151,
     "metadata": {},
     "output_type": "execute_result"
    }
   ],
   "source": [
    "rf_model2 = RandomForestRegressor(n_estimators=1000, criterion=\"mae\")\n",
    "rf_model2.fit(my_model.X, my_model.train_y)"
   ]
  },
  {
   "cell_type": "code",
   "execution_count": 257,
   "metadata": {},
   "outputs": [
    {
     "ename": "NameError",
     "evalue": "name 'rf_model2' is not defined",
     "output_type": "error",
     "traceback": [
      "\u001b[0;31m---------------------------------------------------------------------------\u001b[0m",
      "\u001b[0;31mNameError\u001b[0m                                 Traceback (most recent call last)",
      "\u001b[0;32m<ipython-input-257-e8e50ac8b895>\u001b[0m in \u001b[0;36m<module>\u001b[0;34m()\u001b[0m\n\u001b[0;32m----> 1\u001b[0;31m \u001b[0mrf_cv_scores2\u001b[0m \u001b[0;34m=\u001b[0m \u001b[0mget_cv_scores\u001b[0m\u001b[0;34m(\u001b[0m\u001b[0mrf_model2\u001b[0m\u001b[0;34m,\u001b[0m \u001b[0mmy_model\u001b[0m\u001b[0;34m.\u001b[0m\u001b[0mX\u001b[0m\u001b[0;34m,\u001b[0m \u001b[0mmy_model\u001b[0m\u001b[0;34m.\u001b[0m\u001b[0mtrain_y\u001b[0m\u001b[0;34m,\u001b[0m \u001b[0mcv\u001b[0m\u001b[0;34m=\u001b[0m\u001b[0;36m10\u001b[0m\u001b[0;34m,\u001b[0m \u001b[0mexpon_preds\u001b[0m\u001b[0;34m=\u001b[0m\u001b[0;32mFalse\u001b[0m\u001b[0;34m)\u001b[0m\u001b[0;34m\u001b[0m\u001b[0m\n\u001b[0m\u001b[1;32m      2\u001b[0m \u001b[0mrf_cv_scores2\u001b[0m\u001b[0;34m.\u001b[0m\u001b[0mmean\u001b[0m\u001b[0;34m(\u001b[0m\u001b[0;34m)\u001b[0m\u001b[0;34m\u001b[0m\u001b[0m\n",
      "\u001b[0;31mNameError\u001b[0m: name 'rf_model2' is not defined"
     ]
    }
   ],
   "source": [
    "rf_cv_scores2 = get_cv_scores(rf_model2, my_model.X, my_model.train_y, cv=10, expon_preds=False)\n",
    "rf_cv_scores2.mean()"
   ]
  },
  {
   "cell_type": "code",
   "execution_count": null,
   "metadata": {
    "collapsed": true
   },
   "outputs": [],
   "source": []
  },
  {
   "cell_type": "code",
   "execution_count": 149,
   "metadata": {
    "collapsed": true
   },
   "outputs": [],
   "source": [
    "my_model = LinearModel(train_x, train_y)\n",
    "custom_fit_model = ModelObject(my_model, regularization=0.0005)\n",
    "custom_fit_model.fit()"
   ]
  },
  {
   "cell_type": "code",
   "execution_count": 256,
   "metadata": {},
   "outputs": [
    {
     "ename": "NameError",
     "evalue": "name 'custom_fit_model' is not defined",
     "output_type": "error",
     "traceback": [
      "\u001b[0;31m---------------------------------------------------------------------------\u001b[0m",
      "\u001b[0;31mNameError\u001b[0m                                 Traceback (most recent call last)",
      "\u001b[0;32m<ipython-input-256-0bb415b0d3f4>\u001b[0m in \u001b[0;36m<module>\u001b[0;34m()\u001b[0m\n\u001b[0;32m----> 1\u001b[0;31m \u001b[0mcustom_cv_scores\u001b[0m \u001b[0;34m=\u001b[0m \u001b[0mget_cv_scores\u001b[0m\u001b[0;34m(\u001b[0m\u001b[0mcustom_fit_model\u001b[0m\u001b[0;34m,\u001b[0m \u001b[0mmy_model\u001b[0m\u001b[0;34m.\u001b[0m\u001b[0mX\u001b[0m\u001b[0;34m,\u001b[0m \u001b[0mmy_model\u001b[0m\u001b[0;34m.\u001b[0m\u001b[0mtrain_y\u001b[0m\u001b[0;34m,\u001b[0m \u001b[0mcv\u001b[0m\u001b[0;34m=\u001b[0m\u001b[0;36m10\u001b[0m\u001b[0;34m)\u001b[0m\u001b[0;34m\u001b[0m\u001b[0m\n\u001b[0m\u001b[1;32m      2\u001b[0m \u001b[0mcustom_cv_scores\u001b[0m\u001b[0;34m.\u001b[0m\u001b[0mmean\u001b[0m\u001b[0;34m(\u001b[0m\u001b[0;34m)\u001b[0m\u001b[0;34m\u001b[0m\u001b[0m\n",
      "\u001b[0;31mNameError\u001b[0m: name 'custom_fit_model' is not defined"
     ]
    }
   ],
   "source": [
    "custom_cv_scores = get_cv_scores(custom_fit_model, my_model.X, my_model.train_y, cv=10)\n",
    "custom_cv_scores.mean()"
   ]
  },
  {
   "cell_type": "code",
   "execution_count": null,
   "metadata": {
    "collapsed": true
   },
   "outputs": [],
   "source": []
  },
  {
   "cell_type": "code",
   "execution_count": 160,
   "metadata": {},
   "outputs": [
    {
     "data": {
      "text/plain": [
       "28.819561160690121"
      ]
     },
     "execution_count": 160,
     "metadata": {},
     "output_type": "execute_result"
    }
   ],
   "source": [
    "mean_absolute_percentage_error(test_y.iloc[:,0], np.exp(rf_model.predict(LinearModel(test_x, test_y).X)))"
   ]
  },
  {
   "cell_type": "code",
   "execution_count": 161,
   "metadata": {},
   "outputs": [
    {
     "data": {
      "text/plain": [
       "27.888576830597472"
      ]
     },
     "execution_count": 161,
     "metadata": {},
     "output_type": "execute_result"
    }
   ],
   "source": [
    "mean_absolute_percentage_error(test_y.iloc[:,0], np.exp(regression_model.predict(LinearModel(test_x, test_y).X)))"
   ]
  },
  {
   "cell_type": "code",
   "execution_count": 163,
   "metadata": {},
   "outputs": [
    {
     "data": {
      "text/plain": [
       "26.174677448775853"
      ]
     },
     "execution_count": 163,
     "metadata": {},
     "output_type": "execute_result"
    }
   ],
   "source": [
    "mean_absolute_percentage_error(test_y.iloc[:,0], custom_fit_model.predict(LinearModel(test_x, test_y).X))"
   ]
  },
  {
   "cell_type": "code",
   "execution_count": 208,
   "metadata": {},
   "outputs": [
    {
     "data": {
      "text/html": [
       "<div>\n",
       "<style>\n",
       "    .dataframe thead tr:only-child th {\n",
       "        text-align: right;\n",
       "    }\n",
       "\n",
       "    .dataframe thead th {\n",
       "        text-align: left;\n",
       "    }\n",
       "\n",
       "    .dataframe tbody tr th {\n",
       "        vertical-align: top;\n",
       "    }\n",
       "</style>\n",
       "<table border=\"1\" class=\"dataframe\">\n",
       "  <thead>\n",
       "    <tr style=\"text-align: right;\">\n",
       "      <th></th>\n",
       "      <th>week</th>\n",
       "    </tr>\n",
       "  </thead>\n",
       "  <tbody>\n",
       "    <tr>\n",
       "      <th>2017-01-09</th>\n",
       "      <td>2</td>\n",
       "    </tr>\n",
       "    <tr>\n",
       "      <th>2017-01-11</th>\n",
       "      <td>2</td>\n",
       "    </tr>\n",
       "    <tr>\n",
       "      <th>2017-01-12</th>\n",
       "      <td>2</td>\n",
       "    </tr>\n",
       "    <tr>\n",
       "      <th>2017-01-14</th>\n",
       "      <td>2</td>\n",
       "    </tr>\n",
       "    <tr>\n",
       "      <th>2017-01-17</th>\n",
       "      <td>3</td>\n",
       "    </tr>\n",
       "    <tr>\n",
       "      <th>2017-01-18</th>\n",
       "      <td>3</td>\n",
       "    </tr>\n",
       "    <tr>\n",
       "      <th>2017-01-19</th>\n",
       "      <td>3</td>\n",
       "    </tr>\n",
       "    <tr>\n",
       "      <th>2017-01-20</th>\n",
       "      <td>3</td>\n",
       "    </tr>\n",
       "    <tr>\n",
       "      <th>2017-01-22</th>\n",
       "      <td>3</td>\n",
       "    </tr>\n",
       "    <tr>\n",
       "      <th>2017-01-23</th>\n",
       "      <td>4</td>\n",
       "    </tr>\n",
       "    <tr>\n",
       "      <th>2017-01-26</th>\n",
       "      <td>4</td>\n",
       "    </tr>\n",
       "    <tr>\n",
       "      <th>2017-01-28</th>\n",
       "      <td>4</td>\n",
       "    </tr>\n",
       "    <tr>\n",
       "      <th>2017-01-29</th>\n",
       "      <td>4</td>\n",
       "    </tr>\n",
       "    <tr>\n",
       "      <th>2017-02-01</th>\n",
       "      <td>5</td>\n",
       "    </tr>\n",
       "    <tr>\n",
       "      <th>2017-02-02</th>\n",
       "      <td>5</td>\n",
       "    </tr>\n",
       "    <tr>\n",
       "      <th>2017-02-03</th>\n",
       "      <td>5</td>\n",
       "    </tr>\n",
       "    <tr>\n",
       "      <th>2017-02-07</th>\n",
       "      <td>6</td>\n",
       "    </tr>\n",
       "    <tr>\n",
       "      <th>2017-02-08</th>\n",
       "      <td>6</td>\n",
       "    </tr>\n",
       "    <tr>\n",
       "      <th>2017-02-09</th>\n",
       "      <td>6</td>\n",
       "    </tr>\n",
       "    <tr>\n",
       "      <th>2017-02-10</th>\n",
       "      <td>6</td>\n",
       "    </tr>\n",
       "    <tr>\n",
       "      <th>2017-02-11</th>\n",
       "      <td>6</td>\n",
       "    </tr>\n",
       "    <tr>\n",
       "      <th>2017-02-12</th>\n",
       "      <td>6</td>\n",
       "    </tr>\n",
       "    <tr>\n",
       "      <th>2017-02-13</th>\n",
       "      <td>7</td>\n",
       "    </tr>\n",
       "    <tr>\n",
       "      <th>2017-02-14</th>\n",
       "      <td>7</td>\n",
       "    </tr>\n",
       "    <tr>\n",
       "      <th>2017-02-16</th>\n",
       "      <td>7</td>\n",
       "    </tr>\n",
       "    <tr>\n",
       "      <th>2017-02-19</th>\n",
       "      <td>7</td>\n",
       "    </tr>\n",
       "    <tr>\n",
       "      <th>2017-02-20</th>\n",
       "      <td>8</td>\n",
       "    </tr>\n",
       "    <tr>\n",
       "      <th>2017-02-21</th>\n",
       "      <td>8</td>\n",
       "    </tr>\n",
       "    <tr>\n",
       "      <th>2017-02-22</th>\n",
       "      <td>8</td>\n",
       "    </tr>\n",
       "    <tr>\n",
       "      <th>2017-02-24</th>\n",
       "      <td>8</td>\n",
       "    </tr>\n",
       "    <tr>\n",
       "      <th>...</th>\n",
       "      <td>...</td>\n",
       "    </tr>\n",
       "    <tr>\n",
       "      <th>2017-10-19</th>\n",
       "      <td>42</td>\n",
       "    </tr>\n",
       "    <tr>\n",
       "      <th>2017-10-22</th>\n",
       "      <td>42</td>\n",
       "    </tr>\n",
       "    <tr>\n",
       "      <th>2017-10-23</th>\n",
       "      <td>43</td>\n",
       "    </tr>\n",
       "    <tr>\n",
       "      <th>2017-10-24</th>\n",
       "      <td>43</td>\n",
       "    </tr>\n",
       "    <tr>\n",
       "      <th>2017-10-29</th>\n",
       "      <td>43</td>\n",
       "    </tr>\n",
       "    <tr>\n",
       "      <th>2017-10-31</th>\n",
       "      <td>44</td>\n",
       "    </tr>\n",
       "    <tr>\n",
       "      <th>2017-11-01</th>\n",
       "      <td>44</td>\n",
       "    </tr>\n",
       "    <tr>\n",
       "      <th>2017-11-07</th>\n",
       "      <td>45</td>\n",
       "    </tr>\n",
       "    <tr>\n",
       "      <th>2017-11-08</th>\n",
       "      <td>45</td>\n",
       "    </tr>\n",
       "    <tr>\n",
       "      <th>2017-11-09</th>\n",
       "      <td>45</td>\n",
       "    </tr>\n",
       "    <tr>\n",
       "      <th>2017-11-11</th>\n",
       "      <td>45</td>\n",
       "    </tr>\n",
       "    <tr>\n",
       "      <th>2017-11-12</th>\n",
       "      <td>45</td>\n",
       "    </tr>\n",
       "    <tr>\n",
       "      <th>2017-11-16</th>\n",
       "      <td>46</td>\n",
       "    </tr>\n",
       "    <tr>\n",
       "      <th>2017-11-18</th>\n",
       "      <td>46</td>\n",
       "    </tr>\n",
       "    <tr>\n",
       "      <th>2017-11-23</th>\n",
       "      <td>47</td>\n",
       "    </tr>\n",
       "    <tr>\n",
       "      <th>2017-11-25</th>\n",
       "      <td>47</td>\n",
       "    </tr>\n",
       "    <tr>\n",
       "      <th>2017-11-29</th>\n",
       "      <td>48</td>\n",
       "    </tr>\n",
       "    <tr>\n",
       "      <th>2017-11-30</th>\n",
       "      <td>48</td>\n",
       "    </tr>\n",
       "    <tr>\n",
       "      <th>2017-12-02</th>\n",
       "      <td>48</td>\n",
       "    </tr>\n",
       "    <tr>\n",
       "      <th>2017-12-03</th>\n",
       "      <td>48</td>\n",
       "    </tr>\n",
       "    <tr>\n",
       "      <th>2017-12-04</th>\n",
       "      <td>49</td>\n",
       "    </tr>\n",
       "    <tr>\n",
       "      <th>2017-12-05</th>\n",
       "      <td>49</td>\n",
       "    </tr>\n",
       "    <tr>\n",
       "      <th>2017-12-06</th>\n",
       "      <td>49</td>\n",
       "    </tr>\n",
       "    <tr>\n",
       "      <th>2017-12-08</th>\n",
       "      <td>49</td>\n",
       "    </tr>\n",
       "    <tr>\n",
       "      <th>2017-12-14</th>\n",
       "      <td>50</td>\n",
       "    </tr>\n",
       "    <tr>\n",
       "      <th>2017-12-15</th>\n",
       "      <td>50</td>\n",
       "    </tr>\n",
       "    <tr>\n",
       "      <th>2017-12-16</th>\n",
       "      <td>50</td>\n",
       "    </tr>\n",
       "    <tr>\n",
       "      <th>2017-12-17</th>\n",
       "      <td>50</td>\n",
       "    </tr>\n",
       "    <tr>\n",
       "      <th>2017-12-18</th>\n",
       "      <td>51</td>\n",
       "    </tr>\n",
       "    <tr>\n",
       "      <th>2017-12-20</th>\n",
       "      <td>51</td>\n",
       "    </tr>\n",
       "  </tbody>\n",
       "</table>\n",
       "<p>173 rows × 1 columns</p>\n",
       "</div>"
      ],
      "text/plain": [
       "            week\n",
       "2017-01-09     2\n",
       "2017-01-11     2\n",
       "2017-01-12     2\n",
       "2017-01-14     2\n",
       "2017-01-17     3\n",
       "2017-01-18     3\n",
       "2017-01-19     3\n",
       "2017-01-20     3\n",
       "2017-01-22     3\n",
       "2017-01-23     4\n",
       "2017-01-26     4\n",
       "2017-01-28     4\n",
       "2017-01-29     4\n",
       "2017-02-01     5\n",
       "2017-02-02     5\n",
       "2017-02-03     5\n",
       "2017-02-07     6\n",
       "2017-02-08     6\n",
       "2017-02-09     6\n",
       "2017-02-10     6\n",
       "2017-02-11     6\n",
       "2017-02-12     6\n",
       "2017-02-13     7\n",
       "2017-02-14     7\n",
       "2017-02-16     7\n",
       "2017-02-19     7\n",
       "2017-02-20     8\n",
       "2017-02-21     8\n",
       "2017-02-22     8\n",
       "2017-02-24     8\n",
       "...          ...\n",
       "2017-10-19    42\n",
       "2017-10-22    42\n",
       "2017-10-23    43\n",
       "2017-10-24    43\n",
       "2017-10-29    43\n",
       "2017-10-31    44\n",
       "2017-11-01    44\n",
       "2017-11-07    45\n",
       "2017-11-08    45\n",
       "2017-11-09    45\n",
       "2017-11-11    45\n",
       "2017-11-12    45\n",
       "2017-11-16    46\n",
       "2017-11-18    46\n",
       "2017-11-23    47\n",
       "2017-11-25    47\n",
       "2017-11-29    48\n",
       "2017-11-30    48\n",
       "2017-12-02    48\n",
       "2017-12-03    48\n",
       "2017-12-04    49\n",
       "2017-12-05    49\n",
       "2017-12-06    49\n",
       "2017-12-08    49\n",
       "2017-12-14    50\n",
       "2017-12-15    50\n",
       "2017-12-16    50\n",
       "2017-12-17    50\n",
       "2017-12-18    51\n",
       "2017-12-20    51\n",
       "\n",
       "[173 rows x 1 columns]"
      ]
     },
     "execution_count": 208,
     "metadata": {},
     "output_type": "execute_result"
    }
   ],
   "source": [
    "wts"
   ]
  },
  {
   "cell_type": "code",
   "execution_count": 213,
   "metadata": {},
   "outputs": [
    {
     "data": {
      "text/plain": [
       "[<matplotlib.lines.Line2D at 0x2b16bc493828>]"
      ]
     },
     "execution_count": 213,
     "metadata": {},
     "output_type": "execute_result"
    },
    {
     "data": {
      "image/png": "[encoded data removed]",
      "text/plain": [
       "<matplotlib.figure.Figure at 0x2b16bc449c18>"
      ]
     },
     "metadata": {},
     "output_type": "display_data"
    }
   ],
   "source": [
    "v = np.arange(8)\n",
    "upweights = np.flip(1+np.exp(-5*v/len(v)),0)\n",
    "plt.plot(v,upweights)"
   ]
  },
  {
   "cell_type": "code",
   "execution_count": 22,
   "metadata": {
    "collapsed": true
   },
   "outputs": [],
   "source": [
    "def get_sample_weights(index, lookback=20, dataframe=False):\n",
    "    og_index = deepcopy(index)\n",
    "    index = sorted(index)\n",
    "    week_numbers = [datetime.date(i.year, i.month, i.day).isocalendar()[1] for i in index]\n",
    "    wts = pd.DataFrame(week_numbers, columns=[\"week\"], index=index)\n",
    "    wts.loc[wts.week==52, \"week\"] = 0\n",
    "    \n",
    "    # Lookback = number of weeks before test period\n",
    "    # which to weight upward (using exponential smoothing)\n",
    "    wts[\"sample_weight\"] = 1\n",
    "    \n",
    "    last_week = 51\n",
    "    last_week_of_ones = last_week - lookback\n",
    "    \n",
    "    v = np.arange(lookback)\n",
    "    upweights = np.flip(1+np.exp(-5*v/len(v)),0)\n",
    "    \n",
    "    weeks_to_upweight = wts.loc[wts.week > last_week_of_ones, \"week\"]\n",
    "    for i, w in enumerate(sorted(weeks_to_upweight.unique())):\n",
    "        wts.loc[wts.week==w, \"sample_weight\"] = upweights[i]       \n",
    "        \n",
    "    # Add emphasis for days around Thanksgiving\n",
    "    wts.loc[[(d.month,d.day) in [(11,22), (11,23), (11,24)] for d in wts.reset_index()[\"index\"]], \"sample_weight\"] = 2\n",
    "    \n",
    "    if dataframe==True:\n",
    "        return(wts)\n",
    "    return(wts.loc[og_index, \"sample_weight\"])"
   ]
  },
  {
   "cell_type": "code",
   "execution_count": null,
   "metadata": {
    "collapsed": true
   },
   "outputs": [],
   "source": []
  },
  {
   "cell_type": "code",
   "execution_count": 142,
   "metadata": {},
   "outputs": [
    {
     "data": {
      "text/plain": [
       "[<matplotlib.lines.Line2D at 0x2b8fa2022c88>]"
      ]
     },
     "execution_count": 142,
     "metadata": {},
     "output_type": "execute_result"
    },
    {
     "data": {
      "image/png": "[encoded data removed]",
      "text/plain": [
       "<matplotlib.figure.Figure at 0x2b8fa1d740b8>"
      ]
     },
     "metadata": {},
     "output_type": "display_data"
    }
   ],
   "source": []
  },
  {
   "cell_type": "code",
   "execution_count": 228,
   "metadata": {},
   "outputs": [
    {
     "name": "stderr",
     "output_type": "stream",
     "text": [
      "/home/opim/alexmill/MatlabRecSys/Python/lib/python3.4/site-packages/rpy2/robjects/pandas2ri.py:57: UserWarning: Error while trying to convert the column \"day_of_week_fri\". Fall back to string conversion. The error is: Cannot convert numpy array of unsigned values -- R does not have unsigned integers.\n",
      "  (name, str(e)))\n",
      "/home/opim/alexmill/MatlabRecSys/Python/lib/python3.4/site-packages/rpy2/robjects/pandas2ri.py:57: UserWarning: Error while trying to convert the column \"day_of_week_mon\". Fall back to string conversion. The error is: Cannot convert numpy array of unsigned values -- R does not have unsigned integers.\n",
      "  (name, str(e)))\n",
      "/home/opim/alexmill/MatlabRecSys/Python/lib/python3.4/site-packages/rpy2/robjects/pandas2ri.py:57: UserWarning: Error while trying to convert the column \"day_of_week_sat\". Fall back to string conversion. The error is: Cannot convert numpy array of unsigned values -- R does not have unsigned integers.\n",
      "  (name, str(e)))\n",
      "/home/opim/alexmill/MatlabRecSys/Python/lib/python3.4/site-packages/rpy2/robjects/pandas2ri.py:57: UserWarning: Error while trying to convert the column \"day_of_week_sun\". Fall back to string conversion. The error is: Cannot convert numpy array of unsigned values -- R does not have unsigned integers.\n",
      "  (name, str(e)))\n",
      "/home/opim/alexmill/MatlabRecSys/Python/lib/python3.4/site-packages/rpy2/robjects/pandas2ri.py:57: UserWarning: Error while trying to convert the column \"day_of_week_thu\". Fall back to string conversion. The error is: Cannot convert numpy array of unsigned values -- R does not have unsigned integers.\n",
      "  (name, str(e)))\n",
      "/home/opim/alexmill/MatlabRecSys/Python/lib/python3.4/site-packages/rpy2/robjects/pandas2ri.py:57: UserWarning: Error while trying to convert the column \"day_of_week_tue\". Fall back to string conversion. The error is: Cannot convert numpy array of unsigned values -- R does not have unsigned integers.\n",
      "  (name, str(e)))\n",
      "/home/opim/alexmill/MatlabRecSys/Python/lib/python3.4/site-packages/rpy2/robjects/pandas2ri.py:57: UserWarning: Error while trying to convert the column \"day_of_week_wed\". Fall back to string conversion. The error is: Cannot convert numpy array of unsigned values -- R does not have unsigned integers.\n",
      "  (name, str(e)))\n",
      "/home/opim/alexmill/MatlabRecSys/Python/lib/python3.4/site-packages/rpy2/robjects/pandas2ri.py:57: UserWarning: Error while trying to convert the column \"quarter_q1\". Fall back to string conversion. The error is: Cannot convert numpy array of unsigned values -- R does not have unsigned integers.\n",
      "  (name, str(e)))\n",
      "/home/opim/alexmill/MatlabRecSys/Python/lib/python3.4/site-packages/rpy2/robjects/pandas2ri.py:57: UserWarning: Error while trying to convert the column \"quarter_q2\". Fall back to string conversion. The error is: Cannot convert numpy array of unsigned values -- R does not have unsigned integers.\n",
      "  (name, str(e)))\n",
      "/home/opim/alexmill/MatlabRecSys/Python/lib/python3.4/site-packages/rpy2/robjects/pandas2ri.py:57: UserWarning: Error while trying to convert the column \"quarter_q3\". Fall back to string conversion. The error is: Cannot convert numpy array of unsigned values -- R does not have unsigned integers.\n",
      "  (name, str(e)))\n",
      "/home/opim/alexmill/MatlabRecSys/Python/lib/python3.4/site-packages/rpy2/robjects/pandas2ri.py:57: UserWarning: Error while trying to convert the column \"quarter_q4\". Fall back to string conversion. The error is: Cannot convert numpy array of unsigned values -- R does not have unsigned integers.\n",
      "  (name, str(e)))\n",
      "/home/opim/alexmill/MatlabRecSys/Python/lib/python3.4/site-packages/rpy2/robjects/pandas2ri.py:57: UserWarning: Error while trying to convert the column \"bb_game_type_conference_tourney\". Fall back to string conversion. The error is: Cannot convert numpy array of unsigned values -- R does not have unsigned integers.\n",
      "  (name, str(e)))\n",
      "/home/opim/alexmill/MatlabRecSys/Python/lib/python3.4/site-packages/rpy2/robjects/pandas2ri.py:57: UserWarning: Error while trying to convert the column \"bb_game_type_ncaa_tourney\". Fall back to string conversion. The error is: Cannot convert numpy array of unsigned values -- R does not have unsigned integers.\n",
      "  (name, str(e)))\n",
      "/home/opim/alexmill/MatlabRecSys/Python/lib/python3.4/site-packages/rpy2/robjects/pandas2ri.py:57: UserWarning: Error while trying to convert the column \"bb_game_type_pre_season\". Fall back to string conversion. The error is: Cannot convert numpy array of unsigned values -- R does not have unsigned integers.\n",
      "  (name, str(e)))\n",
      "/home/opim/alexmill/MatlabRecSys/Python/lib/python3.4/site-packages/rpy2/robjects/pandas2ri.py:57: UserWarning: Error while trying to convert the column \"bb_game_type_regular_season\". Fall back to string conversion. The error is: Cannot convert numpy array of unsigned values -- R does not have unsigned integers.\n",
      "  (name, str(e)))\n",
      "/home/opim/alexmill/MatlabRecSys/Python/lib/python3.4/site-packages/rpy2/robjects/pandas2ri.py:57: UserWarning: Error while trying to convert the column \"bb_location_away\". Fall back to string conversion. The error is: Cannot convert numpy array of unsigned values -- R does not have unsigned integers.\n",
      "  (name, str(e)))\n",
      "/home/opim/alexmill/MatlabRecSys/Python/lib/python3.4/site-packages/rpy2/robjects/pandas2ri.py:57: UserWarning: Error while trying to convert the column \"bb_location_home\". Fall back to string conversion. The error is: Cannot convert numpy array of unsigned values -- R does not have unsigned integers.\n",
      "  (name, str(e)))\n",
      "/home/opim/alexmill/MatlabRecSys/Python/lib/python3.4/site-packages/rpy2/robjects/pandas2ri.py:57: UserWarning: Error while trying to convert the column \"bb_location_neutral\". Fall back to string conversion. The error is: Cannot convert numpy array of unsigned values -- R does not have unsigned integers.\n",
      "  (name, str(e)))\n",
      "/home/opim/alexmill/MatlabRecSys/Python/lib/python3.4/site-packages/rpy2/robjects/pandas2ri.py:57: UserWarning: Error while trying to convert the column \"bb_ranked_opponent_False\". Fall back to string conversion. The error is: Cannot convert numpy array of unsigned values -- R does not have unsigned integers.\n",
      "  (name, str(e)))\n",
      "/home/opim/alexmill/MatlabRecSys/Python/lib/python3.4/site-packages/rpy2/robjects/pandas2ri.py:57: UserWarning: Error while trying to convert the column \"bb_ranked_opponent_True\". Fall back to string conversion. The error is: Cannot convert numpy array of unsigned values -- R does not have unsigned integers.\n",
      "  (name, str(e)))\n",
      "/home/opim/alexmill/MatlabRecSys/Python/lib/python3.4/site-packages/rpy2/robjects/pandas2ri.py:57: UserWarning: Error while trying to convert the column \"bb_game_result_loss\". Fall back to string conversion. The error is: Cannot convert numpy array of unsigned values -- R does not have unsigned integers.\n",
      "  (name, str(e)))\n",
      "/home/opim/alexmill/MatlabRecSys/Python/lib/python3.4/site-packages/rpy2/robjects/pandas2ri.py:57: UserWarning: Error while trying to convert the column \"bb_game_result_win\". Fall back to string conversion. The error is: Cannot convert numpy array of unsigned values -- R does not have unsigned integers.\n",
      "  (name, str(e)))\n",
      "/home/opim/alexmill/MatlabRecSys/Python/lib/python3.4/site-packages/rpy2/robjects/pandas2ri.py:57: UserWarning: Error while trying to convert the column \"bb_close_game_False\". Fall back to string conversion. The error is: Cannot convert numpy array of unsigned values -- R does not have unsigned integers.\n",
      "  (name, str(e)))\n",
      "/home/opim/alexmill/MatlabRecSys/Python/lib/python3.4/site-packages/rpy2/robjects/pandas2ri.py:57: UserWarning: Error while trying to convert the column \"bb_close_game_True\". Fall back to string conversion. The error is: Cannot convert numpy array of unsigned values -- R does not have unsigned integers.\n",
      "  (name, str(e)))\n"
     ]
    }
   ],
   "source": [
    "%%R -i FULL_DATA\n",
    "library(tidyverse)\n",
    "library(ggplot2)\n",
    "library(GGally)\n",
    "library(ggthemes)\n",
    "\n",
    "df = FULL_DATA\n",
    "df$wu_temp_high_sq = (df$wu_temp_high)^2\n",
    "palette = fivethirtyeight_pal()(3)"
   ]
  },
  {
   "cell_type": "code",
   "execution_count": 204,
   "metadata": {},
   "outputs": [
    {
     "name": "stderr",
     "output_type": "stream",
     "text": [
      "/home/opim/alexmill/MatlabRecSys/Python/lib/python3.4/site-packages/rpy2/rinterface/__init__.py:186: RRuntimeWarning: Don't know how to automatically pick scale for object of type function. Defaulting to continuous.\n",
      "\n",
      "  warnings.warn(x, RRuntimeWarning)\n",
      "/home/opim/alexmill/MatlabRecSys/Python/lib/python3.4/site-packages/rpy2/rinterface/__init__.py:186: RRuntimeWarning: Error in (function (..., row.names = NULL, check.rows = FALSE, check.names = TRUE,  : \n",
      "  arguments imply differing number of rows: 0, 353\n",
      "\n",
      "  warnings.warn(x, RRuntimeWarning)\n"
     ]
    },
    {
     "ename": "RRuntimeError",
     "evalue": "Error in (function (..., row.names = NULL, check.rows = FALSE, check.names = TRUE,  : \n  arguments imply differing number of rows: 0, 353\n",
     "output_type": "error",
     "traceback": [
      "\u001b[0;31m---------------------------------------------------------------------------\u001b[0m",
      "\u001b[0;31mRRuntimeError\u001b[0m                             Traceback (most recent call last)",
      "\u001b[0;32m<ipython-input-204-eccdf0a062d3>\u001b[0m in \u001b[0;36m<module>\u001b[0;34m()\u001b[0m\n\u001b[0;32m----> 1\u001b[0;31m \u001b[0mget_ipython\u001b[0m\u001b[0;34m(\u001b[0m\u001b[0;34m)\u001b[0m\u001b[0;34m.\u001b[0m\u001b[0mrun_cell_magic\u001b[0m\u001b[0;34m(\u001b[0m\u001b[0;34m'R'\u001b[0m\u001b[0;34m,\u001b[0m \u001b[0;34m'-w 20 -h 8 -u cm -r 150 '\u001b[0m\u001b[0;34m,\u001b[0m \u001b[0;34m'\\ntemp_scale = 2.5\\nggplot(df) + theme_fivethirtyeight() +\\n    geom_line(aes(x = date, y = wu_temp_high*temp_scale), color=palette[1]) +\\n    geom_line(aes(x = date, y = num_clients), color=palette[2]) +\\n    scale_y_continuous(sec.axis = sec_axis(~.*(1/temp_scale), name = \"temperature\"))'\u001b[0m\u001b[0;34m)\u001b[0m\u001b[0;34m\u001b[0m\u001b[0m\n\u001b[0m",
      "\u001b[0;32m~/MatlabRecSys/Python/lib/python3.4/site-packages/IPython/core/interactiveshell.py\u001b[0m in \u001b[0;36mrun_cell_magic\u001b[0;34m(self, magic_name, line, cell)\u001b[0m\n\u001b[1;32m   2101\u001b[0m             \u001b[0mmagic_arg_s\u001b[0m \u001b[0;34m=\u001b[0m \u001b[0mself\u001b[0m\u001b[0;34m.\u001b[0m\u001b[0mvar_expand\u001b[0m\u001b[0;34m(\u001b[0m\u001b[0mline\u001b[0m\u001b[0;34m,\u001b[0m \u001b[0mstack_depth\u001b[0m\u001b[0;34m)\u001b[0m\u001b[0;34m\u001b[0m\u001b[0m\n\u001b[1;32m   2102\u001b[0m             \u001b[0;32mwith\u001b[0m \u001b[0mself\u001b[0m\u001b[0;34m.\u001b[0m\u001b[0mbuiltin_trap\u001b[0m\u001b[0;34m:\u001b[0m\u001b[0;34m\u001b[0m\u001b[0m\n\u001b[0;32m-> 2103\u001b[0;31m                 \u001b[0mresult\u001b[0m \u001b[0;34m=\u001b[0m \u001b[0mfn\u001b[0m\u001b[0;34m(\u001b[0m\u001b[0mmagic_arg_s\u001b[0m\u001b[0;34m,\u001b[0m \u001b[0mcell\u001b[0m\u001b[0;34m)\u001b[0m\u001b[0;34m\u001b[0m\u001b[0m\n\u001b[0m\u001b[1;32m   2104\u001b[0m             \u001b[0;32mreturn\u001b[0m \u001b[0mresult\u001b[0m\u001b[0;34m\u001b[0m\u001b[0m\n\u001b[1;32m   2105\u001b[0m \u001b[0;34m\u001b[0m\u001b[0m\n",
      "\u001b[0;32m<decorator-gen-159>\u001b[0m in \u001b[0;36mR\u001b[0;34m(self, line, cell, local_ns)\u001b[0m\n",
      "\u001b[0;32m~/MatlabRecSys/Python/lib/python3.4/site-packages/IPython/core/magic.py\u001b[0m in \u001b[0;36m<lambda>\u001b[0;34m(f, *a, **k)\u001b[0m\n\u001b[1;32m    185\u001b[0m     \u001b[0;31m# but it's overkill for just that one bit of state.\u001b[0m\u001b[0;34m\u001b[0m\u001b[0;34m\u001b[0m\u001b[0m\n\u001b[1;32m    186\u001b[0m     \u001b[0;32mdef\u001b[0m \u001b[0mmagic_deco\u001b[0m\u001b[0;34m(\u001b[0m\u001b[0marg\u001b[0m\u001b[0;34m)\u001b[0m\u001b[0;34m:\u001b[0m\u001b[0;34m\u001b[0m\u001b[0m\n\u001b[0;32m--> 187\u001b[0;31m         \u001b[0mcall\u001b[0m \u001b[0;34m=\u001b[0m \u001b[0;32mlambda\u001b[0m \u001b[0mf\u001b[0m\u001b[0;34m,\u001b[0m \u001b[0;34m*\u001b[0m\u001b[0ma\u001b[0m\u001b[0;34m,\u001b[0m \u001b[0;34m**\u001b[0m\u001b[0mk\u001b[0m\u001b[0;34m:\u001b[0m \u001b[0mf\u001b[0m\u001b[0;34m(\u001b[0m\u001b[0;34m*\u001b[0m\u001b[0ma\u001b[0m\u001b[0;34m,\u001b[0m \u001b[0;34m**\u001b[0m\u001b[0mk\u001b[0m\u001b[0;34m)\u001b[0m\u001b[0;34m\u001b[0m\u001b[0m\n\u001b[0m\u001b[1;32m    188\u001b[0m \u001b[0;34m\u001b[0m\u001b[0m\n\u001b[1;32m    189\u001b[0m         \u001b[0;32mif\u001b[0m \u001b[0mcallable\u001b[0m\u001b[0;34m(\u001b[0m\u001b[0marg\u001b[0m\u001b[0;34m)\u001b[0m\u001b[0;34m:\u001b[0m\u001b[0;34m\u001b[0m\u001b[0m\n",
      "\u001b[0;32m~/MatlabRecSys/Python/lib/python3.4/site-packages/rpy2/ipython/rmagic.py\u001b[0m in \u001b[0;36mR\u001b[0;34m(self, line, cell, local_ns)\u001b[0m\n\u001b[1;32m    680\u001b[0m                     \u001b[0mold_writeconsole_regular\u001b[0m \u001b[0;34m=\u001b[0m \u001b[0mri\u001b[0m\u001b[0;34m.\u001b[0m\u001b[0mget_writeconsole_regular\u001b[0m\u001b[0;34m(\u001b[0m\u001b[0;34m)\u001b[0m\u001b[0;34m\u001b[0m\u001b[0m\n\u001b[1;32m    681\u001b[0m                     \u001b[0mri\u001b[0m\u001b[0;34m.\u001b[0m\u001b[0mset_writeconsole_regular\u001b[0m\u001b[0;34m(\u001b[0m\u001b[0mself\u001b[0m\u001b[0;34m.\u001b[0m\u001b[0mwrite_console_regular\u001b[0m\u001b[0;34m)\u001b[0m\u001b[0;34m\u001b[0m\u001b[0m\n\u001b[0;32m--> 682\u001b[0;31m                     \u001b[0mro\u001b[0m\u001b[0;34m.\u001b[0m\u001b[0mr\u001b[0m\u001b[0;34m.\u001b[0m\u001b[0mshow\u001b[0m\u001b[0;34m(\u001b[0m\u001b[0mresult\u001b[0m\u001b[0;34m)\u001b[0m\u001b[0;34m\u001b[0m\u001b[0m\n\u001b[0m\u001b[1;32m    683\u001b[0m                     \u001b[0mtext_output\u001b[0m \u001b[0;34m+=\u001b[0m \u001b[0mself\u001b[0m\u001b[0;34m.\u001b[0m\u001b[0mflush\u001b[0m\u001b[0;34m(\u001b[0m\u001b[0;34m)\u001b[0m\u001b[0;34m\u001b[0m\u001b[0m\n\u001b[1;32m    684\u001b[0m                     \u001b[0mri\u001b[0m\u001b[0;34m.\u001b[0m\u001b[0mset_writeconsole_regular\u001b[0m\u001b[0;34m(\u001b[0m\u001b[0mold_writeconsole_regular\u001b[0m\u001b[0;34m)\u001b[0m\u001b[0;34m\u001b[0m\u001b[0m\n",
      "\u001b[0;32m~/MatlabRecSys/Python/lib/python3.4/site-packages/rpy2/robjects/functions.py\u001b[0m in \u001b[0;36m__call__\u001b[0;34m(self, *args, **kwargs)\u001b[0m\n\u001b[1;32m    176\u001b[0m                 \u001b[0mv\u001b[0m \u001b[0;34m=\u001b[0m \u001b[0mkwargs\u001b[0m\u001b[0;34m.\u001b[0m\u001b[0mpop\u001b[0m\u001b[0;34m(\u001b[0m\u001b[0mk\u001b[0m\u001b[0;34m)\u001b[0m\u001b[0;34m\u001b[0m\u001b[0m\n\u001b[1;32m    177\u001b[0m                 \u001b[0mkwargs\u001b[0m\u001b[0;34m[\u001b[0m\u001b[0mr_k\u001b[0m\u001b[0;34m]\u001b[0m \u001b[0;34m=\u001b[0m \u001b[0mv\u001b[0m\u001b[0;34m\u001b[0m\u001b[0m\n\u001b[0;32m--> 178\u001b[0;31m         \u001b[0;32mreturn\u001b[0m \u001b[0msuper\u001b[0m\u001b[0;34m(\u001b[0m\u001b[0mSignatureTranslatedFunction\u001b[0m\u001b[0;34m,\u001b[0m \u001b[0mself\u001b[0m\u001b[0;34m)\u001b[0m\u001b[0;34m.\u001b[0m\u001b[0m__call__\u001b[0m\u001b[0;34m(\u001b[0m\u001b[0;34m*\u001b[0m\u001b[0margs\u001b[0m\u001b[0;34m,\u001b[0m \u001b[0;34m**\u001b[0m\u001b[0mkwargs\u001b[0m\u001b[0;34m)\u001b[0m\u001b[0;34m\u001b[0m\u001b[0m\n\u001b[0m\u001b[1;32m    179\u001b[0m \u001b[0;34m\u001b[0m\u001b[0m\n\u001b[1;32m    180\u001b[0m \u001b[0mpattern_link\u001b[0m \u001b[0;34m=\u001b[0m \u001b[0mre\u001b[0m\u001b[0;34m.\u001b[0m\u001b[0mcompile\u001b[0m\u001b[0;34m(\u001b[0m\u001b[0;34mr'\\\\link\\{(.+?)\\}'\u001b[0m\u001b[0;34m)\u001b[0m\u001b[0;34m\u001b[0m\u001b[0m\n",
      "\u001b[0;32m~/MatlabRecSys/Python/lib/python3.4/site-packages/rpy2/robjects/functions.py\u001b[0m in \u001b[0;36m__call__\u001b[0;34m(self, *args, **kwargs)\u001b[0m\n\u001b[1;32m    104\u001b[0m         \u001b[0;32mfor\u001b[0m \u001b[0mk\u001b[0m\u001b[0;34m,\u001b[0m \u001b[0mv\u001b[0m \u001b[0;32min\u001b[0m \u001b[0mkwargs\u001b[0m\u001b[0;34m.\u001b[0m\u001b[0mitems\u001b[0m\u001b[0;34m(\u001b[0m\u001b[0;34m)\u001b[0m\u001b[0;34m:\u001b[0m\u001b[0;34m\u001b[0m\u001b[0m\n\u001b[1;32m    105\u001b[0m             \u001b[0mnew_kwargs\u001b[0m\u001b[0;34m[\u001b[0m\u001b[0mk\u001b[0m\u001b[0;34m]\u001b[0m \u001b[0;34m=\u001b[0m \u001b[0mconversion\u001b[0m\u001b[0;34m.\u001b[0m\u001b[0mpy2ri\u001b[0m\u001b[0;34m(\u001b[0m\u001b[0mv\u001b[0m\u001b[0;34m)\u001b[0m\u001b[0;34m\u001b[0m\u001b[0m\n\u001b[0;32m--> 106\u001b[0;31m         \u001b[0mres\u001b[0m \u001b[0;34m=\u001b[0m \u001b[0msuper\u001b[0m\u001b[0;34m(\u001b[0m\u001b[0mFunction\u001b[0m\u001b[0;34m,\u001b[0m \u001b[0mself\u001b[0m\u001b[0;34m)\u001b[0m\u001b[0;34m.\u001b[0m\u001b[0m__call__\u001b[0m\u001b[0;34m(\u001b[0m\u001b[0;34m*\u001b[0m\u001b[0mnew_args\u001b[0m\u001b[0;34m,\u001b[0m \u001b[0;34m**\u001b[0m\u001b[0mnew_kwargs\u001b[0m\u001b[0;34m)\u001b[0m\u001b[0;34m\u001b[0m\u001b[0m\n\u001b[0m\u001b[1;32m    107\u001b[0m         \u001b[0mres\u001b[0m \u001b[0;34m=\u001b[0m \u001b[0mconversion\u001b[0m\u001b[0;34m.\u001b[0m\u001b[0mri2ro\u001b[0m\u001b[0;34m(\u001b[0m\u001b[0mres\u001b[0m\u001b[0;34m)\u001b[0m\u001b[0;34m\u001b[0m\u001b[0m\n\u001b[1;32m    108\u001b[0m         \u001b[0;32mreturn\u001b[0m \u001b[0mres\u001b[0m\u001b[0;34m\u001b[0m\u001b[0m\n",
      "\u001b[0;31mRRuntimeError\u001b[0m: Error in (function (..., row.names = NULL, check.rows = FALSE, check.names = TRUE,  : \n  arguments imply differing number of rows: 0, 353\n"
     ]
    }
   ],
   "source": [
    "%%R -w 20 -h 8 -u cm -r 150 \n",
    "\n",
    "temp_scale = 2.5\n",
    "ggplot(df) + theme_fivethirtyeight() +\n",
    "    geom_line(aes(x = date, y = wu_temp_high*temp_scale), color=palette[1]) +\n",
    "    geom_line(aes(x = date, y = num_clients), color=palette[2]) +\n",
    "    scale_y_continuous(sec.axis = sec_axis(~.*(1/temp_scale), name = \"temperature\"))"
   ]
  },
  {
   "cell_type": "code",
   "execution_count": 235,
   "metadata": {},
   "outputs": [
    {
     "data": {
      "image/png": "[encoded data removed]"
     },
     "metadata": {},
     "output_type": "display_data"
    }
   ],
   "source": [
    "%%R -w 10 -h 8 -u cm -r 150 \n",
    "ggplot(df, aes(x=total_traffic, y=num_sessions)) + theme_fivethirtyeight() + geom_point(color=palette[1])"
   ]
  },
  {
   "cell_type": "code",
   "execution_count": null,
   "metadata": {
    "collapsed": true
   },
   "outputs": [],
   "source": []
  },
  {
   "cell_type": "code",
   "execution_count": null,
   "metadata": {
    "collapsed": true
   },
   "outputs": [],
   "source": []
  },
  {
   "cell_type": "code",
   "execution_count": null,
   "metadata": {
    "collapsed": true
   },
   "outputs": [],
   "source": []
  },
  {
   "cell_type": "code",
   "execution_count": 14,
   "metadata": {},
   "outputs": [
    {
     "data": {
      "image/png": "[encoded data removed]"
     },
     "metadata": {},
     "output_type": "display_data"
    }
   ],
   "source": [
    "%%R -w 10 -h 8 -u cm -r 150 \n",
    "# -w 10 -h 10 -u cm -r 200\n",
    "df %>% \n",
    "    select(num_clients, num_sessions, total_traffic) %>%\n",
    "    ggpairs()\n"
   ]
  },
  {
   "cell_type": "code",
   "execution_count": 227,
   "metadata": {},
   "outputs": [
    {
     "data": {
      "text/plain": [
       "\n",
       "Call:\n",
       "lm(formula = num_clients ~ num_clients_lag_7 + day_of_week + \n",
       "    quarter + federal_holiday + big_holiday_before + big_holiday_after + \n",
       "    community_event + wu_temp_high + wu_temp_high_sq + wu_precip + \n",
       "    wu_event_thunderstorm + wu_humid_low + bb_game + bb_cumulative_wins + \n",
       "    quarter * wu_temp_high, data = df)\n",
       "\n",
       "Residuals:\n",
       "     Min       1Q   Median       3Q      Max \n",
       "-121.269  -19.035   -2.606   15.962  128.241 \n",
       "\n",
       "Coefficients:\n",
       "                        Estimate Std. Error t value Pr(>|t|)    \n",
       "(Intercept)            -40.48490   39.85137  -1.016 0.310443    \n",
       "num_clients_lag_7        0.13487    0.04569   2.952 0.003394 ** \n",
       "day_of_weekmon         -16.94652    6.91040  -2.452 0.014726 *  \n",
       "day_of_weeksat         -33.34929    6.83209  -4.881 1.66e-06 ***\n",
       "day_of_weeksun         -25.33718    7.15409  -3.542 0.000457 ***\n",
       "day_of_weekthu          25.65397    6.92270   3.706 0.000248 ***\n",
       "day_of_weektue         -10.19247    6.77664  -1.504 0.133550    \n",
       "day_of_weekwed         -14.80679    6.71034  -2.207 0.028052 *  \n",
       "quarterq2              -40.12427   42.45760  -0.945 0.345348    \n",
       "quarterq3              -62.52827   61.78359  -1.012 0.312275    \n",
       "quarterq4              -64.25962   26.09534  -2.462 0.014322 *  \n",
       "federal_holidayTRUE     -7.98319   12.32088  -0.648 0.517487    \n",
       "big_holiday_beforeTRUE -47.57902   32.97898  -1.443 0.150078    \n",
       "big_holiday_afterTRUE  -54.27122   34.03106  -1.595 0.111751    \n",
       "community_eventTRUE     16.47908    5.36049   3.074 0.002292 ** \n",
       "wu_temp_high             3.55912    1.32788   2.680 0.007735 ** \n",
       "wu_temp_high_sq         -0.01778    0.01143  -1.555 0.120925    \n",
       "wu_precip              -26.13121    7.10392  -3.678 0.000275 ***\n",
       "wu_event_thunderstorm  -11.14109   12.31573  -0.905 0.366343    \n",
       "wu_humid_low            -0.24471    0.12139  -2.016 0.044646 *  \n",
       "bb_gameTRUE            -29.90509   15.62293  -1.914 0.056486 .  \n",
       "bb_cumulative_wins       1.78293    1.02692   1.736 0.083489 .  \n",
       "quarterq2:wu_temp_high   0.96228    0.60665   1.586 0.113674    \n",
       "quarterq3:wu_temp_high   0.76462    0.81365   0.940 0.348056    \n",
       "quarterq4:wu_temp_high   0.73524    0.42211   1.742 0.082498 .  \n",
       "---\n",
       "Signif. codes:  0 ‘***’ 0.001 ‘**’ 0.01 ‘*’ 0.05 ‘.’ 0.1 ‘ ’ 1\n",
       "\n",
       "Residual standard error: 32.26 on 321 degrees of freedom\n",
       "  (7 observations deleted due to missingness)\n",
       "Multiple R-squared:  0.673,\tAdjusted R-squared:  0.6486 \n",
       "F-statistic: 27.53 on 24 and 321 DF,  p-value: < 2.2e-16\n",
       "\n"
      ]
     },
     "metadata": {},
     "output_type": "display_data"
    }
   ],
   "source": [
    "%%R\n",
    "\n",
    "model = lm(num_clients ~ \n",
    "           num_clients_lag_7 +\n",
    "           day_of_week + quarter +\n",
    "           federal_holiday + big_holiday_before + big_holiday_after  +\n",
    "           community_event +\n",
    "           wu_temp_high + wu_temp_high_sq + wu_precip + wu_event_thunderstorm + wu_humid_low + \n",
    "           bb_game + bb_cumulative_wins +\n",
    "           quarter*wu_temp_high, \n",
    "           data=df\n",
    "        )\n",
    "summary(model)"
   ]
  },
  {
   "cell_type": "code",
   "execution_count": 212,
   "metadata": {},
   "outputs": [
    {
     "data": {
      "image/png": "[encoded data removed]"
     },
     "metadata": {},
     "output_type": "display_data"
    }
   ],
   "source": [
    "%%R\n",
    "qqnorm(resid(model))"
   ]
  },
  {
   "cell_type": "code",
   "execution_count": null,
   "metadata": {
    "collapsed": true
   },
   "outputs": [],
   "source": []
  },
  {
   "cell_type": "code",
   "execution_count": 228,
   "metadata": {},
   "outputs": [
    {
     "data": {
      "text/plain": [
       "\n",
       "Call:\n",
       " randomForest(formula = num_clients ~ num_clients_lag_7 + day_of_week +      quarter + federal_holiday + big_holiday_before + big_holiday_after +      community_event + wu_temp_high + wu_temp_high_sq + wu_precip +      wu_event_thunderstorm + wu_humid_low + bb_game + bb_cumulative_wins,      data = df[8:nrow(df), ], ntree = 2000, mtry = 6) \n",
       "               Type of random forest: regression\n",
       "                     Number of trees: 2000\n",
       "No. of variables tried at each split: 6\n",
       "\n",
       "          Mean of squared residuals: 912.8241\n",
       "                    % Var explained: 69.1\n"
      ]
     },
     "metadata": {},
     "output_type": "display_data"
    }
   ],
   "source": [
    "%%R\n",
    "library(randomForest)\n",
    "\n",
    "rf = randomForest(num_clients ~\n",
    "        num_clients_lag_7 +\n",
    "        day_of_week + quarter +\n",
    "        federal_holiday + big_holiday_before + big_holiday_after  +\n",
    "        community_event +\n",
    "        wu_temp_high + wu_temp_high_sq + wu_precip + wu_event_thunderstorm + wu_humid_low + \n",
    "        bb_game + bb_cumulative_wins, \n",
    "    data=df[8:nrow(df),], ntree=2000, mtry=6)\n",
    "rf"
   ]
  },
  {
   "cell_type": "code",
   "execution_count": 223,
   "metadata": {},
   "outputs": [
    {
     "name": "stdout",
     "output_type": "stream",
     "text": [
      "R Help on ‘randomForest’randomForest           package:randomForest            R Documentation\n",
      "\n",
      "_\bC_\bl_\ba_\bs_\bs_\bi_\bf_\bi_\bc_\ba_\bt_\bi_\bo_\bn _\ba_\bn_\bd _\bR_\be_\bg_\br_\be_\bs_\bs_\bi_\bo_\bn _\bw_\bi_\bt_\bh _\bR_\ba_\bn_\bd_\bo_\bm _\bF_\bo_\br_\be_\bs_\bt\n",
      "\n",
      "_\bD_\be_\bs_\bc_\br_\bi_\bp_\bt_\bi_\bo_\bn:\n",
      "\n",
      "     ‘randomForest’ implements Breiman's random forest algorithm (based\n",
      "     on Breiman and Cutler's original Fortran code) for classification\n",
      "     and regression.  It can also be used in unsupervised mode for\n",
      "     assessing proximities among data points.\n",
      "\n",
      "_\bU_\bs_\ba_\bg_\be:\n",
      "\n",
      "     ## S3 method for class 'formula'\n",
      "     randomForest(formula, data=NULL, ..., subset, na.action=na.fail)\n",
      "     ## Default S3 method:\n",
      "     randomForest(x, y=NULL,  xtest=NULL, ytest=NULL, ntree=500,\n",
      "                  mtry=if (!is.null(y) && !is.factor(y))\n",
      "                  max(floor(ncol(x)/3), 1) else floor(sqrt(ncol(x))),\n",
      "                  replace=TRUE, classwt=NULL, cutoff, strata,\n",
      "                  sampsize = if (replace) nrow(x) else ceiling(.632*nrow(x)),\n",
      "                  nodesize = if (!is.null(y) && !is.factor(y)) 5 else 1,\n",
      "                  maxnodes = NULL,\n",
      "                  importance=FALSE, localImp=FALSE, nPerm=1,\n",
      "                  proximity, oob.prox=proximity,\n",
      "                  norm.votes=TRUE, do.trace=FALSE,\n",
      "                  keep.forest=!is.null(y) && is.null(xtest), corr.bias=FALSE,\n",
      "                  keep.inbag=FALSE, ...)\n",
      "     ## S3 method for class 'randomForest'\n",
      "     print(x, ...)\n",
      "     \n",
      "_\bA_\br_\bg_\bu_\bm_\be_\bn_\bt_\bs:\n",
      "\n",
      "    data: an optional data frame containing the variables in the model.\n",
      "          By default the variables are taken from the environment which\n",
      "          ‘randomForest’ is called from.\n",
      "\n",
      "  subset: an index vector indicating which rows should be used.  (NOTE:\n",
      "          If given, this argument must be named.)\n",
      "\n",
      "na.action: A function to specify the action to be taken if NAs are\n",
      "          found.  (NOTE: If given, this argument must be named.)\n",
      "\n",
      "x, formula: a data frame or a matrix of predictors, or a formula\n",
      "          describing the model to be fitted (for the ‘print’ method, an\n",
      "          ‘randomForest’ object).\n",
      "\n",
      "       y: A response vector.  If a factor, classification is assumed,\n",
      "          otherwise regression is assumed.  If omitted, ‘randomForest’\n",
      "          will run in unsupervised mode.\n",
      "\n",
      "   xtest: a data frame or matrix (like ‘x’) containing predictors for\n",
      "          the test set.\n",
      "\n",
      "   ytest: response for the test set.\n",
      "\n",
      "   ntree: Number of trees to grow.  This should not be set to too small\n",
      "          a number, to ensure that every input row gets predicted at\n",
      "          least a few times.\n",
      "\n",
      "    mtry: Number of variables randomly sampled as candidates at each\n",
      "          split.  Note that the default values are different for\n",
      "          classification (sqrt(p) where p is number of variables in\n",
      "          ‘x’) and regression (p/3)\n",
      "\n",
      " replace: Should sampling of cases be done with or without replacement?\n",
      "\n",
      " classwt: Priors of the classes.  Need not add up to one.  Ignored for\n",
      "          regression.\n",
      "\n",
      "  cutoff: (Classification only) A vector of length equal to number of\n",
      "          classes.  The `winning' class for an observation is the one\n",
      "          with the maximum ratio of proportion of votes to cutoff.\n",
      "          Default is 1/k where k is the number of classes (i.e.,\n",
      "          majority vote wins).\n",
      "\n",
      "  strata: A (factor) variable that is used for stratified sampling.\n",
      "\n",
      "sampsize: Size(s) of sample to draw.  For classification, if sampsize\n",
      "          is a vector of the length the number of strata, then sampling\n",
      "          is stratified by strata, and the elements of sampsize\n",
      "          indicate the numbers to be drawn from the strata.\n",
      "\n",
      "nodesize: Minimum size of terminal nodes.  Setting this number larger\n",
      "          causes smaller trees to be grown (and thus take less time).\n",
      "          Note that the default values are different for classification\n",
      "          (1) and regression (5).\n",
      "\n",
      "maxnodes: Maximum number of terminal nodes trees in the forest can\n",
      "          have.  If not given, trees are grown to the maximum possible\n",
      "          (subject to limits by ‘nodesize’).  If set larger than\n",
      "          maximum possible, a warning is issued.\n",
      "\n",
      "importance: Should importance of predictors be assessed?\n",
      "\n",
      "localImp: Should casewise importance measure be computed?  (Setting\n",
      "          this to ‘TRUE’ will override ‘importance’.)\n",
      "\n",
      "   nPerm: Number of times the OOB data are permuted per tree for\n",
      "          assessing variable importance.  Number larger than 1 gives\n",
      "          slightly more stable estimate, but not very effective.\n",
      "          Currently only implemented for regression.\n",
      "\n",
      "proximity: Should proximity measure among the rows be calculated?\n",
      "\n",
      "oob.prox: Should proximity be calculated only on ``out-of-bag'' data?\n",
      "\n",
      "norm.votes: If ‘TRUE’ (default), the final result of votes are\n",
      "          expressed as fractions.  If ‘FALSE’, raw vote counts are\n",
      "          returned (useful for combining results from different runs).\n",
      "          Ignored for regression.\n",
      "\n",
      "do.trace: If set to ‘TRUE’, give a more verbose output as\n",
      "          ‘randomForest’ is run.  If set to some integer, then running\n",
      "          output is printed for every ‘do.trace’ trees.\n",
      "\n",
      "keep.forest: If set to ‘FALSE’, the forest will not be retained in the\n",
      "          output object.  If ‘xtest’ is given, defaults to ‘FALSE’.\n",
      "\n",
      "corr.bias: perform bias correction for regression?  Note: Experimental.\n",
      "          Use at your own risk.\n",
      "\n",
      "keep.inbag: Should an ‘n’ by ‘ntree’ matrix be returned that keeps\n",
      "          track of which samples are ``in-bag'' in which trees (but not\n",
      "          how many times, if sampling with replacement)\n",
      "\n",
      "     ...: optional parameters to be passed to the low level function\n",
      "          ‘randomForest.default’.\n",
      "\n",
      "_\bV_\ba_\bl_\bu_\be:\n",
      "\n",
      "     An object of class ‘randomForest’, which is a list with the\n",
      "     following components:\n",
      "\n",
      "    call: the original call to ‘randomForest’\n",
      "\n",
      "    type: one of ‘regression’, ‘classification’, or ‘unsupervised’.\n",
      "\n",
      "predicted: the predicted values of the input data based on out-of-bag\n",
      "          samples.\n",
      "\n",
      "importance: a matrix with ‘nclass’ + 2 (for classification) or two (for\n",
      "          regression) columns.  For classification, the first ‘nclass’\n",
      "          columns are the class-specific measures computed as mean\n",
      "          descrease in accuracy.  The ‘nclass’ + 1st column is the mean\n",
      "          descrease in accuracy over all classes.  The last column is\n",
      "          the mean decrease in Gini index.  For Regression, the first\n",
      "          column is the mean decrease in accuracy and the second the\n",
      "          mean decrease in MSE.  If ‘importance=FALSE’, the last\n",
      "          measure is still returned as a vector.\n",
      "\n",
      "importanceSD: The ``standard errors'' of the permutation-based\n",
      "          importance measure.  For classification, a ‘p’ by ‘nclass +\n",
      "          1’ matrix corresponding to the first ‘nclass + 1’ columns of\n",
      "          the importance matrix.  For regression, a length ‘p’ vector.\n",
      "\n",
      "localImp: a p by n matrix containing the casewise importance measures,\n",
      "          the [i,j] element of which is the importance of i-th variable\n",
      "          on the j-th case. ‘NULL’ if ‘localImp=FALSE’.\n",
      "\n",
      "   ntree: number of trees grown.\n",
      "\n",
      "    mtry: number of predictors sampled for spliting at each node.\n",
      "\n",
      "  forest: (a list that contains the entire forest; ‘NULL’ if\n",
      "          ‘randomForest’ is run in unsupervised mode or if\n",
      "          ‘keep.forest=FALSE’.\n",
      "\n",
      "err.rate: (classification only) vector error rates of the prediction on\n",
      "          the input data, the i-th element being the (OOB) error rate\n",
      "          for all trees up to the i-th.\n",
      "\n",
      "confusion: (classification only) the confusion matrix of the prediction\n",
      "          (based on OOB data).\n",
      "\n",
      "   votes: (classification only) a matrix with one row for each input\n",
      "          data point and one column for each class, giving the fraction\n",
      "          or number of (OOB) `votes' from the random forest.\n",
      "\n",
      "oob.times: number of times cases are `out-of-bag' (and thus used in\n",
      "          computing OOB error estimate)\n",
      "\n",
      "proximity: if ‘proximity=TRUE’ when ‘randomForest’ is called, a matrix\n",
      "          of proximity measures among the input (based on the frequency\n",
      "          that pairs of data points are in the same terminal nodes).\n",
      "\n",
      "     mse: (regression only) vector of mean square errors: sum of\n",
      "          squared residuals divided by ‘n’.\n",
      "\n",
      "     rsq: (regression only) ``pseudo R-squared'': 1 - ‘mse’ / Var(y).\n",
      "\n",
      "    test: if test set is given (through the ‘xtest’ or additionally\n",
      "          ‘ytest’ arguments), this component is a list which contains\n",
      "          the corresponding ‘predicted’, ‘err.rate’, ‘confusion’,\n",
      "          ‘votes’ (for classification) or ‘predicted’, ‘mse’ and ‘rsq’\n",
      "          (for regression) for the test set.  If ‘proximity=TRUE’,\n",
      "          there is also a component, ‘proximity’, which contains the\n",
      "          proximity among the test set as well as proximity between\n",
      "          test and training data.\n",
      "\n",
      "_\bN_\bo_\bt_\be:\n",
      "\n",
      "     The ‘forest’ structure is slightly different between\n",
      "     classification and regression.  For details on how the trees are\n",
      "     stored, see the help page for ‘getTree’.\n",
      "\n",
      "     If ‘xtest’ is given, prediction of the test set is done ``in\n",
      "     place'' as the trees are grown.  If ‘ytest’ is also given, and\n",
      "     ‘do.trace’ is set to some positive integer, then for every\n",
      "     ‘do.trace’ trees, the test set error is printed.  Results for the\n",
      "     test set is returned in the ‘test’ component of the resulting\n",
      "     ‘randomForest’ object.  For classification, the ‘votes’ component\n",
      "     (for training or test set data) contain the votes the cases\n",
      "     received for the classes.  If ‘norm.votes=TRUE’, the fraction is\n",
      "     given, which can be taken as predicted probabilities for the\n",
      "     classes.\n",
      "\n",
      "     For large data sets, especially those with large number of\n",
      "     variables, calling ‘randomForest’ via the formula interface is not\n",
      "     advised: There may be too much overhead in handling the formula.\n",
      "\n",
      "     The ``local'' (or casewise) variable importance is computed as\n",
      "     follows: For classification, it is the increase in percent of\n",
      "     times a case is OOB and misclassified when the variable is\n",
      "     permuted.  For regression, it is the average increase in squared\n",
      "     OOB residuals when the variable is permuted.\n",
      "\n",
      "_\bA_\bu_\bt_\bh_\bo_\br(_\bs):\n",
      "\n",
      "     Andy Liaw <email: andy\\_liaw@merck.com> and Matthew Wiener <email:\n",
      "     matthew\\_wiener@merck.com>, based on original Fortran code by Leo\n",
      "     Breiman and Adele Cutler.\n",
      "\n",
      "_\bR_\be_\bf_\be_\br_\be_\bn_\bc_\be_\bs:\n",
      "\n",
      "     Breiman, L. (2001), _Random Forests_, Machine Learning 45(1),\n",
      "     5-32.\n",
      "\n",
      "     Breiman, L (2002), ``Manual On Setting Up, Using, And\n",
      "     Understanding Random Forests V3.1'', <URL:\n",
      "     https://www.stat.berkeley.edu/~breiman/Using_random_forests_V3.1.pdf>.\n",
      "\n",
      "_\bS_\be_\be _\bA_\bl_\bs_\bo:\n",
      "\n",
      "     ‘predict.randomForest’, ‘varImpPlot’\n",
      "\n",
      "_\bE_\bx_\ba_\bm_\bp_\bl_\be_\bs:\n",
      "\n",
      "     ## Classification:\n",
      "     ##data(iris)\n",
      "     set.seed(71)\n",
      "     iris.rf <- randomForest(Species ~ ., data=iris, importance=TRUE,\n",
      "                             proximity=TRUE)\n",
      "     print(iris.rf)\n",
      "     ## Look at variable importance:\n",
      "     round(importance(iris.rf), 2)\n",
      "     ## Do MDS on 1 - proximity:\n",
      "     iris.mds <- cmdscale(1 - iris.rf$proximity, eig=TRUE)\n",
      "     op <- par(pty=\"s\")\n",
      "     pairs(cbind(iris[,1:4], iris.mds$points), cex=0.6, gap=0,\n",
      "           col=c(\"red\", \"green\", \"blue\")[as.numeric(iris$Species)],\n",
      "           main=\"Iris Data: Predictors and MDS of Proximity Based on RandomForest\")\n",
      "     par(op)\n",
      "     print(iris.mds$GOF)\n",
      "     \n",
      "     ## The `unsupervised' case:\n",
      "     set.seed(17)\n",
      "     iris.urf <- randomForest(iris[, -5])\n",
      "     MDSplot(iris.urf, iris$Species)\n",
      "     \n",
      "     ## stratified sampling: draw 20, 30, and 20 of the species to grow each tree.\n",
      "     (iris.rf2 <- randomForest(iris[1:4], iris$Species, \n",
      "                               sampsize=c(20, 30, 20)))\n",
      "     \n",
      "     ## Regression:\n",
      "     ## data(airquality)\n",
      "     set.seed(131)\n",
      "     ozone.rf <- randomForest(Ozone ~ ., data=airquality, mtry=3,\n",
      "                              importance=TRUE, na.action=na.omit)\n",
      "     print(ozone.rf)\n",
      "     ## Show \"importance\" of variables: higher value mean more important:\n",
      "     round(importance(ozone.rf), 2)\n",
      "     \n",
      "     ## \"x\" can be a matrix instead of a data frame:\n",
      "     set.seed(17)\n",
      "     x <- matrix(runif(5e2), 100)\n",
      "     y <- gl(2, 50)\n",
      "     (myrf <- randomForest(x, y))\n",
      "     (predict(myrf, x))\n",
      "     \n",
      "     ## \"complicated\" formula:\n",
      "     (swiss.rf <- randomForest(sqrt(Fertility) ~ . - Catholic + I(Catholic < 50),\n",
      "                               data=swiss))\n",
      "     (predict(swiss.rf, swiss))\n",
      "     ## Test use of 32-level factor as a predictor:\n",
      "     set.seed(1)\n",
      "     x <- data.frame(x1=gl(53, 10), x2=runif(530), y=rnorm(530))\n",
      "     (rf1 <- randomForest(x[-3], x[[3]], ntree=10))\n",
      "     \n",
      "     ## Grow no more than 4 nodes per tree:\n",
      "     (treesize(randomForest(Species ~ ., data=iris, maxnodes=4, ntree=30)))\n",
      "     \n",
      "     ## test proximity in regression\n",
      "     iris.rrf <- randomForest(iris[-1], iris[[1]], ntree=101, proximity=TRUE, oob.prox=FALSE)\n",
      "     str(iris.rrf$proximity)\n",
      "     \n"
     ]
    }
   ],
   "source": [
    "%%R\n",
    "?randomForest"
   ]
  },
  {
   "cell_type": "code",
   "execution_count": 200,
   "metadata": {},
   "outputs": [],
   "source": [
    "from alexs_models.imports import ModelData, LinearModel_MAPE, mean_absolute_percentage_error\n",
    "\n",
    "traffic_features = [\n",
    "    \"total_traffic_lag_7\", \n",
    "    'day_of_week_fri', 'day_of_week_mon', 'day_of_week_sat', 'day_of_week_sun', 'day_of_week_thu', 'day_of_week_tue', 'day_of_week_wed',\n",
    "    'quarter_q1', 'quarter_q2', 'quarter_q3', 'quarter_q4',\n",
    "    \"federal_holiday\", \"big_holiday\", \"big_holiday_before\", \"big_holiday_after\",\n",
    "    'community_event', 'community_event_count', 'community_gingerbread_express', 'community_holiday_market',\n",
    "    \"wu_temp_high\", \"wu_temp_high_sq\", \"wu_precip\", \"wu_precip_sq\", \"wu_humid_low\", \"wu_humid_low_sq\", 'wu_wind_avg', 'wu_event_sum', \"wu_event_thunderstorm\",  \n",
    "    \"bb_game\", 'bb_location_away', 'bb_location_home', \"bb_ranked_opponent_True\", \"bb_cumulative_wins\"\n",
    "]\n",
    "\n",
    "traffic_interactions = [\n",
    "    ('quarter_q4', \"total_traffic_lag_7\"),\n",
    "    ('quarter_q4', \"wu_temp_high\"),\n",
    "    ('quarter_q4', \"wu_precip\")\n",
    "]\n",
    "\n",
    "traffic_x = get_model_df(df=full_df, metric='total_traffic', col_type=\"X\")\n",
    "traffic_y = get_model_df(df=full_df, metric='total_traffic', col_type=\"Y\")\n",
    "traffic_data = ModelData(traffic_x, Y=traffic_y, features=traffic_features, interactions=traffic_interactions)"
   ]
  },
  {
   "cell_type": "code",
   "execution_count": 214,
   "metadata": {},
   "outputs": [
    {
     "name": "stdout",
     "output_type": "stream",
     "text": [
      "[ 0.67798234  1.00001275  1.00001375  1.00000829  1.00001736  1.00001172\n",
      "  1.00001178  0.9998384   1.0000115   1.00000561  1.00000343  0.99989923\n",
      "  0.99983181  0.9998244   1.00000589  1.00000191  1.00001353  1.00002085\n",
      "  1.00000191  1.00000321  0.99790487  1.01563391  1.00000216  1.00000082\n",
      "  0.99738694  0.95279397  0.99991812  1.00003536  1.00000191  0.99984278\n",
      "  1.00000845  1.00001091  0.99999973  0.99918582  0.99992009 -0.67633788\n",
      "  0.99611675  1.00000784]\n"
     ]
    }
   ],
   "source": [
    "traffic_weights = get_sample_weights(traffic_data.X.index)\n",
    "traffic_model = LinearModel_MAPE(regularization=0, X=traffic_data.X, Y=traffic_data.Y)#, sample_weights=traffic_weights)\n",
    "traffic_model.fit()\n",
    "print(traffic_model.beta)"
   ]
  },
  {
   "cell_type": "code",
   "execution_count": 215,
   "metadata": {},
   "outputs": [
    {
     "data": {
      "text/plain": [
       "62.185234233911004"
      ]
     },
     "execution_count": 215,
     "metadata": {},
     "output_type": "execute_result"
    }
   ],
   "source": [
    "traffic_model.error()"
   ]
  },
  {
   "cell_type": "code",
   "execution_count": 213,
   "metadata": {},
   "outputs": [
    {
     "data": {
      "text/plain": [
       "64.708449002524688"
      ]
     },
     "execution_count": 213,
     "metadata": {},
     "output_type": "execute_result"
    }
   ],
   "source": [
    "traffic_model.l2_regularization_loss(traffic_model.beta)"
   ]
  },
  {
   "cell_type": "code",
   "execution_count": 95,
   "metadata": {},
   "outputs": [],
   "source": []
  },
  {
   "cell_type": "code",
   "execution_count": 96,
   "metadata": {},
   "outputs": [],
   "source": []
  },
  {
   "cell_type": "code",
   "execution_count": null,
   "metadata": {},
   "outputs": [],
   "source": []
  },
  {
   "cell_type": "code",
   "execution_count": 184,
   "metadata": {},
   "outputs": [],
   "source": [
    "week_nos = get_sample_weights(traffic_hourly.set_index(\"date\").index, dataframe=True).week.reset_index(drop=True)\n",
    "traffic_hourly[\"week\"] = week_nos\n",
    "\n",
    "th = traffic_hourly\n",
    "th = pd.merge(th, Y1[[\"date\",\"day_of_week\"]], how='left', on='date', sort=False)\n",
    "th[\"traffic\"] = th[\"total_traffic\"]#np.log1p(th[\"total_traffic\"])\n",
    "\n",
    "weeks = [47, 48, 49, 50, 51]\n",
    "cols = [\"traffic\", \"date\", \"hour\", \"week\", \"day_of_week\"]\n",
    "hdf = th.loc[th.week.isin(weeks), cols].reset_index(drop=True)\n",
    "\n",
    "hdf[\"hourly_proportion\"] = 0.0\n",
    "for d in hdf.date:\n",
    "    daily_total = hdf.loc[hdf.date==d, \"traffic\"].sum()\n",
    "    hdf.loc[hdf.date==d, \"hourly_proportion\"] = hdf.loc[hdf.date==d, \"traffic\"]/daily_total\n",
    "    #hdf[\"hourly_percentage\"]\n",
    "\n",
    "for w in [47, 51]:\n",
    "    # Duplicate these weeks for averaging\n",
    "    extra_rows = th.loc[th.week==w, cols].reset_index(drop=True)\n",
    "    hdf = hdf.append(extra_rows, ignore_index=True).reset_index(drop=True)\n",
    "    \n",
    "hdf = hdf[[\"hourly_proportion\", \"hour\", \"day_of_week\"]]\n",
    "hdf = hdf.groupby(['day_of_week','hour']).mean().reset_index()\n",
    "hdf[\"day_of_week\"] = pd.Categorical(hdf['day_of_week'], ['sun', 'mon', 'tue', 'wed', 'thu', 'fri', 'sat'])\n",
    "hdf = hdf.sort_values([\"day_of_week\", \"hour\"]).reset_index(drop=True)"
   ]
  },
  {
   "cell_type": "code",
   "execution_count": null,
   "metadata": {},
   "outputs": [],
   "source": []
  },
  {
   "cell_type": "code",
   "execution_count": 186,
   "metadata": {},
   "outputs": [
    {
     "data": {
      "text/html": [
       "<div>\n",
       "<style>\n",
       "    .dataframe thead tr:only-child th {\n",
       "        text-align: right;\n",
       "    }\n",
       "\n",
       "    .dataframe thead th {\n",
       "        text-align: left;\n",
       "    }\n",
       "\n",
       "    .dataframe tbody tr th {\n",
       "        vertical-align: top;\n",
       "    }\n",
       "</style>\n",
       "<table border=\"1\" class=\"dataframe\">\n",
       "  <thead>\n",
       "    <tr style=\"text-align: right;\">\n",
       "      <th></th>\n",
       "      <th>day_of_week</th>\n",
       "      <th>hour</th>\n",
       "      <th>hourly_proportion</th>\n",
       "    </tr>\n",
       "  </thead>\n",
       "  <tbody>\n",
       "    <tr>\n",
       "      <th>0</th>\n",
       "      <td>sun</td>\n",
       "      <td>2</td>\n",
       "      <td>0.009167</td>\n",
       "    </tr>\n",
       "    <tr>\n",
       "      <th>1</th>\n",
       "      <td>sun</td>\n",
       "      <td>6</td>\n",
       "      <td>0.038168</td>\n",
       "    </tr>\n",
       "    <tr>\n",
       "      <th>2</th>\n",
       "      <td>sun</td>\n",
       "      <td>10</td>\n",
       "      <td>0.152985</td>\n",
       "    </tr>\n",
       "    <tr>\n",
       "      <th>3</th>\n",
       "      <td>sun</td>\n",
       "      <td>14</td>\n",
       "      <td>0.406838</td>\n",
       "    </tr>\n",
       "    <tr>\n",
       "      <th>4</th>\n",
       "      <td>sun</td>\n",
       "      <td>18</td>\n",
       "      <td>0.280672</td>\n",
       "    </tr>\n",
       "    <tr>\n",
       "      <th>5</th>\n",
       "      <td>sun</td>\n",
       "      <td>22</td>\n",
       "      <td>0.112169</td>\n",
       "    </tr>\n",
       "    <tr>\n",
       "      <th>6</th>\n",
       "      <td>mon</td>\n",
       "      <td>2</td>\n",
       "      <td>0.001177</td>\n",
       "    </tr>\n",
       "    <tr>\n",
       "      <th>7</th>\n",
       "      <td>mon</td>\n",
       "      <td>6</td>\n",
       "      <td>0.005286</td>\n",
       "    </tr>\n",
       "    <tr>\n",
       "      <th>8</th>\n",
       "      <td>mon</td>\n",
       "      <td>10</td>\n",
       "      <td>0.134738</td>\n",
       "    </tr>\n",
       "    <tr>\n",
       "      <th>9</th>\n",
       "      <td>mon</td>\n",
       "      <td>14</td>\n",
       "      <td>0.458740</td>\n",
       "    </tr>\n",
       "    <tr>\n",
       "      <th>10</th>\n",
       "      <td>mon</td>\n",
       "      <td>18</td>\n",
       "      <td>0.198650</td>\n",
       "    </tr>\n",
       "    <tr>\n",
       "      <th>11</th>\n",
       "      <td>mon</td>\n",
       "      <td>22</td>\n",
       "      <td>0.201409</td>\n",
       "    </tr>\n",
       "    <tr>\n",
       "      <th>12</th>\n",
       "      <td>tue</td>\n",
       "      <td>2</td>\n",
       "      <td>0.002016</td>\n",
       "    </tr>\n",
       "    <tr>\n",
       "      <th>13</th>\n",
       "      <td>tue</td>\n",
       "      <td>6</td>\n",
       "      <td>0.017760</td>\n",
       "    </tr>\n",
       "    <tr>\n",
       "      <th>14</th>\n",
       "      <td>tue</td>\n",
       "      <td>10</td>\n",
       "      <td>0.199172</td>\n",
       "    </tr>\n",
       "    <tr>\n",
       "      <th>15</th>\n",
       "      <td>tue</td>\n",
       "      <td>14</td>\n",
       "      <td>0.540259</td>\n",
       "    </tr>\n",
       "    <tr>\n",
       "      <th>16</th>\n",
       "      <td>tue</td>\n",
       "      <td>18</td>\n",
       "      <td>0.195010</td>\n",
       "    </tr>\n",
       "    <tr>\n",
       "      <th>17</th>\n",
       "      <td>tue</td>\n",
       "      <td>22</td>\n",
       "      <td>0.045783</td>\n",
       "    </tr>\n",
       "    <tr>\n",
       "      <th>18</th>\n",
       "      <td>wed</td>\n",
       "      <td>2</td>\n",
       "      <td>0.008869</td>\n",
       "    </tr>\n",
       "    <tr>\n",
       "      <th>19</th>\n",
       "      <td>wed</td>\n",
       "      <td>6</td>\n",
       "      <td>0.005711</td>\n",
       "    </tr>\n",
       "    <tr>\n",
       "      <th>20</th>\n",
       "      <td>wed</td>\n",
       "      <td>10</td>\n",
       "      <td>0.131100</td>\n",
       "    </tr>\n",
       "    <tr>\n",
       "      <th>21</th>\n",
       "      <td>wed</td>\n",
       "      <td>14</td>\n",
       "      <td>0.502423</td>\n",
       "    </tr>\n",
       "    <tr>\n",
       "      <th>22</th>\n",
       "      <td>wed</td>\n",
       "      <td>18</td>\n",
       "      <td>0.272893</td>\n",
       "    </tr>\n",
       "    <tr>\n",
       "      <th>23</th>\n",
       "      <td>wed</td>\n",
       "      <td>22</td>\n",
       "      <td>0.079004</td>\n",
       "    </tr>\n",
       "    <tr>\n",
       "      <th>24</th>\n",
       "      <td>thu</td>\n",
       "      <td>2</td>\n",
       "      <td>0.025500</td>\n",
       "    </tr>\n",
       "    <tr>\n",
       "      <th>25</th>\n",
       "      <td>thu</td>\n",
       "      <td>6</td>\n",
       "      <td>0.010739</td>\n",
       "    </tr>\n",
       "    <tr>\n",
       "      <th>26</th>\n",
       "      <td>thu</td>\n",
       "      <td>10</td>\n",
       "      <td>0.077022</td>\n",
       "    </tr>\n",
       "    <tr>\n",
       "      <th>27</th>\n",
       "      <td>thu</td>\n",
       "      <td>14</td>\n",
       "      <td>0.433650</td>\n",
       "    </tr>\n",
       "    <tr>\n",
       "      <th>28</th>\n",
       "      <td>thu</td>\n",
       "      <td>18</td>\n",
       "      <td>0.315955</td>\n",
       "    </tr>\n",
       "    <tr>\n",
       "      <th>29</th>\n",
       "      <td>thu</td>\n",
       "      <td>22</td>\n",
       "      <td>0.137135</td>\n",
       "    </tr>\n",
       "    <tr>\n",
       "      <th>30</th>\n",
       "      <td>fri</td>\n",
       "      <td>2</td>\n",
       "      <td>0.021290</td>\n",
       "    </tr>\n",
       "    <tr>\n",
       "      <th>31</th>\n",
       "      <td>fri</td>\n",
       "      <td>6</td>\n",
       "      <td>0.064147</td>\n",
       "    </tr>\n",
       "    <tr>\n",
       "      <th>32</th>\n",
       "      <td>fri</td>\n",
       "      <td>10</td>\n",
       "      <td>0.163625</td>\n",
       "    </tr>\n",
       "    <tr>\n",
       "      <th>33</th>\n",
       "      <td>fri</td>\n",
       "      <td>14</td>\n",
       "      <td>0.227717</td>\n",
       "    </tr>\n",
       "    <tr>\n",
       "      <th>34</th>\n",
       "      <td>fri</td>\n",
       "      <td>18</td>\n",
       "      <td>0.392902</td>\n",
       "    </tr>\n",
       "    <tr>\n",
       "      <th>35</th>\n",
       "      <td>fri</td>\n",
       "      <td>22</td>\n",
       "      <td>0.130319</td>\n",
       "    </tr>\n",
       "    <tr>\n",
       "      <th>36</th>\n",
       "      <td>sat</td>\n",
       "      <td>2</td>\n",
       "      <td>0.018163</td>\n",
       "    </tr>\n",
       "    <tr>\n",
       "      <th>37</th>\n",
       "      <td>sat</td>\n",
       "      <td>6</td>\n",
       "      <td>0.018826</td>\n",
       "    </tr>\n",
       "    <tr>\n",
       "      <th>38</th>\n",
       "      <td>sat</td>\n",
       "      <td>10</td>\n",
       "      <td>0.075273</td>\n",
       "    </tr>\n",
       "    <tr>\n",
       "      <th>39</th>\n",
       "      <td>sat</td>\n",
       "      <td>14</td>\n",
       "      <td>0.580606</td>\n",
       "    </tr>\n",
       "    <tr>\n",
       "      <th>40</th>\n",
       "      <td>sat</td>\n",
       "      <td>18</td>\n",
       "      <td>0.274843</td>\n",
       "    </tr>\n",
       "    <tr>\n",
       "      <th>41</th>\n",
       "      <td>sat</td>\n",
       "      <td>22</td>\n",
       "      <td>0.032289</td>\n",
       "    </tr>\n",
       "  </tbody>\n",
       "</table>\n",
       "</div>"
      ],
      "text/plain": [
       "   day_of_week  hour  hourly_proportion\n",
       "0          sun     2           0.009167\n",
       "1          sun     6           0.038168\n",
       "2          sun    10           0.152985\n",
       "3          sun    14           0.406838\n",
       "4          sun    18           0.280672\n",
       "5          sun    22           0.112169\n",
       "6          mon     2           0.001177\n",
       "7          mon     6           0.005286\n",
       "8          mon    10           0.134738\n",
       "9          mon    14           0.458740\n",
       "10         mon    18           0.198650\n",
       "11         mon    22           0.201409\n",
       "12         tue     2           0.002016\n",
       "13         tue     6           0.017760\n",
       "14         tue    10           0.199172\n",
       "15         tue    14           0.540259\n",
       "16         tue    18           0.195010\n",
       "17         tue    22           0.045783\n",
       "18         wed     2           0.008869\n",
       "19         wed     6           0.005711\n",
       "20         wed    10           0.131100\n",
       "21         wed    14           0.502423\n",
       "22         wed    18           0.272893\n",
       "23         wed    22           0.079004\n",
       "24         thu     2           0.025500\n",
       "25         thu     6           0.010739\n",
       "26         thu    10           0.077022\n",
       "27         thu    14           0.433650\n",
       "28         thu    18           0.315955\n",
       "29         thu    22           0.137135\n",
       "30         fri     2           0.021290\n",
       "31         fri     6           0.064147\n",
       "32         fri    10           0.163625\n",
       "33         fri    14           0.227717\n",
       "34         fri    18           0.392902\n",
       "35         fri    22           0.130319\n",
       "36         sat     2           0.018163\n",
       "37         sat     6           0.018826\n",
       "38         sat    10           0.075273\n",
       "39         sat    14           0.580606\n",
       "40         sat    18           0.274843\n",
       "41         sat    22           0.032289"
      ]
     },
     "execution_count": 186,
     "metadata": {},
     "output_type": "execute_result"
    }
   ],
   "source": [
    "hdf"
   ]
  },
  {
   "cell_type": "code",
   "execution_count": null,
   "metadata": {},
   "outputs": [],
   "source": []
  },
  {
   "cell_type": "code",
   "execution_count": 188,
   "metadata": {},
   "outputs": [
    {
     "data": {
      "text/plain": [
       "[2, 6, 10, 14, 18, 22, 2, 6, 10, 14, 18, 22, 2, 6, 10, 14, 18, 22]"
      ]
     },
     "execution_count": 188,
     "metadata": {},
     "output_type": "execute_result"
    }
   ],
   "source": [
    "[2,6,10,14,18,22]*X.shape[0]"
   ]
  },
  {
   "cell_type": "code",
   "execution_count": null,
   "metadata": {
    "collapsed": true
   },
   "outputs": [],
   "source": []
  },
  {
   "cell_type": "code",
   "execution_count": 187,
   "metadata": {
    "collapsed": true
   },
   "outputs": [],
   "source": [
    "class UsagePredictor:\n",
    "    def __init__(self, daily_model, hourly_proportions):\n",
    "        self.daily_model = daily_model\n",
    "        self.hourly_proportions = hourly_proportions\n",
    "        \n",
    "    def predict(self, X):\n",
    "        daily_preds = pd.DataFrame(self.daily_model.predict(X), index=X.index)\n",
    "        daily_preds[\"day_of_week\"] = daily_preds.reset_index().index.apply(\n",
    "            lambda x : ['sun', 'mon', 'tue', 'wed', 'thu', 'fri', 'sat'][x.weekday()]\n",
    "        )\n",
    "        \n",
    "        \n",
    "        df = pd.DataFrame({\n",
    "            \"day_of_week\": np.array([[d]*6 for d in daily_preds[\"day_of_week\"]]).ravel(),\n",
    "            \"hour\": [2,6,10,14,18,22]*X.shape[0]\n",
    "        })\n",
    "        for i, day in enumerate(X.index):\n",
    "            \n",
    "            \n",
    "            day_traffic = daily_preds[i]         "
   ]
  },
  {
   "cell_type": "code",
   "execution_count": 191,
   "metadata": {},
   "outputs": [
    {
     "data": {
      "text/plain": [
       "array([1, 1, 1, 1, 2, 2, 2, 2])"
      ]
     },
     "execution_count": 191,
     "metadata": {},
     "output_type": "execute_result"
    }
   ],
   "source": [
    "np.array([[1,1,1,1],[2,2,2,2]]).ravel()"
   ]
  },
  {
   "cell_type": "code",
   "execution_count": null,
   "metadata": {
    "collapsed": true
   },
   "outputs": [],
   "source": []
  }
 ],
 "metadata": {
  "kernelspec": {
   "display_name": "Python 3",
   "language": "python",
   "name": "python3"
  },
  "language_info": {
   "codemirror_mode": {
    "name": "ipython",
    "version": 3
   },
   "file_extension": ".py",
   "mimetype": "text/x-python",
   "name": "python",
   "nbconvert_exporter": "python",
   "pygments_lexer": "ipython3",
   "version": "3.4.2"
  }
 },
 "nbformat": 4,
 "nbformat_minor": 2
}
