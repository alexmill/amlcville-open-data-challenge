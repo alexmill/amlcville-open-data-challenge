{
 "cells": [
  {
   "cell_type": "markdown",
   "metadata": {},
   "source": [
    "# Fitting Linear Models with Custom Loss Functions and Regularization in Python\n",
    "\n",
    "### by [Alex P. Miller](https://alex.miller.im/) ([@alexpmil](https://twitter.com/alexpmil))\n",
    "\n",
    "As part of a predictive model competition I participated in earlier this month, I found myself trying to accomplish a peculiar task. The challenge organizers were going to use \"mean absolute percentage error\" (MAPE) as their criterion for model evaluation. Since this is not a standard loss function built into most software, I decided to write my own code to train a model that would use the MAPE in its objective function. \n",
    "\n",
    "I started by searching through the SciKit-Learn documentation on [linear models](http://scikit-learn.org/stable/modules/classes.html#module-sklearn.linear_model) to see if the model I needed has already been developed somewhere. I thought that the `sklearn.linear_model.RidgeCV` class would accomplish what I wanted (MAPE minimization with L2 regularization), but I could not get the `scoring` argument (which supposedly lets you pass a custom loss function to the model class) to behave as I expected it to.\n",
    "\n",
    "While I highly recommend searching through existing packages to see if the model you want already exists, you should (in theory) be able to use this notebook as a template for a building linear models with an arbitrary loss function and regularization scheme."
   ]
  },
  {
   "cell_type": "markdown",
   "metadata": {},
   "source": [
    "## Python Code\n",
    "\n",
    "I'll be using a Jupyter Notebook (running Python 3) to build my model. If you're reading this on my website, you can find the raw .ipynb file linked here; you can also run a fully-exectuable version of the notebook the the Binder platform by clicking here.\n",
    "\n",
    "We'll start with some basic imports:"
   ]
  },
  {
   "cell_type": "code",
   "execution_count": 1,
   "metadata": {},
   "outputs": [],
   "source": [
    "%matplotlib inline\n",
    "import numpy as np\n",
    "import pandas as pd\n",
    "from matplotlib import pyplot as plt\n",
    "from sklearn.preprocessing import StandardScaler"
   ]
  },
  {
   "cell_type": "markdown",
   "metadata": {},
   "source": [
    "## Load Your Data\n",
    "\n",
    "For the purposes of this walkthrough, I'll need to generate some raw data. Presumably, if you've found yourself here, you will want to substitute this step with one where you load your own data. \n",
    "\n",
    "I am simulating a scenario where I have 100 observations on 10 features (9 features and an intercept). The \"true\" function will simply be a linear function of these features: $y=X\\beta$. However, we want to simulate observing these data with noise. Because I'm mostly going to be focusing on the \"mean absolute percentage error\" loss function, I want my noise to be on an exponential scale, which is why I am taking exponents/logs below:\n",
    "\n",
    "$$y = e^{log(X\\beta) + \\varepsilon}, \\; \\varepsilon \\sim \\mathcal{N}(0, 0.2)$$"
   ]
  },
  {
   "cell_type": "code",
   "execution_count": 2,
   "metadata": {},
   "outputs": [],
   "source": [
    "# Generate predictors\n",
    "X_raw = np.random.random(100*9)\n",
    "X_raw = np.reshape(X_raw, (100, 9))\n",
    "\n",
    "# Standardize the predictors\n",
    "scaler = StandardScaler().fit(X_raw)\n",
    "X = scaler.transform(X_raw)\n",
    "\n",
    "# Add an intercept column to the model.\n",
    "X = np.abs(np.concatenate((np.ones((X.shape[0],1)), X), axis=1))\n",
    "\n",
    "# Define my \"true\" beta coefficients\n",
    "beta = np.array([2,6,7,3,5,7,1,2,2,8])\n",
    "\n",
    "# Y = Xb\n",
    "Y_true = np.matmul(X,beta)\n",
    "\n",
    "# Observed data with noise\n",
    "Y = Y_true*np.exp(np.random.normal(loc=0.0, scale=0.2, size=100))"
   ]
  },
  {
   "cell_type": "markdown",
   "metadata": {},
   "source": [
    "## Define your custom loss function\n",
    "\n",
    "I am mainly going to focus on the MAPE loss function in this notebook, but this is where you would substitute in your own loss function (if applicable). MAPE is defined as follows:\n",
    "\n",
    "### Mean Absolute Percentage Error (MAPE)\n",
    "\n",
    "$$ \\text{error}(\\beta) = \\frac{100}{n} \\sum_{i=1}^{n}\\left| \\frac{y_i - X_i\\beta}{y_i} \\right|$$\n",
    "\n",
    "While I won't go to into too much detail here, I ended up using a *weighted* MAPE criteria to fit the model I used in the data science competition. Given a set of sample weights $w_i$, you can define the weighted MAPE loss function using the following formula:\n",
    "\n",
    "### Weighted MAPE\n",
    "\n",
    "$$\\text{error}(\\beta) =  100 \\left( \\sum_{i=1}^N w_i \\right)^{-1} \\sum_{i=1}^N w_i \\left| \\frac{y_i - X_i\\beta}{y_i} \\right|$$"
   ]
  },
  {
   "cell_type": "markdown",
   "metadata": {},
   "source": [
    "In Python, the MAPE can be calculated with the function below:"
   ]
  },
  {
   "cell_type": "code",
   "execution_count": 3,
   "metadata": {},
   "outputs": [],
   "source": [
    "def mean_absolute_percentage_error(y_true, y_pred, sample_weights=None):\n",
    "    y_true = np.array(y_true)\n",
    "    y_pred = np.array(y_pred)\n",
    "    assert len(y_true) == len(y_pred)\n",
    "    \n",
    "    if np.any(y_true==0):\n",
    "        print(\"Found zeroes in y_true. MAPE undefined. Removing from set...\")\n",
    "        idx = np.where(y_true==0)\n",
    "        y_true = np.delete(y_true, idx)\n",
    "        y_pred = np.delete(y_pred, idx)\n",
    "        if type(sample_weights) != type(None):\n",
    "            sample_weights = np.array(sample_weights)\n",
    "            sample_weights = np.delete(sample_weights, idx)\n",
    "        \n",
    "    if type(sample_weights) == type(None):\n",
    "        return(np.mean(np.abs((y_true - y_pred) / y_true)) * 100)\n",
    "    else:\n",
    "        sample_weights = np.array(sample_weights)\n",
    "        assert len(sample_weights) == len(y_true)\n",
    "        return(100/sum(sample_weights)*np.dot(\n",
    "                sample_weights, (np.abs((y_true - y_pred) / y_true))\n",
    "        ))\n",
    "    \n",
    "loss_function = mean_absolute_percentage_error"
   ]
  },
  {
   "cell_type": "markdown",
   "metadata": {},
   "source": [
    "## Fitting a simple linear model with custom loss function\n",
    "\n",
    "You may know that the traditional method for fitting linear models, ordinary least squares, has a nice analytic solution. This means that the \"optimal\" model parameters that minimize the squared error of the model, can be calculated directly from the input data:\n",
    "\n",
    "$$ \\hat\\beta = \\arg\\min_\\beta \\frac{1}{n} \\sum_{i=1}^n (y_i - X_i\\beta)^2 =  (X^\\mathrm{T}X)^{-1}X^\\mathrm{T}y $$\n",
    "\n",
    "However, with an arbitrary loss function, there is no guarantee that finding the optimal parameters can be done so easily. To keep this notebook as generalizable as possible, I'm going to be minimizing our custom loss functions using numerical optimization techniques (similar to the \"solver\" functionality in Excel). In general terms, the $\\beta$ we want to fit can be found as the solution to the following equation (where I've subsituted in the MAPE for the error function in the last line):\n",
    "\n",
    "$$ \\hat\\beta = \\arg\\min_\\beta \\; \\text{error}(\\beta) = \\arg\\min_\\beta \\frac{100}{n} \\sum_{i=1}^{n}\\left| \\frac{y_i - X_i\\beta}{y_i} \\right| $$\n",
    "\n",
    "Essentially we want to search over the space of all $\\beta$ values and find the value that minimizes our chosen error function. To get a flavor for what this looks like in Python, I'll fit a simple MAPE model below, using the `minimize` function from SciPy. "
   ]
  },
  {
   "cell_type": "code",
   "execution_count": 4,
   "metadata": {},
   "outputs": [
    {
     "name": "stdout",
     "output_type": "stream",
     "text": [
      "[ 4.92186402  3.90670026  9.47581284  4.24438793  3.61750887  7.94615776\n",
      " -0.07480217  1.57636552  0.88414542  6.0017085 ]\n"
     ]
    }
   ],
   "source": [
    "from scipy.optimize import minimize\n",
    "\n",
    "def objective_function(beta, X, Y):\n",
    "    error = loss_function(np.matmul(X,beta), Y)\n",
    "    return(error)\n",
    "\n",
    "# You must provide a starting point at which to initialize\n",
    "# the parameter search space\n",
    "beta_init = np.array([1]*X.shape[1])\n",
    "result = minimize(objective_function, beta_init, args=(X,Y),\n",
    "                  method='BFGS', options={'maxiter': 500})\n",
    "\n",
    "# The optimal values for the input parameters are stored\n",
    "# in result.x\n",
    "beta_hat = result.x\n",
    "print(beta_hat)"
   ]
  },
  {
   "cell_type": "markdown",
   "metadata": {},
   "source": [
    "We can compare the esimated betas to the true model betas that we initialized at the beginning of this notebook:"
   ]
  },
  {
   "cell_type": "code",
   "execution_count": 5,
   "metadata": {},
   "outputs": [
    {
     "data": {
      "text/html": [
       "<div>\n",
       "<style>\n",
       "    .dataframe thead tr:only-child th {\n",
       "        text-align: right;\n",
       "    }\n",
       "\n",
       "    .dataframe thead th {\n",
       "        text-align: left;\n",
       "    }\n",
       "\n",
       "    .dataframe tbody tr th {\n",
       "        vertical-align: top;\n",
       "    }\n",
       "</style>\n",
       "<table border=\"1\" class=\"dataframe\">\n",
       "  <thead>\n",
       "    <tr style=\"text-align: right;\">\n",
       "      <th></th>\n",
       "      <th>true_beta</th>\n",
       "      <th>estimated_beta</th>\n",
       "      <th>error</th>\n",
       "    </tr>\n",
       "  </thead>\n",
       "  <tbody>\n",
       "    <tr>\n",
       "      <th>0</th>\n",
       "      <td>2</td>\n",
       "      <td>4.921864</td>\n",
       "      <td>-2.921864</td>\n",
       "    </tr>\n",
       "    <tr>\n",
       "      <th>1</th>\n",
       "      <td>6</td>\n",
       "      <td>3.906700</td>\n",
       "      <td>2.093300</td>\n",
       "    </tr>\n",
       "    <tr>\n",
       "      <th>2</th>\n",
       "      <td>7</td>\n",
       "      <td>9.475813</td>\n",
       "      <td>-2.475813</td>\n",
       "    </tr>\n",
       "    <tr>\n",
       "      <th>3</th>\n",
       "      <td>3</td>\n",
       "      <td>4.244388</td>\n",
       "      <td>-1.244388</td>\n",
       "    </tr>\n",
       "    <tr>\n",
       "      <th>4</th>\n",
       "      <td>5</td>\n",
       "      <td>3.617509</td>\n",
       "      <td>1.382491</td>\n",
       "    </tr>\n",
       "    <tr>\n",
       "      <th>5</th>\n",
       "      <td>7</td>\n",
       "      <td>7.946158</td>\n",
       "      <td>-0.946158</td>\n",
       "    </tr>\n",
       "    <tr>\n",
       "      <th>6</th>\n",
       "      <td>1</td>\n",
       "      <td>-0.074802</td>\n",
       "      <td>1.074802</td>\n",
       "    </tr>\n",
       "    <tr>\n",
       "      <th>7</th>\n",
       "      <td>2</td>\n",
       "      <td>1.576366</td>\n",
       "      <td>0.423634</td>\n",
       "    </tr>\n",
       "    <tr>\n",
       "      <th>8</th>\n",
       "      <td>2</td>\n",
       "      <td>0.884145</td>\n",
       "      <td>1.115855</td>\n",
       "    </tr>\n",
       "    <tr>\n",
       "      <th>9</th>\n",
       "      <td>8</td>\n",
       "      <td>6.001709</td>\n",
       "      <td>1.998291</td>\n",
       "    </tr>\n",
       "  </tbody>\n",
       "</table>\n",
       "</div>"
      ],
      "text/plain": [
       "   true_beta  estimated_beta     error\n",
       "0          2        4.921864 -2.921864\n",
       "1          6        3.906700  2.093300\n",
       "2          7        9.475813 -2.475813\n",
       "3          3        4.244388 -1.244388\n",
       "4          5        3.617509  1.382491\n",
       "5          7        7.946158 -0.946158\n",
       "6          1       -0.074802  1.074802\n",
       "7          2        1.576366  0.423634\n",
       "8          2        0.884145  1.115855\n",
       "9          8        6.001709  1.998291"
      ]
     },
     "execution_count": 5,
     "metadata": {},
     "output_type": "execute_result"
    }
   ],
   "source": [
    "pd.DataFrame({\n",
    "    \"true_beta\": beta, \n",
    "    \"estimated_beta\": beta_hat,\n",
    "    \"error\": beta-beta_hat\n",
    "})[[\"true_beta\", \"estimated_beta\", \"error\"]]"
   ]
  },
  {
   "cell_type": "markdown",
   "metadata": {},
   "source": [
    "It's obviously not perfect, but we can see that our estimated values are at least in the ballpark from the true values. We can also calculate the final MAPE of our estimated model using our loss function:"
   ]
  },
  {
   "cell_type": "code",
   "execution_count": 6,
   "metadata": {},
   "outputs": [
    {
     "data": {
      "text/plain": [
       "14.990329757449365"
      ]
     },
     "execution_count": 6,
     "metadata": {},
     "output_type": "execute_result"
    }
   ],
   "source": [
    "loss_function(np.matmul(X,beta_hat), Y)"
   ]
  },
  {
   "cell_type": "markdown",
   "metadata": {},
   "source": [
    "## Incorporating Regularization into Model Fitting\n",
    "\n",
    "The process described above fits a simple linear model to the data provided by directly minimizing the a custom loss function (MAPE, in this case). However, in many machine learning problems, you will want to [regularize](https://en.wikipedia.org/wiki/Regularization_(mathematics) your model parameters to prevent overfitting. In this notebook, I'm going to walk through the process of incorporating L2 regularization, which amounts to penalizing your model's parameters by the square of their magnitude. \n",
    "\n",
    "In precise terms, rather than minimizing our loss function directly, we will augment our loss function by adding a squared penalty term on our model's coefficients. With L2 regularization, our new loss function becomes:\n",
    "\n",
    "$$ L(\\beta) = \\frac{100}{N} \\sum_{i=1}^N \\left| \\frac{y_i - X_i\\beta}{y_i} \\right| + \\lambda \\sum_{k=1}^K \\beta_k^2 $$\n",
    "\n",
    "Or, in the case that sample weights are provided:\n",
    "\n",
    "$$ L(\\beta) = 100 \\left( \\sum_{i=1}^N w_i \\right)^{-1} \\sum_{i=1}^N w_i \\left| \\frac{y_i - X_i\\beta}{y_i} \\right| + \\lambda \\sum_{k=1}^K \\beta_k^2 $$\n",
    "\n",
    "For now, we will assume that the $\\lambda$ coefficient (the regularization parameter) is already known. However, later we will use cross validation to find the optimal $\\lambda$ value for our data.\n"
   ]
  },
  {
   "cell_type": "markdown",
   "metadata": {},
   "source": [
    "Since our  model is getting a little more complicated, I'm going to define a Python class with a very similar attribute and method scheme as those found in SciKit-Learn (e.g., `sklearn.linear_model.Lasso` or `sklearn.ensemble.RandomForestRegressor`)."
   ]
  },
  {
   "cell_type": "code",
   "execution_count": 7,
   "metadata": {},
   "outputs": [],
   "source": [
    "class CustomLinearModel:\n",
    "    \"\"\"\n",
    "    Linear model: Y = XB, fit by minimizing the provided loss_function\n",
    "    with L2 regularization\n",
    "    \"\"\"\n",
    "    def __init__(self, loss_function=mean_absolute_percentage_error, \n",
    "                 X=None, Y=None, sample_weights=None, beta_init=None, \n",
    "                 regularization=0.00012):\n",
    "        self.regularization = regularization\n",
    "        self.beta = None\n",
    "        self.loss_function = loss_function\n",
    "        self.sample_weights = sample_weights\n",
    "        self.beta_init = beta_init\n",
    "        \n",
    "        self.X = X\n",
    "        self.Y = Y\n",
    "            \n",
    "    \n",
    "    def predict(self, X):\n",
    "        prediction = np.matmul(X, self.beta)\n",
    "        return(prediction)\n",
    "\n",
    "    def model_error(self):\n",
    "        error = self.loss_function(\n",
    "            self.predict(self.X), self.Y, sample_weights=self.sample_weights\n",
    "        )\n",
    "        return(error)\n",
    "    \n",
    "    def l2_regularized_loss(self, beta):\n",
    "        self.beta = beta\n",
    "        return(self.model_error() + \\\n",
    "               sum(self.regularization*np.array(self.beta)**2))\n",
    "    \n",
    "    def fit(self, maxiter=250):        \n",
    "        # Initialize beta estimates (you may need to normalize\n",
    "        # your data and choose smarter initialization values\n",
    "        # depending on the shape of your loss function)\n",
    "        if type(self.beta_init)==type(None):\n",
    "            # set beta_init = 1 for every feature\n",
    "            self.beta_init = np.array([1]*self.X.shape[1])\n",
    "        else: \n",
    "            # Use provided initial values\n",
    "            pass\n",
    "            \n",
    "        if self.beta!=None and all(self.beta_init == self.beta):\n",
    "            print(\"Model already fit once; continuing fit with more itrations.\")\n",
    "            \n",
    "        res = minimize(self.l2_regularized_loss, self.beta_init,\n",
    "                       method='BFGS', options={'maxiter': 500})\n",
    "        self.beta = res.x\n",
    "        self.beta_init = self.beta"
   ]
  },
  {
   "cell_type": "code",
   "execution_count": 8,
   "metadata": {},
   "outputs": [
    {
     "data": {
      "text/plain": [
       "array([ 5.03662025,  3.87655611,  9.4728106 ,  4.21411826,  3.59855275,\n",
       "        7.92518638, -0.13274225,  1.6209291 ,  0.91295936,  5.94200503])"
      ]
     },
     "execution_count": 8,
     "metadata": {},
     "output_type": "execute_result"
    }
   ],
   "source": [
    "l2_mape_model = CustomLinearModel(\n",
    "    loss_function=mean_absolute_percentage_error,\n",
    "    X=X, Y=Y, regularization=0.00012\n",
    ")\n",
    "l2_mape_model.fit()\n",
    "l2_mape_model.beta"
   ]
  },
  {
   "cell_type": "markdown",
   "metadata": {},
   "source": [
    "Just to confirm that our regularization did work, let's make sure that the estimated betas found with regularization are different from those found without regularization (which we calculated earlier):"
   ]
  },
  {
   "cell_type": "code",
   "execution_count": 9,
   "metadata": {},
   "outputs": [
    {
     "data": {
      "text/html": [
       "<div>\n",
       "<style>\n",
       "    .dataframe thead tr:only-child th {\n",
       "        text-align: right;\n",
       "    }\n",
       "\n",
       "    .dataframe thead th {\n",
       "        text-align: left;\n",
       "    }\n",
       "\n",
       "    .dataframe tbody tr th {\n",
       "        vertical-align: top;\n",
       "    }\n",
       "</style>\n",
       "<table border=\"1\" class=\"dataframe\">\n",
       "  <thead>\n",
       "    <tr style=\"text-align: right;\">\n",
       "      <th></th>\n",
       "      <th>true_beta</th>\n",
       "      <th>estimated_beta</th>\n",
       "      <th>regularized_beta</th>\n",
       "    </tr>\n",
       "  </thead>\n",
       "  <tbody>\n",
       "    <tr>\n",
       "      <th>0</th>\n",
       "      <td>2</td>\n",
       "      <td>4.921864</td>\n",
       "      <td>5.036620</td>\n",
       "    </tr>\n",
       "    <tr>\n",
       "      <th>1</th>\n",
       "      <td>6</td>\n",
       "      <td>3.906700</td>\n",
       "      <td>3.876556</td>\n",
       "    </tr>\n",
       "    <tr>\n",
       "      <th>2</th>\n",
       "      <td>7</td>\n",
       "      <td>9.475813</td>\n",
       "      <td>9.472811</td>\n",
       "    </tr>\n",
       "    <tr>\n",
       "      <th>3</th>\n",
       "      <td>3</td>\n",
       "      <td>4.244388</td>\n",
       "      <td>4.214118</td>\n",
       "    </tr>\n",
       "    <tr>\n",
       "      <th>4</th>\n",
       "      <td>5</td>\n",
       "      <td>3.617509</td>\n",
       "      <td>3.598553</td>\n",
       "    </tr>\n",
       "    <tr>\n",
       "      <th>5</th>\n",
       "      <td>7</td>\n",
       "      <td>7.946158</td>\n",
       "      <td>7.925186</td>\n",
       "    </tr>\n",
       "    <tr>\n",
       "      <th>6</th>\n",
       "      <td>1</td>\n",
       "      <td>-0.074802</td>\n",
       "      <td>-0.132742</td>\n",
       "    </tr>\n",
       "    <tr>\n",
       "      <th>7</th>\n",
       "      <td>2</td>\n",
       "      <td>1.576366</td>\n",
       "      <td>1.620929</td>\n",
       "    </tr>\n",
       "    <tr>\n",
       "      <th>8</th>\n",
       "      <td>2</td>\n",
       "      <td>0.884145</td>\n",
       "      <td>0.912959</td>\n",
       "    </tr>\n",
       "    <tr>\n",
       "      <th>9</th>\n",
       "      <td>8</td>\n",
       "      <td>6.001709</td>\n",
       "      <td>5.942005</td>\n",
       "    </tr>\n",
       "  </tbody>\n",
       "</table>\n",
       "</div>"
      ],
      "text/plain": [
       "   true_beta  estimated_beta  regularized_beta\n",
       "0          2        4.921864          5.036620\n",
       "1          6        3.906700          3.876556\n",
       "2          7        9.475813          9.472811\n",
       "3          3        4.244388          4.214118\n",
       "4          5        3.617509          3.598553\n",
       "5          7        7.946158          7.925186\n",
       "6          1       -0.074802         -0.132742\n",
       "7          2        1.576366          1.620929\n",
       "8          2        0.884145          0.912959\n",
       "9          8        6.001709          5.942005"
      ]
     },
     "execution_count": 9,
     "metadata": {},
     "output_type": "execute_result"
    }
   ],
   "source": [
    "pd.DataFrame({\n",
    "    \"true_beta\": beta, \n",
    "    \"estimated_beta\": beta_hat,\n",
    "    \"regularized_beta\": l2_mape_model.beta\n",
    "})[[\"true_beta\", \"estimated_beta\", \"regularized_beta\"]]"
   ]
  },
  {
   "cell_type": "markdown",
   "metadata": {},
   "source": [
    "Since our regularization parameter is so small, we can see that it didn't affect our coefficient estimates dramatically. But the fact that the betas are different between the two models indicates that our regularization does seem to be working."
   ]
  },
  {
   "cell_type": "markdown",
   "metadata": {},
   "source": [
    "Just to make sure things are in the realm of common sense, it's never a bad idea to plot your predicted Y against our observed Y."
   ]
  },
  {
   "cell_type": "code",
   "execution_count": 10,
   "metadata": {},
   "outputs": [
    {
     "data": {
      "text/plain": [
       "<matplotlib.collections.PathCollection at 0x2af61fcd89e8>"
      ]
     },
     "execution_count": 10,
     "metadata": {},
     "output_type": "execute_result"
    },
    {
     "data": {
      "image/png": "[encoded data removed]",
      "text/plain": [
       "<Figure size 432x288 with 1 Axes>"
      ]
     },
     "metadata": {},
     "output_type": "display_data"
    }
   ],
   "source": [
    "# Predicted Y vs. observed Y\n",
    "plt.scatter(l2_mape_model.predict(X), Y)"
   ]
  },
  {
   "cell_type": "markdown",
   "metadata": {},
   "source": [
    "## Important Caveat: Standardize Your Predictors\n",
    "> In most applications, your features will be measured on many different scales; however you'll notice in the loss function described above, each $\\beta_k$ parameter is being penalized by the same amount ($\\lambda$). Best practice when using L2 regularization is to **standardize your feature matrix** (subtract the mean off of each column and divide the result by the column standard deviation). This will ensure that all features are on approximately the same scale and that the regularization parameter has an equal impact on all $\\beta_k$ coefficients.\n",
    "\n",
    "> I standardized my data at the very beginning of this notebook, but typically you will need to work standardization into your data pipeline. Use `sklearn.preprocessing.StandardScaler` and keep track of your intercept when going through this process!"
   ]
  },
  {
   "cell_type": "markdown",
   "metadata": {},
   "source": [
    "## Cross Validation to Identify Optimal Regularization Parameter\n",
    "\n",
    "At this point, we have a model class that will find the optimal beta coefficients to minimize the loss function described above with a given regularization parameter. Of course, your regularization parameter $\\lambda$ will not typically fall from the sky. Below I've included some code that uses cross validation to find the optimal $\\lambda$, among the set of candidates provided by the user."
   ]
  },
  {
   "cell_type": "code",
   "execution_count": 11,
   "metadata": {},
   "outputs": [],
   "source": [
    "from sklearn.model_selection import KFold\n",
    "\n",
    "# Used to cross-validate models and identify optimal lambda\n",
    "class CustomCrossValidator:\n",
    "    \n",
    "    \"\"\"\n",
    "    Cross validates arbitrary model using MAPE criterion on\n",
    "    list of lambdas.\n",
    "    \"\"\"\n",
    "    def __init__(self, X, Y, ModelClass,\n",
    "                 sample_weights=None,\n",
    "                 loss_function=mean_absolute_percentage_error):\n",
    "        \n",
    "        self.X = X\n",
    "        self.Y = Y\n",
    "        self.ModelClass = ModelClass\n",
    "        self.loss_function = loss_function\n",
    "        self.sample_weights = sample_weights\n",
    "    \n",
    "    def cross_validate(self, lambdas, num_folds=10):\n",
    "        \"\"\"\n",
    "        lambdas: set of regularization parameters to try\n",
    "        num_folds: number of folds to cross-validate against\n",
    "        \"\"\"\n",
    "        \n",
    "        self.lambdas = lambdas\n",
    "        self.cv_scores = []\n",
    "        X = self.X\n",
    "        Y = self.Y \n",
    "        \n",
    "        # Beta values are not likely to differ dramatically\n",
    "        # between differnt folds. Keeping track of the estimated\n",
    "        # beta coefficients and passing them as starting values\n",
    "        # to the .fit() operator on our model class can significantly\n",
    "        # lower the time it takes for the minimize() function to run\n",
    "        beta_init = None\n",
    "        \n",
    "        for lam in self.lambdas:\n",
    "            print(\"Lambda: {}\".format(lam))\n",
    "            \n",
    "            # Split data into training/holdout sets\n",
    "            kf = KFold(n_splits=num_folds, shuffle=True)\n",
    "            kf.get_n_splits(X)\n",
    "            \n",
    "            # Keep track of the error for each holdout fold\n",
    "            k_fold_scores = []\n",
    "            \n",
    "            # Iterate over folds, using k-1 folds for training\n",
    "            # and the k-th fold for validation\n",
    "            f = 1\n",
    "            for train_index, test_index in kf.split(X):\n",
    "                # Training data\n",
    "                CV_X = X[train_index,:]\n",
    "                CV_Y = Y[train_index]\n",
    "                CV_weights = None\n",
    "                if type(self.sample_weights) != type(None):\n",
    "                    CV_weights = self.sample_weights[train_index]\n",
    "                \n",
    "                # Holdout data\n",
    "                holdout_X = X[test_index,:]\n",
    "                holdout_Y = Y[test_index]\n",
    "                holdout_weights = None\n",
    "                if type(self.sample_weights) != type(None):\n",
    "                    holdout_weights = self.sample_weights[test_index]\n",
    "                \n",
    "                # Fit model to training sample\n",
    "                lambda_fold_model = self.ModelClass(\n",
    "                    regularization=lam,\n",
    "                    X=CV_X,\n",
    "                    Y=CV_Y,\n",
    "                    sample_weights=CV_weights,\n",
    "                    beta_init=beta_init,\n",
    "                    loss_function=self.loss_function\n",
    "                )\n",
    "                lambda_fold_model.fit()\n",
    "                \n",
    "                # Extract beta values to pass as beta_init \n",
    "                # to speed up estimation of the next fold\n",
    "                beta_init = lambda_fold_model.beta\n",
    "                \n",
    "                # Calculate holdout error\n",
    "                fold_preds = lambda_fold_model.predict(holdout_X)\n",
    "                fold_mape = mean_absolute_percentage_error(\n",
    "                    holdout_Y, fold_preds, sample_weights=holdout_weights\n",
    "                )\n",
    "                k_fold_scores.append(fold_mape)\n",
    "                print(\"Fold: {}. Error: {}\".format( f, fold_mape))\n",
    "                f += 1\n",
    "            \n",
    "            # Error associated with each lambda is the average\n",
    "            # of the errors across the k folds\n",
    "            lambda_scores = np.mean(k_fold_scores)\n",
    "            print(\"LAMBDA AVERAGE: {}\".format(lambda_scores))\n",
    "            self.cv_scores.append(lambda_scores)\n",
    "        \n",
    "        # Optimal lambda is that which minimizes the cross-validation error\n",
    "        self.lambda_star_index = np.argmin(self.cv_scores)\n",
    "        self.lambda_star = self.lambdas[self.lambda_star_index]\n",
    "        print(\"\\n\\n**OPTIMAL LAMBDA: {}**\".format(self.lambda_star))"
   ]
  },
  {
   "cell_type": "code",
   "execution_count": 12,
   "metadata": {},
   "outputs": [
    {
     "name": "stdout",
     "output_type": "stream",
     "text": [
      "Lambda: 1\n",
      "Fold: 1. Error: 37.70736919931204\n",
      "Fold: 2. Error: 36.59539972822217\n",
      "Fold: 3. Error: 30.159199395859716\n",
      "Fold: 4. Error: 28.026823039555516\n",
      "Fold: 5. Error: 36.5106662623846\n",
      "LAMBDA AVERAGE: 33.799891525066805\n",
      "Lambda: 0.1\n",
      "Fold: 1. Error: 16.742330362234128\n",
      "Fold: 2. Error: 17.202175960459936\n",
      "Fold: 3. Error: 14.681801319685855\n",
      "Fold: 4. Error: 15.2888782775815\n",
      "Fold: 5. Error: 17.454430901848337\n",
      "LAMBDA AVERAGE: 16.273923364361952\n",
      "Lambda: 0.01\n",
      "Fold: 1. Error: 11.815521826879978\n",
      "Fold: 2. Error: 11.299482024213498\n",
      "Fold: 3. Error: 16.68009174283627\n",
      "Fold: 4. Error: 16.521312983555607\n",
      "Fold: 5. Error: 17.904255723979507\n",
      "LAMBDA AVERAGE: 14.84413286029297\n",
      "Lambda: 0.001\n",
      "Fold: 1. Error: 15.088606483635598\n",
      "Fold: 2. Error: 14.080553661118223\n",
      "Fold: 3. Error: 14.469228192509826\n",
      "Fold: 4. Error: 17.232351982956583\n",
      "Fold: 5. Error: 24.07170014470806\n",
      "LAMBDA AVERAGE: 16.98848809298566\n",
      "Lambda: 0.0001\n",
      "Fold: 1. Error: 17.175599679212027\n",
      "Fold: 2. Error: 26.85279420590986\n",
      "Fold: 3. Error: 14.327939942926607\n",
      "Fold: 4. Error: 21.686903871586818\n",
      "Fold: 5. Error: 12.325073637345838\n",
      "LAMBDA AVERAGE: 18.47366226739623\n",
      "Lambda: 1e-05\n",
      "Fold: 1. Error: 21.330405966237638\n",
      "Fold: 2. Error: 15.491993091074216\n",
      "Fold: 3. Error: 15.471548321991305\n",
      "Fold: 4. Error: 17.324376705345156\n",
      "Fold: 5. Error: 15.504657241945976\n",
      "LAMBDA AVERAGE: 17.02459626531886\n",
      "Lambda: 1e-06\n",
      "Fold: 1. Error: 16.61058271143524\n",
      "Fold: 2. Error: 13.945473664600302\n",
      "Fold: 3. Error: 15.833777870872437\n",
      "Fold: 4. Error: 22.501321885364305\n",
      "Fold: 5. Error: 17.439738169583936\n",
      "LAMBDA AVERAGE: 17.266178860371244\n",
      "\n",
      "\n",
      "**OPTIMAL LAMBDA: 0.01**\n"
     ]
    }
   ],
   "source": [
    "# User must specify lambdas over which to search\n",
    "lambdas = [1, 0.1, 0.01, 0.001, 0.0001, 0.00001, 0.000001]\n",
    "\n",
    "cross_validator = CustomCrossValidator(\n",
    "    X, Y, CustomLinearModel,\n",
    "    loss_function=mean_absolute_percentage_error\n",
    ")\n",
    "cross_validator.cross_validate(lambdas, num_folds=5)"
   ]
  },
  {
   "cell_type": "markdown",
   "metadata": {},
   "source": [
    "After identifying the optimal $\\lambda$ for your model/dataset, you will want to fit your final model using this value on the entire training dataset."
   ]
  },
  {
   "cell_type": "code",
   "execution_count": 13,
   "metadata": {},
   "outputs": [
    {
     "data": {
      "text/plain": [
       "array([5.5651638 , 3.97915803, 8.9876656 , 3.72472547, 3.62855902,\n",
       "       7.54186139, 0.24154393, 1.777476  , 1.28517917, 5.69645692])"
      ]
     },
     "execution_count": 13,
     "metadata": {},
     "output_type": "execute_result"
    }
   ],
   "source": [
    "lambda_star = cross_validator.lambda_star\n",
    "final_model = CustomLinearModel(\n",
    "    loss_function=mean_absolute_percentage_error,\n",
    "    X=X, Y=Y, regularization=lambda_star\n",
    ")\n",
    "final_model.fit()\n",
    "final_model.beta"
   ]
  },
  {
   "cell_type": "markdown",
   "metadata": {},
   "source": [
    "You can then generate out-of-sample predictions using this final, fully optimized model."
   ]
  },
  {
   "cell_type": "code",
   "execution_count": 14,
   "metadata": {},
   "outputs": [
    {
     "data": {
      "text/plain": [
       "array([29.21630071, 26.66963116, 23.91469503, 18.04085737, 19.92362317,\n",
       "       17.00326261, 16.78961617, 15.1117658 , 14.01058483, 18.5042368 ])"
      ]
     },
     "execution_count": 14,
     "metadata": {},
     "output_type": "execute_result"
    }
   ],
   "source": [
    "test_data = np.random.random((10,10))\n",
    "final_model.predict(test_data)"
   ]
  },
  {
   "cell_type": "code",
   "execution_count": null,
   "metadata": {},
   "outputs": [],
   "source": []
  }
 ],
 "metadata": {
  "kernelspec": {
   "display_name": "Python 3",
   "language": "python",
   "name": "python3"
  },
  "language_info": {
   "codemirror_mode": {
    "name": "ipython",
    "version": 3
   },
   "file_extension": ".py",
   "mimetype": "text/x-python",
   "name": "python",
   "nbconvert_exporter": "python",
   "pygments_lexer": "ipython3",
   "version": "3.4.2"
  }
 },
 "nbformat": 4,
 "nbformat_minor": 2
}
